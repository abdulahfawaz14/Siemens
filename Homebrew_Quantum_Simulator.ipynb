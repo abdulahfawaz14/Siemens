{
 "cells": [
  {
   "cell_type": "code",
   "execution_count": 5,
   "metadata": {},
   "outputs": [
    {
     "name": "stderr",
     "output_type": "stream",
     "text": [
      "[NbConvertApp] Converting notebook IBMQ_Sim.ipynb to script\n",
      "[NbConvertApp] Writing 13466 bytes to IBMQ_Sim.py\n"
     ]
    }
   ],
   "source": [
    "!jupyter nbconvert --to script IBMQ_Sim.ipynb"
   ]
  },
  {
   "cell_type": "code",
   "execution_count": 3,
   "metadata": {
    "collapsed": true
   },
   "outputs": [],
   "source": [
    "import numpy as np\n",
    "from matplotlib import pyplot as plt\n",
    "import math\n",
    "import qutip\n",
    "import pandas as pd\n",
    "from qiskit.tools.qi.qi import partial_trace\n",
    "import scipy\n",
    "from random import shuffle\n",
    "import random"
   ]
  },
  {
   "cell_type": "code",
   "execution_count": 5,
   "metadata": {},
   "outputs": [],
   "source": [
    "b=np.load('bars_n_stripes_dataset.npy')\n"
   ]
  },
  {
   "cell_type": "code",
   "execution_count": 14,
   "metadata": {},
   "outputs": [],
   "source": [
    "b2=np.transpose(b)\n"
   ]
  },
  {
   "cell_type": "code",
   "execution_count": 24,
   "metadata": {},
   "outputs": [
    {
     "data": {
      "text/plain": [
       "array([[ 0.,  0.,  0.,  0.,  0.,  0.,  1.,  1.,  1.],\n",
       "       [ 0.,  0.,  0.,  1.,  1.,  1.,  0.,  0.,  0.],\n",
       "       [ 0.,  0.,  0.,  1.,  1.,  1.,  1.,  1.,  1.],\n",
       "       [ 1.,  1.,  1.,  0.,  0.,  0.,  0.,  0.,  0.],\n",
       "       [ 1.,  1.,  1.,  0.,  0.,  0.,  1.,  1.,  1.],\n",
       "       [ 1.,  1.,  1.,  1.,  1.,  1.,  0.,  0.,  0.],\n",
       "       [ 0.,  0.,  1.,  0.,  0.,  1.,  0.,  0.,  1.],\n",
       "       [ 0.,  1.,  0.,  0.,  1.,  0.,  0.,  1.,  0.],\n",
       "       [ 0.,  1.,  1.,  0.,  1.,  1.,  0.,  1.,  1.],\n",
       "       [ 1.,  0.,  0.,  1.,  0.,  0.,  1.,  0.,  0.],\n",
       "       [ 1.,  0.,  1.,  1.,  0.,  1.,  1.,  0.,  1.],\n",
       "       [ 1.,  1.,  0.,  1.,  1.,  0.,  1.,  1.,  0.]])"
      ]
     },
     "execution_count": 24,
     "metadata": {},
     "output_type": "execute_result"
    }
   ],
   "source": [
    "b2[:,:9]"
   ]
  },
  {
   "cell_type": "code",
   "execution_count": 25,
   "metadata": {},
   "outputs": [
    {
     "ename": "NameError",
     "evalue": "name 'min_max_norm' is not defined",
     "output_type": "error",
     "traceback": [
      "\u001b[1;31m---------------------------------------------------------------------------\u001b[0m",
      "\u001b[1;31mNameError\u001b[0m                                 Traceback (most recent call last)",
      "\u001b[1;32m<ipython-input-25-f2aa0fa443b7>\u001b[0m in \u001b[0;36m<module>\u001b[1;34m()\u001b[0m\n\u001b[1;32m----> 1\u001b[1;33m \u001b[0mb2\u001b[0m\u001b[1;33m=\u001b[0m\u001b[0mmin_max_norm\u001b[0m\u001b[1;33m(\u001b[0m\u001b[1;33m)\u001b[0m\u001b[1;33m\u001b[0m\u001b[0m\n\u001b[0m\u001b[0;32m      2\u001b[0m \u001b[0mb2\u001b[0m\u001b[1;33m[\u001b[0m\u001b[1;33m:\u001b[0m\u001b[1;33m,\u001b[0m\u001b[1;33m:\u001b[0m\u001b[1;36m9\u001b[0m\u001b[1;33m]\u001b[0m\u001b[1;33m=\u001b[0m\u001b[0mmin_max_norm\u001b[0m\u001b[1;33m(\u001b[0m\u001b[0mb2\u001b[0m\u001b[1;33m[\u001b[0m\u001b[1;33m:\u001b[0m\u001b[1;33m,\u001b[0m\u001b[1;33m:\u001b[0m\u001b[1;36m9\u001b[0m\u001b[1;33m]\u001b[0m\u001b[1;33m,\u001b[0m \u001b[1;36m0\u001b[0m\u001b[1;33m,\u001b[0m\u001b[1;36m0.5\u001b[0m\u001b[1;33m*\u001b[0m\u001b[0mmath\u001b[0m\u001b[1;33m.\u001b[0m\u001b[0mpi\u001b[0m\u001b[1;33m)\u001b[0m\u001b[1;33m\u001b[0m\u001b[0m\n",
      "\u001b[1;31mNameError\u001b[0m: name 'min_max_norm' is not defined"
     ]
    }
   ],
   "source": [
    "b2=min_max_norm()\n",
    "b2[:,:9]=min_max_norm(b2[:,:9], 0,0.5*math.pi)"
   ]
  },
  {
   "cell_type": "markdown",
   "metadata": {
    "collapsed": true
   },
   "source": [
    "# Import Data"
   ]
  },
  {
   "cell_type": "markdown",
   "metadata": {},
   "source": [
    "## IRIS"
   ]
  },
  {
   "cell_type": "code",
   "execution_count": 83,
   "metadata": {
    "collapsed": true
   },
   "outputs": [],
   "source": [
    "#Import and fix IRIS\n",
    "iris = pd.read_csv('Iris.csv', header=None)\n",
    "iris=np.array(iris)\n",
    "\n",
    "iris=np.array(iris)#numericalise the labels\n",
    "\n",
    "iris[:,4][iris[:,4] == 'setosa']=1\n",
    "iris[:,4][iris[:,4] == 'versicolor']=2\n",
    "iris[:,4][iris[:,4] == 'virginica']=3\n",
    "\n",
    "iris[:,:4]=min_max_norm(iris[:,:4], 0,0.5*math.pi)"
   ]
  },
  {
   "cell_type": "code",
   "execution_count": 26,
   "metadata": {
    "collapsed": true
   },
   "outputs": [],
   "source": [
    "def full_tensor(sequence):\n",
    "    \"\"\"tensor product of a sequence in the form of a list of arrays\"\"\" \n",
    "    for k in range(len(sequence)-1):\n",
    "        if k==0:\n",
    "            a=sequence[0]\n",
    "        a=np.array(np.kron(a,sequence[k+1]), dtype=complex)\n",
    "    return a\n",
    "\n",
    "\n",
    "def blockshaped(arr, nrows, ncols):\n",
    "    #taken from online. this splits arrays into blocks of given size as described below. will need for partial tracing\n",
    "    \"\"\"\n",
    "    Return an array of shape (n, nrows, ncols) where\n",
    "    n * nrows * ncols = arr.size\n",
    "\n",
    "    If arr is a 2D array, the returned array should look like n subblocks with\n",
    "    each subblock preserving the \"physical\" layout of arr.\n",
    "    \"\"\"\n",
    "    h, w = arr.shape\n",
    "    return (arr.reshape(h//nrows, nrows, -1, ncols)\n",
    "               .swapaxes(1,2)\n",
    "               .reshape(-1, nrows, ncols))\n",
    "\n",
    "\n",
    "\n",
    "def evaluate_MPS(params, training_data, ancilla,rounding):\n",
    "    answers=np.zeros(training_data.shape[0])\n",
    "    L=training_data.shape[1]-1\n",
    "    for i in range(training_data.shape[0]):\n",
    "        \"\"\"FOR EACH DATA POINT\"\"\"\n",
    "        \"\"\"Lets Encode the data elements first\"\"\"\n",
    "        \n",
    "        psi=np.real(initial_encode(training_data[i,:L],ancilla))\n",
    "        psi=np.reshape(psi,(2**total,1))\n",
    "        \"\"\"Stage 1: Unitaries on all of the qubits, ancilla or not\"\"\"\n",
    "        for j in range(total):\n",
    "            psi=np.matmul(ry(params[j],j,total),psi)\n",
    "            \"\"\"Stage 2: CNOT plus unitary for N-1 times (cascading)\"\"\"\n",
    "        for j in range(total-1):\n",
    "            psi=np.matmul(cnot(j,j+1,total),psi)\n",
    "            psi=np.matmul(ry(params[total+j],j+1,total),psi)\n",
    "        \"\"\"Stage 3: Trace and Measure\"\"\"\n",
    "        zero_prob=prob_zero(keep_last(psi,total))\n",
    "        \"\"\"Stage 4: Calculate Cost\"\"\"\n",
    "        answers[i]=eval_cost(zero_prob,training_data[i,L],rounding)\n",
    "\n",
    "    total_cost=np.sum(answers)/training_data.shape[0]\n",
    "    return total_cost\n",
    "\n",
    "def evaluate_MPS_plotter(params, training_data, ancilla,rounding):\n",
    "    guesses=np.zeros(training_data.shape[0])\n",
    "    L=training_data.shape[1]-1\n",
    "    for i in range(training_data.shape[0]):\n",
    "        \"\"\"FOR EACH DATA POINT\"\"\"\n",
    "        \"\"\"Lets Encode the data elements first\"\"\"\n",
    "        \n",
    "        psi=initial_encode(training_data[i,:L],ancilla)\n",
    "        \"\"\"Stage 1: Unitaries on all of the qubits, ancilla or not\"\"\"\n",
    "        for j in range(total):\n",
    "            psi=np.matmul(ry(params[j],j,total),psi)\n",
    "            \"\"\"Stage 2: CNOT plus unitary for N-1 times (cascading)\"\"\"\n",
    "        for j in range(total-1):\n",
    "            psi=np.matmul(cnot(j,j+1,total),psi)\n",
    "            psi=np.matmul(ry(params[total+j],j+1,total),psi)\n",
    "        \"\"\"Stage 3: Trace and Measure\"\"\"\n",
    "        zero_prob=prob_zero(keep_last(psi,total))\n",
    "        \"\"\"Stage 4: Calculate Cost\"\"\"\n",
    "        guesses[i]=1-round(zero_prob)\n",
    "    return guesses\n",
    "\n",
    "def evaluate_4TTN(params, training_data, ancilla,rounding):\n",
    "    answers=np.zeros(training_data.shape[0])\n",
    "    L=training_data.shape[1]-1\n",
    "    for i in range(training_data.shape[0]):\n",
    "        \"\"\"FOR EACH DATA POINT\"\"\"\n",
    "        \"\"\"Lets Encode the data elements first\"\"\"\n",
    "        \n",
    "        psi=initial_encode(training_data[i,:L],ancilla)\n",
    "        \"\"\"Stage 1: Unitaries on all of the qubits, ancilla or not\"\"\"\n",
    "        for j in range(total):\n",
    "            psi=np.matmul(ry(params[j],j,total),psi)\n",
    "            \"\"\"Stage 2: CNOT plus unitary for N-1 times (cascading)\"\"\"\n",
    "        j=0\n",
    "        psi=np.matmul(cnot(j,j+1,total),psi)\n",
    "        psi=np.matmul(ry(params[total],j+1,total),psi)\n",
    "        j=3\n",
    "        psi=np.matmul(cnot(j,j-1,total),psi)\n",
    "        psi=np.matmul(ry(params[total+1],j-1,total),psi)\n",
    "        j=1\n",
    "        psi=np.matmul(cnot(j,j+1,total),psi)\n",
    "        psi=np.matmul(ry(params[total+2],j+1,total),psi)        \n",
    "        \"\"\"Stage 3: Trace and Measure\"\"\"\n",
    "        zero_prob=prob_zero(keep_n(psi,total,2))\n",
    "        \"\"\"Stage 4: Calculate Cost\"\"\"\n",
    "        answers[i]=eval_cost(zero_prob,training_data[i,L],rounding)\n",
    "    total_cost=np.sum(answers)/training_data.shape[0]\n",
    "    return total_cost\n",
    "\n",
    "def evaluate_4TTN_plotter(params, training_data, ancilla,rounding):\n",
    "    guesses=np.zeros(training_data.shape[0])\n",
    "    L=training_data.shape[1]-1\n",
    "    for i in range(training_data.shape[0]):\n",
    "        \"\"\"FOR EACH DATA POINT\"\"\"\n",
    "        \"\"\"Lets Encode the data elements first\"\"\"\n",
    "        \n",
    "        psi=initial_encode(training_data[i,:L],ancilla)\n",
    "        \"\"\"Stage 1: Unitaries on all of the qubits, ancilla or not\"\"\"\n",
    "        for j in range(total):\n",
    "            psi=np.matmul(ry(params[j],j,total),psi)\n",
    "            \"\"\"Stage 2: CNOT plus unitary for N-1 times (cascading)\"\"\"\n",
    "        j=0\n",
    "        psi=np.matmul(cnot(j,j+1,total),psi)\n",
    "        psi=np.matmul(ry(params[total],j+1,total),psi)\n",
    "        j=3\n",
    "        psi=np.matmul(cnot(j,j-1,total),psi)\n",
    "        psi=np.matmul(ry(params[total+1],j-1,total),psi)\n",
    "        j=1\n",
    "        psi=np.matmul(cnot(j,j+1,total),psi)\n",
    "        psi=np.matmul(ry(params[total+2],j+1,total),psi)        \n",
    "        \"\"\"Stage 3: Trace and Measure\"\"\"\n",
    "        zero_prob=prob_zero(keep_n(psi,total,2))\n",
    "        \"\"\"Stage 4: Calculate Cost\"\"\"\n",
    "        guesses[i]=1-round(zero_prob)\n",
    "    return guesses\n",
    "    return total_cost\n",
    "\n",
    "def evaluate_4TTN_closed(params, training_data, ancilla,rounding):\n",
    "    answers=np.zeros(training_data.shape[0])\n",
    "    L=training_data.shape[1]-1\n",
    "    for i in range(training_data.shape[0]):\n",
    "        \"\"\"FOR EACH DATA POINT\"\"\"\n",
    "        \"\"\"Lets Encode the data elements first\"\"\"\n",
    "        \n",
    "        psi=initial_encode(training_data[i,:L],ancilla)\n",
    "        \"\"\"Stage 1: Unitaries on all of the qubits, ancilla or not\"\"\"\n",
    "        for j in range(total):\n",
    "            psi=np.matmul(ry(params[j],j,total),psi)\n",
    "            \"\"\"Stage 2: CNOT plus unitary for N-1 times (cascading)\"\"\"\n",
    "        \n",
    "        j=0\n",
    "        psi=np.matmul(cnot(j,j+1,total),psi)\n",
    "        psi=np.matmul(ry(params[total],j+1,total),psi)\n",
    "        j=3\n",
    "        psi=np.matmul(cnot(j,j-1,total),psi)\n",
    "        psi=np.matmul(ry(params[total+1],j-1,total),psi)\n",
    "        j=1\n",
    "        psi=np.matmul(cnot(j,j+1,total),psi)\n",
    "        psi=np.matmul(ry(params[total+2],j+1,total),psi)        \n",
    "        \"\"\"Stage 3: Trace and Measure\"\"\"\n",
    "        zero_prob=prob_zero(keep_n(psi,total,2))\n",
    "        \"\"\"Stage 4: Calculate Cost\"\"\"\n",
    "        answers[i]=eval_cost(zero_prob,training_data[i,L],rounding)\n",
    "    total_cost=np.sum(answers)#/training_data.shape[0]\n",
    "    return total_cost"
   ]
  },
  {
   "cell_type": "code",
   "execution_count": 2,
   "metadata": {},
   "outputs": [
    {
     "ename": "NameError",
     "evalue": "name 'np' is not defined",
     "output_type": "error",
     "traceback": [
      "\u001b[1;31m---------------------------------------------------------------------------\u001b[0m",
      "\u001b[1;31mNameError\u001b[0m                                 Traceback (most recent call last)",
      "\u001b[1;32m<ipython-input-2-153ff6e253e9>\u001b[0m in \u001b[0;36m<module>\u001b[1;34m()\u001b[0m\n\u001b[1;32m----> 1\u001b[1;33m \u001b[0mnp\u001b[0m\u001b[1;33m.\u001b[0m\u001b[0mload\u001b[0m\u001b[1;33m(\u001b[0m\u001b[1;34m'bars_n_strips_dataset.npy'\u001b[0m\u001b[1;33m)\u001b[0m\u001b[1;33m\u001b[0m\u001b[0m\n\u001b[0m",
      "\u001b[1;31mNameError\u001b[0m: name 'np' is not defined"
     ]
    }
   ],
   "source": [
    "np.load('bars_n_strips_dataset.npy')"
   ]
  },
  {
   "cell_type": "markdown",
   "metadata": {},
   "source": [
    "# Useful Functions\n"
   ]
  },
  {
   "cell_type": "code",
   "execution_count": 39,
   "metadata": {
    "collapsed": true
   },
   "outputs": [],
   "source": [
    "def evaluate_MPS_double(params, training_data, ancilla,rounding):\n",
    "    answers=np.zeros(training_data.shape[0])\n",
    "    L=training_data.shape[1]-1\n",
    "    for i in range(training_data.shape[0]):\n",
    "        \"\"\"FOR EACH DATA POINT\"\"\"\n",
    "        \"\"\"Lets Encode the data elements first\"\"\"\n",
    "        \n",
    "        #psi=initial_encode(training_data[i,:L],ancilla)\n",
    "        norm1=(training_data[i,0]**2+training_data[i,1]**2)**0.5\n",
    "        norm2=(training_data[i,2]**2+training_data[i,3]**2)**0.5\n",
    "        psi=np.kron(np.array([training_data[i,0]/norm1, training_data[i,1]/norm1]),np.array([training_data[i,2]/norm2, training_data[i,3]/norm2]))\n",
    "        psi=np.reshape(psi,(2**total,1))\n",
    "        \"\"\"Stage 1: Unitaries on all of the qubits, ancilla or not\"\"\"\n",
    "        for j in range(total):\n",
    "            psi=np.matmul(ry(params[j],j,total),psi)\n",
    "            \"\"\"Stage 2: CNOT plus unitary for N-1 times (cascading)\"\"\"\n",
    "        psi=np.matmul(cnot(0,1,total),psi)\n",
    "        for j in range(total):\n",
    "            psi=np.matmul(ry(params[total+j],j,total),psi)\n",
    "        psi=np.matmul(cnot(1,0,total),psi)\n",
    "        \n",
    "        psi=np.matmul(ry(params[4],0,total),psi)\n",
    "        dm=np.kron(np.transpose(psi),psi)\n",
    "        dm=np.reshape(dm,(2**total,2**total))\n",
    "        dm=partial_trace(dm,[1])\n",
    "        \"\"\"Stage 3: Trace and Measure\"\"\"\n",
    "        zero_prob=prob_zero(dm)\n",
    "        \"\"\"Stage 4: Calculate Cost\"\"\"\n",
    "        answers[i]=eval_cost(zero_prob,training_data[i,4],rounding)\n",
    "\n",
    "    total_cost=np.sum(answers)/training_data.shape[0]\n",
    "    return total_cost\n",
    "\n",
    "def evaluate_MPS_double2(params, training_data, ancilla,rounding):\n",
    "    answers=np.zeros(training_data.shape[0])\n",
    "    L=training_data.shape[1]-1\n",
    "    for i in range(training_data.shape[0]):\n",
    "        \"\"\"FOR EACH DATA POINT\"\"\"\n",
    "        \"\"\"Lets Encode the data elements first\"\"\"\n",
    "        \n",
    "        #psi=initial_encode(training_data[i,:L],ancilla)\n",
    "        norm1=(training_data[i,0]**2+training_data[i,1]**2)**0.5\n",
    "        norm2=(training_data[i,2]**2+training_data[i,3]**2)**0.5\n",
    "        psi=np.kron(np.array([training_data[i,0]/norm1, training_data[i,1]/norm1]),np.array([training_data[i,2]/norm2, training_data[i,3]/norm2]))\n",
    "        \"\"\"Stage 1: Unitaries on all of the qubits, ancilla or not\"\"\"\n",
    "        for j in range(1):\n",
    "            psi=np.matmul(ry(params[0],0,total),psi)\n",
    "            \"\"\"Stage 2: CNOT plus unitary for N-1 times (cascading)\"\"\"\n",
    "        psi=np.matmul(cnot(0,1,total),psi)\n",
    "        for j in range(1):\n",
    "            psi=np.matmul(ry(params[1],1,total),psi)\n",
    "        psi=np.matmul(cnot(1,0,total),psi)\n",
    "        \n",
    "        psi=np.matmul(ry(params[2],0,total),psi)\n",
    "        dm=np.kron(np.transpose(psi),psi)\n",
    "        dm=np.reshape(dm,(2**total,2**total))\n",
    "        dm=partial_trace(dm,[1])\n",
    "        \"\"\"Stage 3: Trace and Measure\"\"\"\n",
    "        zero_prob=prob_zero(dm)\n",
    "        \"\"\"Stage 4: Calculate Cost\"\"\"\n",
    "        answers[i]=eval_cost(zero_prob,training_data[i,4],rounding)\n",
    "\n",
    "    total_cost=np.sum(answers)/training_data.shape[0]\n",
    "    return total_cost\n",
    "\n",
    "def evaluate_MPS2(params, training_data, ancilla,rounding):\n",
    "    answers=np.zeros(training_data.shape[0])\n",
    "    L=training_data.shape[1]-1\n",
    "    for i in range(training_data.shape[0]):\n",
    "        \"\"\"FOR EACH DATA POINT\"\"\"\n",
    "        \"\"\"Lets Encode the data elements first\"\"\"\n",
    "        \n",
    "        psi=np.real(initial_encode2(training_data[i,:L],ancilla))\n",
    "        psi=np.reshape(psi,(2**total,1))\n",
    "        \"\"\"Stage 1: Unitaries on all of the qubits, ancilla or not\"\"\"\n",
    "        for j in range(total):\n",
    "            psi=np.matmul(ry(params[j],j,total),psi)\n",
    "            \"\"\"Stage 2: CNOT plus unitary for N-1 times (cascading)\"\"\"\n",
    "        for j in range(total-1):\n",
    "            psi=np.matmul(cnot(j,j+1,total),psi)\n",
    "            psi=np.matmul(ry(params[total+j],j+1,total),psi)\n",
    "        \"\"\"Stage 3: Trace and Measure\"\"\"\n",
    "        zero_prob=prob_zero(keep_last(psi,total))\n",
    "        \"\"\"Stage 4: Calculate Cost\"\"\"\n",
    "        answers[i]=eval_cost(zero_prob,training_data[i,L],rounding)\n",
    "\n",
    "    total_cost=np.sum(answers)/training_data.shape[0]\n",
    "    return total_cost"
   ]
  },
  {
   "cell_type": "code",
   "execution_count": 24,
   "metadata": {
    "collapsed": true
   },
   "outputs": [],
   "source": [
    "xtrain=np.load(\"ae_x_train.npy\")\n",
    "xtest=np.load(\"ae_x_test.npy\")\n",
    "ytrain=np.load(\"ae_y_train.npy\")\n",
    "ytest=np.load(\"ae_y_test.npy\")\n"
   ]
  },
  {
   "cell_type": "code",
   "execution_count": 28,
   "metadata": {},
   "outputs": [
    {
     "data": {
      "text/plain": [
       "array([0.34906585039886573, 0.26179938779914963, 0.17453292519943306,\n",
       "       0.13089969389957462, 0.3054326190990077, 0.47996554429844074,\n",
       "       0.13089969389957462, 0.3054326190990077, 0.043633231299858466,\n",
       "       0.26179938779914963, 0.47996554429844074, 0.21816615649929116,\n",
       "       0.21816615649929116, 0.0, 0.6544984694978735, 0.6108652381980154,\n",
       "       0.47996554429844074, 0.34906585039886573, 0.6108652381980154,\n",
       "       0.34906585039886573, 0.47996554429844074, 0.34906585039886573,\n",
       "       0.13089969389957462, 0.34906585039886573, 0.21816615649929116,\n",
       "       0.3054326190990077, 0.3054326190990077, 0.39269908169872425,\n",
       "       0.39269908169872425, 0.17453292519943306, 0.21816615649929116,\n",
       "       0.47996554429844074, 1.1780972450961722, 0.9162978572970231,\n",
       "       1.1344640137963142, 0.5235987755982988, 0.9599310885968811,\n",
       "       0.6108652381980154, 0.8726646259971647, 0.26179938779914963,\n",
       "       1.0035643198967392, 0.39269908169872425, 0.3054326190990077,\n",
       "       0.6981317007977319, 0.74176493209759, 0.7853981633974481,\n",
       "       0.5672320068981569, 1.0471975511965976, 0.5672320068981569,\n",
       "       0.6544984694978735, 0.8290313946973066, 0.5672320068981569,\n",
       "       0.6981317007977319, 0.7853981633974481, 0.8726646259971647,\n",
       "       0.7853981633974481, 0.9162978572970231, 1.0035643198967392,\n",
       "       1.0908307824964558, 1.0471975511965976, 0.74176493209759,\n",
       "       0.6108652381980154, 0.5235987755982988, 0.5235987755982988,\n",
       "       0.6544984694978735, 0.74176493209759], dtype=object)"
      ]
     },
     "execution_count": 28,
     "metadata": {},
     "output_type": "execute_result"
    }
   ],
   "source": [
    "easy_iris[:,0]"
   ]
  },
  {
   "cell_type": "code",
   "execution_count": 45,
   "metadata": {
    "collapsed": true
   },
   "outputs": [],
   "source": [
    "xtest2=np.reshape(xtest,(10000,8))"
   ]
  },
  {
   "cell_type": "code",
   "execution_count": 49,
   "metadata": {
    "collapsed": true
   },
   "outputs": [],
   "source": [
    "ae_test=np.zeros(shape=(10000,9))"
   ]
  },
  {
   "cell_type": "code",
   "execution_count": 50,
   "metadata": {
    "collapsed": true
   },
   "outputs": [],
   "source": [
    "ae_test[:,:8]=xtest2\n",
    "ae_test[:,8]=ytest"
   ]
  },
  {
   "cell_type": "code",
   "execution_count": 53,
   "metadata": {
    "collapsed": true
   },
   "outputs": [],
   "source": [
    "ae_training=np.load('ae_training.npy.npz')"
   ]
  },
  {
   "cell_type": "code",
   "execution_count": 57,
   "metadata": {
    "collapsed": true
   },
   "outputs": [],
   "source": [
    "np.save('ae_test',ae_test)"
   ]
  },
  {
   "cell_type": "code",
   "execution_count": 64,
   "metadata": {},
   "outputs": [
    {
     "data": {
      "text/plain": [
       "array([[ 0.44089642,  0.70917171,  0.28559935, ...,  0.48362085,\n",
       "         0.36177436,  5.        ],\n",
       "       [ 0.3676576 ,  0.4269428 ,  0.29827464, ...,  0.38662362,\n",
       "         0.34888777,  4.        ],\n",
       "       [ 0.30929083,  0.11967061,  0.31250951, ...,  0.92814213,\n",
       "         0.40425175,  1.        ],\n",
       "       ..., \n",
       "       [ 0.51871461,  0.93525344,  0.20341949, ...,  0.4399597 ,\n",
       "         0.60655528,  5.        ],\n",
       "       [ 0.96642524,  0.06569592,  0.47728673, ...,  0.16566738,\n",
       "         0.0604299 ,  6.        ],\n",
       "       [ 0.29146796,  0.51308995,  0.06714688, ...,  0.93259466,\n",
       "         0.20202608,  8.        ]])"
      ]
     },
     "execution_count": 64,
     "metadata": {},
     "output_type": "execute_result"
    }
   ],
   "source": [
    "ae_training[ae_training[:,8]==0][:100,:]\n",
    "ae_training[ae_training[:,8]!=0]"
   ]
  },
  {
   "cell_type": "code",
   "execution_count": 76,
   "metadata": {
    "collapsed": true
   },
   "outputs": [],
   "source": [
    "learning_zero=np.zeros(shape=(400,9))\n",
    "learning_zero[:100,:]=ae_training[ae_training[:,8]==0][:100,:]\n",
    "learning_zero[100:,:]=ae_training[ae_training[:,8]!=0][:300,:]\n",
    "learning_zero[100:,8]=1"
   ]
  },
  {
   "cell_type": "code",
   "execution_count": 92,
   "metadata": {
    "collapsed": true
   },
   "outputs": [],
   "source": [
    "np.save('learning_zero_train',learning_zero)"
   ]
  },
  {
   "cell_type": "code",
   "execution_count": 60,
   "metadata": {},
   "outputs": [
    {
     "data": {
      "text/plain": [
       "1"
      ]
     },
     "execution_count": 60,
     "metadata": {},
     "output_type": "execute_result"
    }
   ],
   "source": [
    "the_zeros=ae_training[:,ae_training[:,8]==0"
   ]
  },
  {
   "cell_type": "code",
   "execution_count": 79,
   "metadata": {},
   "outputs": [
    {
     "data": {
      "text/plain": [
       "array([0, 0, 0, 0, 0, 0, 0, 0, 0, 0, 0, 0, 0, 0, 0, 0, 0, 0, 0, 0, 0, 0, 0,\n",
       "       0, 0, 0, 0, 0, 0, 0, 0, 0, -1, -1, -1, -1, -1, -1, -1, -1, -1, -1,\n",
       "       -1, -1, -1, -1, -1, -1, -1, -1, -1, -1, -1, -1, -1, -1, -1, -1, -1,\n",
       "       -1, -1, -1, -1, -1, -1, -1], dtype=object)"
      ]
     },
     "execution_count": 79,
     "metadata": {},
     "output_type": "execute_result"
    }
   ],
   "source": [
    "easy_iris[:,4]"
   ]
  },
  {
   "cell_type": "code",
   "execution_count": 82,
   "metadata": {
    "collapsed": true
   },
   "outputs": [],
   "source": [
    "learning_zero[:,:8]=min_max_norm(learning_zero[:,:8], 0,0.5*math.pi)"
   ]
  },
  {
   "cell_type": "code",
   "execution_count": 112,
   "metadata": {},
   "outputs": [
    {
     "name": "stdout",
     "output_type": "stream",
     "text": [
      "4\n",
      "0.177966101695\n"
     ]
    },
    {
     "data": {
      "text/plain": [
       "0.0"
      ]
     },
     "execution_count": 112,
     "metadata": {},
     "output_type": "execute_result"
    }
   ],
   "source": [
    "rounding=0\n",
    "no_qubits=4\n",
    "ancilla=0\n",
    "total=no_qubits+ancilla\n",
    "print(total)\n",
    "data=iris_hard\n",
    "data1,data2=shuffle_data(data,8)\n",
    "params=initialise_params(2*(total)-1)\n",
    "function=evaluate_MPS2\n",
    "params=scipy.optimize.minimize(function,params,args=(data1,ancilla,0), method='CG')['x']\n",
    "print(function(params,data1,ancilla,rounding=1))\n",
    "function(params,data2,ancilla,rounding=1)"
   ]
  },
  {
   "cell_type": "code",
   "execution_count": 113,
   "metadata": {},
   "outputs": [
    {
     "data": {
      "text/plain": [
       "array([-0.06157075, -0.06907327,  0.85949674,  0.13377883,  0.26224655,\n",
       "       -0.19760237, -0.84947991])"
      ]
     },
     "execution_count": 113,
     "metadata": {},
     "output_type": "execute_result"
    }
   ],
   "source": [
    "params/math.pi"
   ]
  },
  {
   "cell_type": "code",
   "execution_count": 114,
   "metadata": {},
   "outputs": [
    {
     "data": {
      "text/plain": [
       "array([0, 1, 0, 1, 1, 0, 1, 1], dtype=object)"
      ]
     },
     "execution_count": 114,
     "metadata": {},
     "output_type": "execute_result"
    }
   ],
   "source": [
    "data2[:,4]"
   ]
  },
  {
   "cell_type": "code",
   "execution_count": 52,
   "metadata": {},
   "outputs": [
    {
     "data": {
      "text/plain": [
       "array([0, 0, 0, 1, 0, 0, 0, 1, 1, 0], dtype=object)"
      ]
     },
     "execution_count": 52,
     "metadata": {},
     "output_type": "execute_result"
    }
   ],
   "source": [
    "easy_iris_test[:,4]"
   ]
  },
  {
   "cell_type": "code",
   "execution_count": 115,
   "metadata": {
    "collapsed": true
   },
   "outputs": [],
   "source": [
    "np.save('NEW_MPS_hardiris_good', params)"
   ]
  },
  {
   "cell_type": "code",
   "execution_count": 107,
   "metadata": {},
   "outputs": [
    {
     "data": {
      "text/plain": [
       "0.1875"
      ]
     },
     "execution_count": 107,
     "metadata": {},
     "output_type": "execute_result"
    }
   ],
   "source": [
    "params=np.load('NEW_MPS_hardiris_params.npy')\n",
    "function(params,data2,ancilla,rounding=1)"
   ]
  },
  {
   "cell_type": "code",
   "execution_count": null,
   "metadata": {
    "collapsed": true
   },
   "outputs": [],
   "source": []
  },
  {
   "cell_type": "code",
   "execution_count": 91,
   "metadata": {},
   "outputs": [
    {
     "data": {
      "text/plain": [
       "array([ 3.64724578,  2.06581556,  0.3612934 , -1.94680781, -1.23262464,\n",
       "       -0.15211161, -0.361956  , -1.59572411,  1.97289869, -1.365741  ,\n",
       "        0.34056191,  0.66542607, -0.56977922, -0.53991641,  0.92089025,\n",
       "       -0.69921607, -2.4248023 ])"
      ]
     },
     "execution_count": 91,
     "metadata": {},
     "output_type": "execute_result"
    }
   ],
   "source": [
    "params"
   ]
  },
  {
   "cell_type": "code",
   "execution_count": 30,
   "metadata": {
    "collapsed": true
   },
   "outputs": [],
   "source": [
    "learning_zero=np.load('learning_zero_train.npy')"
   ]
  },
  {
   "cell_type": "code",
   "execution_count": null,
   "metadata": {
    "collapsed": true
   },
   "outputs": [],
   "source": []
  },
  {
   "cell_type": "code",
   "execution_count": 93,
   "metadata": {
    "collapsed": true
   },
   "outputs": [],
   "source": [
    "np.save('8MPS_identifyingzero',params)"
   ]
  },
  {
   "cell_type": "code",
   "execution_count": 68,
   "metadata": {},
   "outputs": [
    {
     "name": "stdout",
     "output_type": "stream",
     "text": [
      "1.0419575436209316\n",
      "0.12499918559646818\n",
      "[ 0.12065141 -0.70205738 -0.11886896  0.69168551]\n",
      "[[1 0 0 0]\n",
      " [0 1 0 0]\n",
      " [0 0 0 1]\n",
      " [0 0 1 0]]\n",
      "[ 0.12065141 -0.70205738  0.69168551 -0.11886896]\n",
      "[[0 1 0 0]\n",
      " [1 0 0 0]\n",
      " [0 0 1 0]\n",
      " [0 0 0 1]]\n",
      "[-0.92358525  0.15872187 -0.34395305  0.05910973]\n"
     ]
    }
   ],
   "source": [
    "training_data=easy_iris\n",
    "for i in range(1):\n",
    "        norm1=(training_data[i,0]**2+training_data[i,1]**2)**0.5\n",
    "        print(norm1)\n",
    "        norm2=(training_data[i,2]**2+training_data[i,3]**2)**0.5\n",
    "        print(norm2)\n",
    "        psi=np.kron(np.array([training_data[i,0]/norm1, training_data[i,1]/norm1]),np.array([training_data[i,2]/norm2, training_data[i,3]/norm2]))\n",
    "        for j in range(total):\n",
    "                    psi=np.matmul(ry(params[j],j,total),psi)\n",
    "                    \"\"\"Stage 2: CNOT plus unitary for N-1 times (cascading)\"\"\"\n",
    "        print(psi)\n",
    "        psi=np.matmul(cnot(0,1,total),psi)  \n",
    "        print(psi)\n",
    "        psi=np.matmul(cnot(1,0,total),psi)\n",
    "        print(np.matmul(ry(params[0],0,2),psi))"
   ]
  },
  {
   "cell_type": "code",
   "execution_count": 666,
   "metadata": {
    "collapsed": true
   },
   "outputs": [
    {
     "data": {
      "text/plain": [
       "array([0.06544984694978737, 0.06544984694978737, 0.06544984694978737,\n",
       "       0.06544984694978737, 0.06544984694978737, 0.19634954084936213,\n",
       "       0.1308996938995747, 0.06544984694978737, 0.06544984694978737, 0.0,\n",
       "       0.06544984694978737, 0.06544984694978737, 0.0, 0.0,\n",
       "       0.06544984694978737, 0.19634954084936213, 0.19634954084936213,\n",
       "       0.1308996938995747, 0.1308996938995747, 0.1308996938995747,\n",
       "       0.06544984694978737, 0.19634954084936213, 0.06544984694978737,\n",
       "       0.26179938779914946, 0.06544984694978737, 0.06544984694978737,\n",
       "       0.19634954084936213, 0.06544984694978737, 0.06544984694978737,\n",
       "       0.06544984694978737, 0.06544984694978737, 0.19634954084936213,\n",
       "       0.8508480103472356, 0.9162978572970231, 0.9162978572970231,\n",
       "       0.7853981633974483, 0.9162978572970231, 0.7853981633974483,\n",
       "       0.9817477042468103, 0.5890486225480862, 0.7853981633974483,\n",
       "       0.8508480103472356, 0.5890486225480862, 0.9162978572970231,\n",
       "       0.5890486225480862, 0.8508480103472356, 0.7853981633974483,\n",
       "       0.8508480103472356, 0.9162978572970231, 0.5890486225480862,\n",
       "       0.9162978572970231, 0.6544984694978736, 1.1126473981463851,\n",
       "       0.7853981633974483, 0.9162978572970231, 0.7199483164476609,\n",
       "       0.7853981633974483, 0.8508480103472356, 0.8508480103472356,\n",
       "       1.0471975511965976, 0.9162978572970231, 0.5890486225480862,\n",
       "       0.6544984694978736, 0.5890486225480862, 0.7199483164476609,\n",
       "       0.9817477042468103], dtype=object)"
      ]
     },
     "execution_count": 666,
     "metadata": {},
     "output_type": "execute_result"
    }
   ],
   "source": [
    "easy_iris[:,3]"
   ]
  },
  {
   "cell_type": "code",
   "execution_count": 701,
   "metadata": {
    "collapsed": true
   },
   "outputs": [],
   "source": [
    "np.savez('4TTN_iris_hard_params',params)"
   ]
  },
  {
   "cell_type": "code",
   "execution_count": 707,
   "metadata": {},
   "outputs": [
    {
     "name": "stdout",
     "output_type": "stream",
     "text": [
      "[7.2825985, 2.08845996, 5.98655366, 8.37205982, 2.6430266, 5.56276416, 9.36181068]\n"
     ]
    }
   ],
   "source": [
    "fake_params=[3.64129925,1.04422998, 2.99327683, 4.18602991,1.3215133,2.78138208,4.68090534]\n",
    "real_params=[]\n",
    "for i in fake_params:\n",
    "    real_params.append(i*2)\n",
    "print(real_params)\n",
    "test_data=iris"
   ]
  },
  {
   "cell_type": "code",
   "execution_count": 713,
   "metadata": {},
   "outputs": [
    {
     "name": "stderr",
     "output_type": "stream",
     "text": [
      "C:\\Users\\Abdulah\\Anaconda3\\lib\\site-packages\\ipykernel_launcher.py:285: ComplexWarning: Casting complex values to real discards the imaginary part\n"
     ]
    },
    {
     "data": {
      "text/plain": [
       "7.0"
      ]
     },
     "execution_count": 713,
     "metadata": {},
     "output_type": "execute_result"
    }
   ],
   "source": [
    "evaluate_4TTN(params,iris_hard,ancilla,rounding=1)"
   ]
  },
  {
   "cell_type": "code",
   "execution_count": 698,
   "metadata": {
    "collapsed": true
   },
   "outputs": [],
   "source": [
    "data=iris_hard_train"
   ]
  },
  {
   "cell_type": "code",
   "execution_count": 699,
   "metadata": {},
   "outputs": [
    {
     "name": "stderr",
     "output_type": "stream",
     "text": [
      "C:\\Users\\Abdulah\\Anaconda3\\lib\\site-packages\\ipykernel_launcher.py:313: ComplexWarning: Casting complex values to real discards the imaginary part\n"
     ]
    },
    {
     "data": {
      "image/png": "[encoded data removed]",
      "text/plain": [
       "<matplotlib.figure.Figure at 0x1d947cd9128>"
      ]
     },
     "metadata": {},
     "output_type": "display_data"
    }
   ],
   "source": [
    "plt.scatter(data[:,1], data[:,0], c=evaluate_4TTN_plotter(params,data,ancilla,rounding=1))\n",
    "plt.show()"
   ]
  },
  {
   "cell_type": "code",
   "execution_count": 700,
   "metadata": {},
   "outputs": [
    {
     "data": {
      "image/png": "[encoded data removed]",
      "text/plain": [
       "<matplotlib.figure.Figure at 0x1d9495745f8>"
      ]
     },
     "metadata": {},
     "output_type": "display_data"
    }
   ],
   "source": [
    "plt.scatter(data[:,1], data[:,0], c=data[:,4])\n",
    "plt.show()"
   ]
  },
  {
   "cell_type": "code",
   "execution_count": 712,
   "metadata": {},
   "outputs": [
    {
     "data": {
      "text/plain": [
       "67"
      ]
     },
     "execution_count": 712,
     "metadata": {},
     "output_type": "execute_result"
    }
   ],
   "source": []
  },
  {
   "cell_type": "code",
   "execution_count": 478,
   "metadata": {},
   "outputs": [
    {
     "data": {
      "image/png": "[encoded data removed]",
      "text/plain": [
       "<matplotlib.figure.Figure at 0x1d94a843550>"
      ]
     },
     "metadata": {},
     "output_type": "display_data"
    }
   ],
   "source": [
    "plt.scatter(iris[:,1], iris[:,0], c=iris[:,4])\n",
    "plt.show()"
   ]
  },
  {
   "cell_type": "code",
   "execution_count": 381,
   "metadata": {
    "collapsed": true
   },
   "outputs": [],
   "source": [
    "np.savez('4q_0a_hardiris4',params)"
   ]
  },
  {
   "cell_type": "code",
   "execution_count": 331,
   "metadata": {},
   "outputs": [
    {
     "data": {
      "text/plain": [
       "array([-1.64627048, -1.64963016, -0.37743302, -0.2764522 ,  0.67576184,\n",
       "       -1.56552782, -1.50567953])"
      ]
     },
     "execution_count": 331,
     "metadata": {},
     "output_type": "execute_result"
    }
   ],
   "source": [
    "pyplot"
   ]
  },
  {
   "cell_type": "code",
   "execution_count": 544,
   "metadata": {},
   "outputs": [
    {
     "name": "stderr",
     "output_type": "stream",
     "text": [
      "C:\\Users\\Abdulah\\Anaconda3\\lib\\site-packages\\ipykernel_launcher.py:230: ComplexWarning: Casting complex values to real discards the imaginary part\n"
     ]
    },
    {
     "name": "stdout",
     "output_type": "stream",
     "text": [
      "[-0.15498645  0.33141878 -2.35012374 -0.16902831  2.1525246   0.168738\n",
      " -2.83295317]\n",
      "cost is 16.4161533295\n",
      "rounded cost is 17.0\n",
      "params are [-0.15498645  0.33141878 -2.35012374 -0.16902831  2.1525246   0.168738\n",
      " -1.77311489]\n",
      "cost is 16.4145275466\n",
      "rounded cost is 17.0\n",
      "params are [-0.15498645  0.33141878 -2.35012374 -0.16902831  2.1525246  -6.03185789\n",
      " -1.77311489]\n",
      "cost is 8.25996679307\n",
      "rounded cost is 12.5\n",
      "params are [-0.15498645  0.33141878 -2.35012374 -0.16902831 -1.20731406 -6.03185789\n",
      " -1.77311489]\n",
      "cost is 8.18115503606\n",
      "rounded cost is 12.0\n",
      "params are [-0.15498645  0.33141878 -2.35012374 -6.22035345 -1.20731406 -6.03185789\n",
      " -1.77311489]\n",
      "cost is 8.14831360336\n",
      "rounded cost is 12.0\n",
      "params are [-0.15498645  0.33141878 -2.2396414  -6.22035345 -1.20731406 -6.03185789\n",
      " -1.77311489]\n",
      "cost is 8.14439430729\n",
      "rounded cost is 12.0\n",
      "params are [-0.15498645 -5.90619419 -2.2396414  -6.22035345 -1.20731406 -6.03185789\n",
      " -1.77311489]\n",
      "cost is 0.980860460074\n",
      "rounded cost is 1.0\n",
      "params are [-1.52430076 -5.90619419 -2.2396414  -6.22035345 -1.20731406 -6.03185789\n",
      " -1.77311489]\n",
      "cost is 0.980341981223\n",
      "rounded cost is 1.0\n",
      "params are [-1.52430076 -5.90619419 -2.2396414  -6.22035345 -1.20731406 -6.03185789\n",
      " -1.80421666]\n",
      "cost is 0.971850125385\n",
      "rounded cost is 1.0\n",
      "params are [-1.52430076 -5.90619419 -2.2396414  -6.22035345 -1.20731406 -5.96902604\n",
      " -1.80421666]\n",
      "cost is 0.971016981584\n",
      "rounded cost is 1.0\n",
      "params are [-1.52430076 -5.90619419 -2.2396414  -6.22035345 -1.26920343 -5.96902604\n",
      " -1.80421666]\n",
      "cost is 0.971016981584\n",
      "rounded cost is 1.0\n",
      "params are [-1.52430076 -5.90619419 -2.2396414  -6.22035345 -1.26920343 -5.96902604\n",
      " -1.80421666]\n",
      "cost is 0.971016981584\n",
      "rounded cost is 1.0\n",
      "params are [-1.52430076 -5.90619419 -2.2396414  -6.22035345 -1.26920343 -5.96902604\n",
      " -1.80421666]\n",
      "cost is 0.971016981584\n",
      "rounded cost is 1.0\n",
      "params are [-1.52430076 -5.90619419 -2.2396414  -6.22035345 -1.26920343 -5.96902604\n",
      " -1.80421666]\n",
      "cost is 0.970416006726\n",
      "rounded cost is 1.0\n",
      "params are [-1.55540252 -5.90619419 -2.2396414  -6.22035345 -1.26920343 -5.96902604\n",
      " -1.80421666]\n",
      "cost is 0.970416006726\n",
      "rounded cost is 1.0\n",
      "params are [-1.55540252 -5.90619419 -2.2396414  -6.22035345 -1.26920343 -5.96902604\n",
      " -1.80421666]\n",
      "cost is 0.970416006726\n",
      "rounded cost is 1.0\n",
      "params are [-1.55540252 -5.90619419 -2.2396414  -6.22035345 -1.26920343 -5.96902604\n",
      " -1.80421666]\n",
      "cost is 0.970416006726\n",
      "rounded cost is 1.0\n",
      "params are [-1.55540252 -5.90619419 -2.2396414  -6.22035345 -1.26920343 -5.96902604\n",
      " -1.80421666]\n",
      "cost is 0.970416006726\n",
      "rounded cost is 1.0\n",
      "params are [-1.55540252 -5.90619419 -2.2396414  -6.22035345 -1.26920343 -5.96902604\n",
      " -1.80421666]\n",
      "cost is 0.970416006726\n",
      "rounded cost is 1.0\n",
      "params are [-1.55540252 -5.90619419 -2.2396414  -6.22035345 -1.26920343 -5.96902604\n",
      " -1.80421666]\n",
      "cost is 0.970416006726\n",
      "rounded cost is 1.0\n",
      "params are [-1.55540252 -5.90619419 -2.2396414  -6.22035345 -1.26920343 -5.96902604\n",
      " -1.80421666]\n",
      "cost is 0.970416006726\n",
      "rounded cost is 1.0\n",
      "params are [-1.55540252 -5.90619419 -2.2396414  -6.22035345 -1.26920343 -5.96902604\n",
      " -1.80421666]\n",
      "cost is 0.970416006726\n",
      "rounded cost is 1.0\n",
      "params are [-1.55540252 -5.90619419 -2.2396414  -6.22035345 -1.26920343 -5.96902604\n",
      " -1.80421666]\n",
      "cost is 0.970416006726\n",
      "rounded cost is 1.0\n",
      "params are [-1.55540252 -5.90619419 -2.2396414  -6.22035345 -1.26920343 -5.96902604\n",
      " -1.80421666]\n",
      "cost is 0.970416006726\n",
      "rounded cost is 1.0\n",
      "params are [-1.55540252 -5.90619419 -2.2396414  -6.22035345 -1.26920343 -5.96902604\n",
      " -1.80421666]\n",
      "cost is 0.970416006726\n",
      "rounded cost is 1.0\n",
      "params are [-1.55540252 -5.90619419 -2.2396414  -6.22035345 -1.26920343 -5.96902604\n",
      " -1.80421666]\n",
      "cost is 0.970416006726\n",
      "rounded cost is 1.0\n",
      "params are [-1.55540252 -5.90619419 -2.2396414  -6.22035345 -1.26920343 -5.96902604\n",
      " -1.80421666]\n",
      "cost is 0.970416006726\n",
      "rounded cost is 1.0\n",
      "params are [-1.55540252 -5.90619419 -2.2396414  -6.22035345 -1.26920343 -5.96902604\n",
      " -1.80421666]\n",
      "cost is 0.970416006726\n",
      "rounded cost is 1.0\n",
      "params are [-1.55540252 -5.90619419 -2.2396414  -6.22035345 -1.26920343 -5.96902604\n",
      " -1.80421666]\n",
      "cost is 0.970416006726\n",
      "rounded cost is 1.0\n",
      "params are [-1.55540252 -5.90619419 -2.2396414  -6.22035345 -1.26920343 -5.96902604\n",
      " -1.80421666]\n",
      "cost is 0.970416006726\n",
      "rounded cost is 1.0\n",
      "params are [-1.55540252 -5.90619419 -2.2396414  -6.22035345 -1.26920343 -5.96902604\n",
      " -1.80421666]\n",
      "cost is 0.970416006726\n",
      "rounded cost is 1.0\n",
      "params are [-1.55540252 -5.90619419 -2.2396414  -6.22035345 -1.26920343 -5.96902604\n",
      " -1.80421666]\n",
      "cost is 0.970416006726\n",
      "rounded cost is 1.0\n",
      "params are [-1.55540252 -5.90619419 -2.2396414  -6.22035345 -1.26920343 -5.96902604\n",
      " -1.80421666]\n",
      "cost is 0.970416006726\n",
      "rounded cost is 1.0\n",
      "params are [-1.55540252 -5.90619419 -2.2396414  -6.22035345 -1.26920343 -5.96902604\n",
      " -1.80421666]\n",
      "cost is 0.970416006726\n",
      "rounded cost is 1.0\n",
      "params are [-1.55540252 -5.90619419 -2.2396414  -6.22035345 -1.26920343 -5.96902604\n",
      " -1.80421666]\n",
      "cost is 0.970416006726\n",
      "rounded cost is 1.0\n",
      "params are [-1.55540252 -5.90619419 -2.2396414  -6.22035345 -1.26920343 -5.96902604\n",
      " -1.80421666]\n",
      "cost is 0.970416006726\n",
      "rounded cost is 1.0\n",
      "params are [-1.55540252 -5.90619419 -2.2396414  -6.22035345 -1.26920343 -5.96902604\n",
      " -1.80421666]\n",
      "cost is 0.970416006726\n",
      "rounded cost is 1.0\n",
      "params are [-1.55540252 -5.90619419 -2.2396414  -6.22035345 -1.26920343 -5.96902604\n",
      " -1.80421666]\n",
      "cost is 0.970416006726\n",
      "rounded cost is 1.0\n",
      "params are [-1.55540252 -5.90619419 -2.2396414  -6.22035345 -1.26920343 -5.96902604\n",
      " -1.80421666]\n",
      "cost is 0.970416006726\n",
      "rounded cost is 1.0\n",
      "params are [-1.55540252 -5.90619419 -2.2396414  -6.22035345 -1.26920343 -5.96902604\n",
      " -1.80421666]\n",
      "cost is 0.970416006726\n",
      "rounded cost is 1.0\n",
      "params are [-1.55540252 -5.90619419 -2.2396414  -6.22035345 -1.26920343 -5.96902604\n",
      " -1.80421666]\n",
      "cost is 0.970416006726\n",
      "rounded cost is 1.0\n",
      "params are [-1.55540252 -5.90619419 -2.2396414  -6.22035345 -1.26920343 -5.96902604\n",
      " -1.80421666]\n",
      "cost is 0.970416006726\n",
      "rounded cost is 1.0\n",
      "params are [-1.55540252 -5.90619419 -2.2396414  -6.22035345 -1.26920343 -5.96902604\n",
      " -1.80421666]\n",
      "cost is 0.970416006726\n",
      "rounded cost is 1.0\n",
      "params are [-1.55540252 -5.90619419 -2.2396414  -6.22035345 -1.26920343 -5.96902604\n",
      " -1.80421666]\n",
      "cost is 0.970416006726\n",
      "rounded cost is 1.0\n",
      "params are [-1.55540252 -5.90619419 -2.2396414  -6.22035345 -1.26920343 -5.96902604\n",
      " -1.80421666]\n",
      "cost is 0.970416006726\n",
      "rounded cost is 1.0\n",
      "params are [-1.55540252 -5.90619419 -2.2396414  -6.22035345 -1.26920343 -5.96902604\n",
      " -1.80421666]\n",
      "cost is 0.970416006726\n",
      "rounded cost is 1.0\n",
      "params are [-1.55540252 -5.90619419 -2.2396414  -6.22035345 -1.26920343 -5.96902604\n",
      " -1.80421666]\n",
      "cost is 0.970416006726\n",
      "rounded cost is 1.0\n",
      "params are [-1.55540252 -5.90619419 -2.2396414  -6.22035345 -1.26920343 -5.96902604\n",
      " -1.80421666]\n",
      "cost is 0.970416006726\n",
      "rounded cost is 1.0\n",
      "params are [-1.55540252 -5.90619419 -2.2396414  -6.22035345 -1.26920343 -5.96902604\n",
      " -1.80421666]\n",
      "cost is 0.970416006726\n",
      "rounded cost is 1.0\n",
      "params are [-1.55540252 -5.90619419 -2.2396414  -6.22035345 -1.26920343 -5.96902604\n",
      " -1.80421666]\n"
     ]
    }
   ],
   "source": [
    "\"\"\"THIS CIRCUIT IS MPS STYLE ONLY\"\"\"\n",
    "total_cost=0\n",
    "no_qubits=4\n",
    "ancilla=0\n",
    "total=ancilla+no_qubits\n",
    "no_params=(2*total)-1\n",
    "training_data=easy_iris#_train #remember, labels are data[:,4] here\n",
    "test_data=iris_hard_test\n",
    "params=initialise_params(no_params)\n",
    "cost=np.zeros(training_data.shape[0])\n",
    "total_cost=evaluate_MPS(params,training_data,ancilla,rounding=0)\n",
    "print(params)\n",
    "for p in range(no_params):\n",
    "    for k in reversed(range(no_params)):\n",
    "        b=math.pi\n",
    "        s=-1*math.pi\n",
    "        n=100\n",
    "        for z in range(2):\n",
    "            cost_list=np.zeros(n)\n",
    "\n",
    "            new_params=np.copy(params)\n",
    "            candidate_list=np.zeros(n)\n",
    "            for l in range(n):\n",
    "                candidate_list[l]=s+((b*(1-l))/n)\n",
    "                new_params[k]=candidate_list[l]\n",
    "                cost_list[l]=evaluate_MPS(new_params,training_data,ancilla,rounding=0)\n",
    "            winner=np.argmin(cost_list)\n",
    "            if winner==0:\n",
    "                neighbour=1\n",
    "            elif winner==n-1:\n",
    "                neighbour=winner-1\n",
    "            else:\n",
    "                if cost_list[winner+1]<cost_list[winner-1]:\n",
    "                    neighbour=winner+1\n",
    "                if cost_list[winner-1]<cost_list[winner+1]:\n",
    "                    neighbour=winner-1\n",
    "\n",
    "            total_cost=np.min(cost_list)\n",
    "            params[k]=candidate_list[winner]\n",
    "            s=np.min([candidate_list[winner],candidate_list[neighbour]])\n",
    "            b=np.max([candidate_list[winner],candidate_list[neighbour]])\n",
    "            \"\"\"if z%2==0:\n",
    "                iris_hard_train, iris_hard_train=shuffle_data(iris_hard,8)\"\"\"\n",
    "            \"\"\"delta=1\n",
    "            for z in range(10):\n",
    "                up_params=np.copy(params)\n",
    "                up_params[k]=up_params[k]+np.random.rand()*delta\n",
    "                up_cost=evaluate_MPS(training_data,up_params,ancilla,rounding=0)\n",
    "                diff_up=(up_cost-total_cost)\n",
    "                down_params=np.copy(params)\n",
    "                down_params[k]=down_params[k]-np.random.rand()*delta\n",
    "                down_cost=evaluate_MPS(training_data,down_params,ancilla,rounding=0)\n",
    "                diff_down=(down_cost-total_cost)\n",
    "                if diff_up<0 and diff_down<0:\n",
    "                    if diff_up<diff_down:\n",
    "                        params[k]=up_params[k]\n",
    "                        new_cost=up_cost\n",
    "                    elif diff_down<diff_up:\n",
    "                        params[k]=down_params[k]\n",
    "                        new_cost=down_cost\n",
    "                elif diff_up<0 and diff_down>0:\n",
    "                    params[k]=up_params[k]\n",
    "                    new_cost=up_cost\n",
    "                elif diff_up>0 and diff_down<0:\n",
    "                    params[k]=down_params[k]\n",
    "                    new_cost=down_cost\n",
    "                if abs(new_cost-total_cost)<0.1:\n",
    "                    #print('hey')\n",
    "                    delta=delta*0.99\n",
    "                    #print(delta)\n",
    "                total_cost=new_cost\"\"\"\n",
    "        print('cost is', total_cost)\n",
    "          #  print('deta is', delta)\n",
    "        print('rounded cost is',evaluate_MPS(params,training_data,ancilla,rounding=1))\n",
    "        print('params are', params)"
   ]
  },
  {
   "cell_type": "code",
   "execution_count": 531,
   "metadata": {},
   "outputs": [
    {
     "name": "stderr",
     "output_type": "stream",
     "text": [
      "C:\\Users\\Abdulah\\Anaconda3\\lib\\site-packages\\ipykernel_launcher.py:230: ComplexWarning: Casting complex values to real discards the imaginary part\n"
     ]
    },
    {
     "name": "stdout",
     "output_type": "stream",
     "text": [
      "[ 0.74764521 -2.75726401 -0.38224268 -0.25369111 -1.32275994 -3.02131798\n",
      "  0.15771457]\n",
      "cost is 1.99774419999\n",
      "cost is 1.99774419999\n"
     ]
    }
   ],
   "source": [
    "\"\"\"THIS CIRCUIT IS MPS STYLE ONLY\"\"\"\n",
    "total_cost=0\n",
    "no_qubits=4\n",
    "ancilla=0\n",
    "total=ancilla+no_qubits\n",
    "no_params=(2*total)-1\n",
    "training_data=easy_iris_train #remember, labels are data[:,4] here\n",
    "test_data=easy_iris_test\n",
    "params=initialise_params(no_params)\n",
    "cost=np.zeros(training_data.shape[0])\n",
    "total_cost=evaluate_MPS(params,training_data,ancilla,rounding=0)\n",
    "print(params)\n",
    "mu=1.5\n",
    "delta=0.0000000000001\n",
    "for m in range(2):\n",
    "    for k in range(no_params):\n",
    "        for z in range(200):\n",
    "            new_params=np.copy(params)\n",
    "            new_params[k]=new_params[k]+delta\n",
    "            new_cost=evaluate_MPS(new_params,training_data,ancilla,rounding=0)\n",
    "            diff=new_cost-total_cost\n",
    "            if abs(diff)>0.1:\n",
    "                params[k]=params[k]+delta\n",
    "            if abs(diff)<0.1:\n",
    "                params[k]=params[k]+delta*mu\n",
    "        \n",
    "            total_cost=new_cost\n",
    "            #print(total_cost)\n",
    "    print('cost is', total_cost)\n",
    "      #  print('deta is', delta)\n",
    "    #print('rounded cost is',evaluate_MPS(params,training_data,ancilla,rounding=1))\n",
    "    #print('params are', params)"
   ]
  },
  {
   "cell_type": "code",
   "execution_count": null,
   "metadata": {
    "collapsed": true
   },
   "outputs": [],
   "source": []
  },
  {
   "cell_type": "code",
   "execution_count": 518,
   "metadata": {},
   "outputs": [
    {
     "data": {
      "text/plain": [
       "array([ 1.25866183,  0.03267322, -4.74518949, -0.41616248,  1.12396632,\n",
       "        1.09980161, -2.44907808])"
      ]
     },
     "execution_count": 518,
     "metadata": {},
     "output_type": "execute_result"
    }
   ],
   "source": [
    "params"
   ]
  },
  {
   "cell_type": "code",
   "execution_count": 541,
   "metadata": {
    "collapsed": true
   },
   "outputs": [],
   "source": [
    "np.savez('4q_MPS_circuit_iris_hard_params_6_good', params)"
   ]
  },
  {
   "cell_type": "code",
   "execution_count": 519,
   "metadata": {},
   "outputs": [
    {
     "name": "stdout",
     "output_type": "stream",
     "text": [
      "cost is 1.50029072177\n",
      "rounded cost is 16.5\n",
      "params are [ 1.25866183  0.03267322 -4.74518949 -0.41616248  1.12396632  1.09980161\n",
      " -2.44907808]\n",
      "[ 0.4006445   0.01040021 -1.51044073 -0.13246863  0.35776959  0.35007773\n",
      " -0.77956577]\n"
     ]
    },
    {
     "name": "stderr",
     "output_type": "stream",
     "text": [
      "C:\\Users\\Abdulah\\Anaconda3\\lib\\site-packages\\ipykernel_launcher.py:230: ComplexWarning: Casting complex values to real discards the imaginary part\n"
     ]
    }
   ],
   "source": [
    "print('cost is', total_cost)\n",
    "print('rounded cost is',evaluate_MPS(params,iris_hard,ancilla,rounding=1))\n",
    "print('params are', params)\n",
    "print(params/math.pi)"
   ]
  },
  {
   "cell_type": "code",
   "execution_count": null,
   "metadata": {
    "collapsed": true
   },
   "outputs": [],
   "source": []
  },
  {
   "cell_type": "code",
   "execution_count": 252,
   "metadata": {
    "scrolled": true
   },
   "outputs": [
    {
     "name": "stdout",
     "output_type": "stream",
     "text": [
      "rounded cost is 0.0\n",
      "params are [-1.80965737 -4.92182849 -5.75958653 -2.21168123 -3.14159265 -2.19911486\n",
      " -2.19911486 -5.90619419 -3.14159265]\n"
     ]
    },
    {
     "name": "stderr",
     "output_type": "stream",
     "text": [
      "C:\\Users\\Abdulah\\Anaconda3\\lib\\site-packages\\ipykernel_launcher.py:228: ComplexWarning: Casting complex values to real discards the imaginary part\n"
     ]
    }
   ],
   "source": [
    "print('rounded cost is',evaluate_MPS(test_data,params,ancilla,rounding=1))\n",
    "print('params are', params)"
   ]
  },
  {
   "cell_type": "code",
   "execution_count": 484,
   "metadata": {},
   "outputs": [
    {
     "data": {
      "text/plain": [
       "array([-0.38888889, -0.64583333, -0.47288889, -1.        , -1.8       ,\n",
       "       -1.86666667, -1.1875    ])"
      ]
     },
     "execution_count": 484,
     "metadata": {},
     "output_type": "execute_result"
    }
   ],
   "source": [
    "params/math.pi"
   ]
  },
  {
   "cell_type": "code",
   "execution_count": 201,
   "metadata": {},
   "outputs": [
    {
     "data": {
      "text/plain": [
       "3"
      ]
     },
     "execution_count": 201,
     "metadata": {},
     "output_type": "execute_result"
    }
   ],
   "source": [
    "b=np.random.rand(10)\n",
    "np.argmin(b)\n"
   ]
  },
  {
   "cell_type": "code",
   "execution_count": 290,
   "metadata": {},
   "outputs": [
    {
     "data": {
      "text/plain": [
       "'Nelder Mead Style'"
      ]
     },
     "execution_count": 290,
     "metadata": {},
     "output_type": "execute_result"
    }
   ],
   "source": [
    "\"\"\"Nelder Mead Style\"\"\"\n",
    "\n",
    "\"\"\"THIS CIRCUIT IS MPS STYLE ONLY\"\"\"\n",
    "total_cost=0\n",
    "no_qubits=4\n",
    "ancilla=0\n",
    "total=ancilla+no_qubits\n",
    "no_params=(2*total)-1\n",
    "training_data=iris_hard_train #remember, labels are data[:,4] here\n",
    "test_data=iris_hard_test\n",
    "alpha=1\n",
    "beta=0.5\n",
    "gamma=2\n",
    "delta=0.5\n",
    "points=np.zeros((no_params,no_params+1))\n",
    "point_costs=np.zeros(no_params+1)\n",
    "for i in range(no_params+1):\n",
    "    params[i]=initialise_params(no_params)\n",
    "    point_costs[i]=evaluate_MPS(training_data,params[i],ancilla,rounding=0)\n",
    "\n",
    "best=np.min(point_costs)\n",
    "points=points[:,np.argsort(point_costs)\n",
    "centroid\n",
    "        \n",
    "    print('cost is', total_cost)\n",
    "      #  print('deta is', delta)\n",
    "    #print('rounded cost is',evaluate_MPS(training_data,params,ancilla,rounding=1))\n",
    "   # print('params are', params)"
   ]
  },
  {
   "cell_type": "code",
   "execution_count": 60,
   "metadata": {},
   "outputs": [
    {
     "name": "stdout",
     "output_type": "stream",
     "text": [
      "[[0 1 0 0]\n",
      " [1 0 0 0]\n",
      " [0 0 1 0]\n",
      " [0 0 0 1]]\n"
     ]
    },
    {
     "data": {
      "text/plain": [
       "array([[0, 1, 0, 0],\n",
       "       [1, 0, 0, 0],\n",
       "       [0, 0, 1, 0],\n",
       "       [0, 0, 0, 1]])"
      ]
     },
     "execution_count": 60,
     "metadata": {},
     "output_type": "execute_result"
    }
   ],
   "source": [
    "cnot(1,0,2)"
   ]
  },
  {
   "cell_type": "code",
   "execution_count": 26,
   "metadata": {
    "collapsed": true
   },
   "outputs": [],
   "source": [
    "np.savez('2_8_operators_halfhalftraintest_iris.npz',operator_list)"
   ]
  },
  {
   "cell_type": "code",
   "execution_count": null,
   "metadata": {
    "collapsed": true
   },
   "outputs": [],
   "source": [
    "qutip.Qobj(encode_list(small_iris_train[:,1],2))"
   ]
  },
  {
   "cell_type": "code",
   "execution_count": 29,
   "metadata": {},
   "outputs": [
    {
     "data": {
      "text/latex": [
       "Quantum object: dims = [[8], [8]], shape = (8, 8), type = oper, isherm = False\\begin{equation*}\\left(\\begin{array}{*{11}c}(0.772+0.125j) & (0.024+0.076j) & (-0.133-0.338j) & (-0.024-0.066j) & (0.075-0.086j) & (0.028+0.346j) & (-0.136-0.030j) & (0.302+0.014j)\\\\(-0.085-0.024j) & (0.170+0.101j) & (-0.541-0.228j) & (0.453+0.427j) & (-0.017+0.040j) & (-0.220+0.027j) & (0.169+0.197j) & (-0.088+0.308j)\\\\(-0.063+0.241j) & (0.486-0.613j) & (-0.110-0.124j) & (-0.213+0.083j) & (-0.114-0.253j) & (0.372-0.021j) & (-4.915\\times10^{-04}-0.048j) & (-0.075+0.150j)\\\\(0.349+0.102j) & (-0.015+0.228j) & (0.049+0.042j) & (0.276-0.130j) & (0.213-0.111j) & (0.408-0.440j) & (0.209-0.139j) & (-0.471+0.124j)\\\\(0.019-0.145j) & (0.031-0.358j) & (0.032+0.017j) & (0.024+0.070j) & (0.868+0.155j) & (-0.144-0.067j) & (-0.177+0.091j) & (-0.003+0.001j)\\\\(-0.350+0.031j) & (-0.140+0.044j) & (-0.215-0.589j) & (0.091-0.322j) & (0.116+0.075j) & (0.230-0.276j) & (0.066-0.181j) & (0.372-0.161j)\\\\(0.153-0.058j) & (0.025-0.127j) & (0.018-0.072j) & (-0.316-0.025j) & (0.063+0.073j) & (-0.242-0.033j) & (0.873+0.044j) & (0.026-0.131j)\\\\(0.015+0.117j) & (0.223+0.268j) & (0.154+0.261j) & (-0.012+0.493j) & (0.124-0.171j) & (0.141-0.313j) & (0.072-0.053j) & (0.593-0.080j)\\\\\\end{array}\\right)\\end{equation*}"
      ],
      "text/plain": [
       "Quantum object: dims = [[8], [8]], shape = (8, 8), type = oper, isherm = False\n",
       "Qobj data =\n",
       "[[  7.72317552e-01+0.12454335j   2.38265971e-02+0.07587974j\n",
       "   -1.32811362e-01-0.33812393j  -2.43831934e-02-0.06647168j\n",
       "    7.49357276e-02-0.08637294j   2.81385648e-02+0.34644238j\n",
       "   -1.35727303e-01-0.02952267j   3.02226646e-01+0.01361093j]\n",
       " [ -8.49203349e-02-0.02352357j   1.70488710e-01+0.10132648j\n",
       "   -5.40565154e-01-0.22799548j   4.53336814e-01+0.42703022j\n",
       "   -1.73205422e-02+0.04038379j  -2.19678462e-01+0.02711673j\n",
       "    1.68859972e-01+0.19712452j  -8.78808448e-02+0.30792923j]\n",
       " [ -6.30270595e-02+0.24087556j   4.86260812e-01-0.61332902j\n",
       "   -1.10264219e-01-0.12371923j  -2.13003682e-01+0.08328247j\n",
       "   -1.13677738e-01-0.25252312j   3.71710054e-01-0.02065541j\n",
       "   -4.91513172e-04-0.04783751j  -7.48370839e-02+0.14979481j]\n",
       " [  3.48834323e-01+0.10237254j  -1.52006719e-02+0.22831624j\n",
       "    4.89111648e-02+0.04191805j   2.76366623e-01-0.12996386j\n",
       "    2.12673406e-01-0.11066391j   4.08207282e-01-0.43964997j\n",
       "    2.08696949e-01-0.13925487j  -4.71489658e-01+0.12412083j]\n",
       " [  1.94372445e-02-0.14541272j   3.09460270e-02-0.35817977j\n",
       "    3.17372059e-02+0.01705418j   2.38966530e-02+0.0696045j\n",
       "    8.68236855e-01+0.15463148j  -1.43559774e-01-0.06744093j\n",
       "   -1.76803537e-01+0.09131912j  -2.94763798e-03+0.00134857j]\n",
       " [ -3.50445985e-01+0.03122832j  -1.40425660e-01+0.0443313j\n",
       "   -2.14690190e-01-0.58923128j   9.12899945e-02-0.32200343j\n",
       "    1.16207039e-01+0.07524862j   2.29886809e-01-0.27552938j\n",
       "    6.56923832e-02-0.18081096j   3.71825498e-01-0.1613357j ]\n",
       " [  1.53018695e-01-0.05793512j   2.49977782e-02-0.12730066j\n",
       "    1.77612267e-02-0.07240053j  -3.16373021e-01-0.02527047j\n",
       "    6.27259046e-02+0.07316034j  -2.41736566e-01-0.03293782j\n",
       "    8.72636424e-01+0.04447955j   2.63123720e-02-0.13090886j]\n",
       " [  1.51811345e-02+0.11738328j   2.23152634e-01+0.26794999j\n",
       "    1.54059782e-01+0.26144113j  -1.15580650e-02+0.49319596j\n",
       "    1.23826322e-01-0.17115482j   1.41328419e-01-0.31345558j\n",
       "    7.20829499e-02-0.05314385j   5.93021378e-01-0.07990648j]]"
      ]
     },
     "execution_count": 29,
     "metadata": {},
     "output_type": "execute_result"
    }
   ],
   "source": [
    "qutip.Qobj(operator_list[0])"
   ]
  },
  {
   "cell_type": "code",
   "execution_count": 18,
   "metadata": {},
   "outputs": [
    {
     "name": "stdout",
     "output_type": "stream",
     "text": [
      "Final Cost with rounding is  29.0\n",
      "Test Result without rounding is  11.8525027397\n",
      "Test Result with rounding is  8.0\n"
     ]
    }
   ],
   "source": [
    "print(\"Final Cost with rounding is \" ,eval_cost_function(operator_list,data,rounding=1))\n",
    "print(\"Test Result without rounding is \", eval_cost_function(operator_list,test_data,rounding=0))\n",
    "print(\"Test Result with rounding is \", eval_cost_function(operator_list,test_data,rounding=1))"
   ]
  },
  {
   "cell_type": "code",
   "execution_count": 90,
   "metadata": {},
   "outputs": [
    {
     "name": "stdout",
     "output_type": "stream",
     "text": [
      "[[ 0.91665696+0.j  0.27640003+0.j]\n",
      " [ 0.27640003+0.j  0.08334304+0.j]]\n",
      "(2, 2)\n",
      "(0.916656959541+0j)\n",
      "[[ 0.04468261+0.j -0.20660609+0.j]\n",
      " [-0.20660609+0.j  0.95531739+0.j]]\n",
      "(2, 2)\n",
      "(0.0446826135725+0j)\n",
      "[[ 0.13261292+0.j -0.33915592+0.j]\n",
      " [-0.33915592+0.j  0.86738708+0.j]]\n",
      "(2, 2)\n",
      "(0.132612924568+0j)\n",
      "[[ 0.88491699+0.j  0.31912209+0.j]\n",
      " [ 0.31912209+0.j  0.11508301+0.j]]\n",
      "(2, 2)\n",
      "(0.884916991715+0j)\n",
      "[[ 0.91665696+0.j  0.27640003+0.j]\n",
      " [ 0.27640003+0.j  0.08334304+0.j]]\n",
      "(2, 2)\n",
      "(0.916656959541+0j)\n",
      "[[ 0.06922296+0.j -0.25383290+0.j]\n",
      " [-0.25383290+0.j  0.93077704+0.j]]\n",
      "(2, 2)\n",
      "(0.0692229593031+0j)\n",
      "[[ 0.98238393+0.j  0.13155128+0.j]\n",
      " [ 0.13155128+0.j  0.01761607+0.j]]\n",
      "(2, 2)\n",
      "(0.982383934407+0j)\n",
      "[[ 0.80876231+0.j  0.39327578+0.j]\n",
      " [ 0.39327578+0.j  0.19123769+0.j]]\n",
      "(2, 2)\n",
      "(0.808762307473+0j)\n",
      "[[ 0.84881576+0.j  0.35822837+0.j]\n",
      " [ 0.35822837+0.j  0.15118424+0.j]]\n",
      "(2, 2)\n",
      "(0.848815760567+0j)\n",
      "[[ 0.96566809+0.j -0.18208029+0.j]\n",
      " [-0.18208029+0.j  0.03433191+0.j]]\n",
      "(2, 2)\n",
      "(0.965668088726+0j)\n",
      "[[ 0.09864418+0.j -0.29818368+0.j]\n",
      " [-0.29818368+0.j  0.90135582+0.j]]\n",
      "(2, 2)\n",
      "(0.0986441810345+0j)\n",
      "[[ 0.02530120+0.j -0.15703836+0.j]\n",
      " [-0.15703836+0.j  0.97469880+0.j]]\n",
      "(2, 2)\n",
      "(0.0253011957658+0j)\n",
      "[[ 0.13261292+0.j -0.33915592+0.j]\n",
      " [-0.33915592+0.j  0.86738708+0.j]]\n",
      "(2, 2)\n",
      "(0.132612924568+0j)\n",
      "[[ 0.66961943+0.j  0.47035013+0.j]\n",
      " [ 0.47035013+0.j  0.33038057+0.j]]\n",
      "(2, 2)\n",
      "(0.669619433059+0j)\n",
      "[[ 0.91665696+0.j  0.27640003+0.j]\n",
      " [ 0.27640003+0.j  0.08334304+0.j]]\n",
      "(2, 2)\n",
      "(0.916656959541+0j)\n",
      "[[ 0.02530120+0.j -0.15703836+0.j]\n",
      " [-0.15703836+0.j  0.97469880+0.j]]\n",
      "(2, 2)\n",
      "(0.0253011957658+0j)\n",
      "[[ 0.94367604+0.j -0.23054625+0.j]\n",
      " [-0.23054625+0.j  0.05632396+0.j]]\n",
      "(2, 2)\n",
      "(0.943676037528+0j)\n",
      "[[ 0.84881576+0.j  0.35822837+0.j]\n",
      " [ 0.35822837+0.j  0.15118424+0.j]]\n",
      "(2, 2)\n",
      "(0.848815760567+0j)\n",
      "[[ 0.06922296+0.j -0.25383290+0.j]\n",
      " [-0.25383290+0.j  0.93077704+0.j]]\n",
      "(2, 2)\n",
      "(0.0692229593031+0j)\n",
      "[[  9.99291348e-01+0.j  -2.66110874e-02+0.j]\n",
      " [ -2.66110874e-02+0.j   7.08652162e-04+0.j]]\n",
      "(2, 2)\n",
      "(0.999291347838+0j)\n",
      "[[ 0.09864418+0.j -0.29818368+0.j]\n",
      " [-0.29818368+0.j  0.90135582+0.j]]\n",
      "(2, 2)\n",
      "(0.0986441810345+0j)\n",
      "[[ 0.09864418+0.j -0.29818368+0.j]\n",
      " [-0.29818368+0.j  0.90135582+0.j]]\n",
      "(2, 2)\n",
      "(0.0986441810345+0j)\n",
      "[[  9.99291348e-01+0.j   2.66110874e-02+0.j]\n",
      " [  2.66110874e-02+0.j   7.08652162e-04+0.j]]\n",
      "(2, 2)\n",
      "(0.999291347838+0j)\n",
      "[[ 0.99363418+0.j  0.07953175+0.j]\n",
      " [ 0.07953175+0.j  0.00636582+0.j]]\n",
      "(2, 2)\n",
      "(0.993634177361+0j)\n",
      "[[ 0.76521045+0.j  0.42386721+0.j]\n",
      " [ 0.42386721+0.j  0.23478955+0.j]]\n",
      "(2, 2)\n",
      "(0.76521045406+0j)\n",
      "[[ 0.01129831+0.j -0.10569131+0.j]\n",
      " [-0.10569131+0.j  0.98870169+0.j]]\n",
      "(2, 2)\n",
      "(0.0112983050911+0j)\n",
      "[[ 0.76521045+0.j  0.42386721+0.j]\n",
      " [ 0.42386721+0.j  0.23478955+0.j]]\n",
      "(2, 2)\n",
      "(0.76521045406+0j)\n",
      "[[ 0.06922296+0.j -0.25383290+0.j]\n",
      " [-0.25383290+0.j  0.93077704+0.j]]\n",
      "(2, 2)\n",
      "(0.0692229593031+0j)\n",
      "[[  9.99291348e-01+0.j   2.66110874e-02+0.j]\n",
      " [  2.66110874e-02+0.j   7.08652162e-04+0.j]]\n",
      "(2, 2)\n",
      "(0.999291347838+0j)\n",
      "[[ 0.04468261+0.j -0.20660609+0.j]\n",
      " [-0.20660609+0.j  0.95531739+0.j]]\n",
      "(2, 2)\n",
      "(0.0446826135725+0j)\n",
      "[[ 0.04468261+0.j -0.20660609+0.j]\n",
      " [-0.20660609+0.j  0.95531739+0.j]]\n",
      "(2, 2)\n",
      "(0.0446826135725+0j)\n",
      "[[ 0.21260629+0.j -0.40915139+0.j]\n",
      " [-0.40915139+0.j  0.78739371+0.j]]\n",
      "(2, 2)\n",
      "(0.212606294893+0j)\n",
      "[[ 0.04468261+0.j -0.20660609+0.j]\n",
      " [-0.20660609+0.j  0.95531739+0.j]]\n",
      "(2, 2)\n",
      "(0.0446826135725+0j)\n",
      "[[ 0.84881576+0.j  0.35822837+0.j]\n",
      " [ 0.35822837+0.j  0.15118424+0.j]]\n",
      "(2, 2)\n",
      "(0.848815760567+0j)\n",
      "[[ 0.00283260+0.j -0.05314674+0.j]\n",
      " [-0.05314674+0.j  0.99716740+0.j]]\n",
      "(2, 2)\n",
      "(0.00283259989493+0j)\n",
      "[[ 0.91665696+0.j  0.27640003+0.j]\n",
      " [ 0.27640003+0.j  0.08334304+0.j]]\n",
      "(2, 2)\n",
      "(0.916656959541+0j)\n",
      "[[ 0.99363418+0.j -0.07953175+0.j]\n",
      " [-0.07953175+0.j  0.00636582+0.j]]\n",
      "(2, 2)\n",
      "(0.993634177361+0j)\n",
      "[[ 0.04468261+0.j -0.20660609+0.j]\n",
      " [-0.20660609+0.j  0.95531739+0.j]]\n",
      "(2, 2)\n",
      "(0.0446826135725+0j)\n",
      "[[ 0.06922296+0.j -0.25383290+0.j]\n",
      " [-0.25383290+0.j  0.93077704+0.j]]\n",
      "(2, 2)\n",
      "(0.0692229593031+0j)\n",
      "[[ 0.04468261+0.j -0.20660609+0.j]\n",
      " [-0.20660609+0.j  0.95531739+0.j]]\n",
      "(2, 2)\n",
      "(0.0446826135725+0j)\n",
      "[[ 0.94367604+0.j -0.23054625+0.j]\n",
      " [-0.23054625+0.j  0.05632396+0.j]]\n",
      "(2, 2)\n",
      "(0.943676037528+0j)\n",
      "[[ 0.09864418+0.j -0.29818368+0.j]\n",
      " [-0.29818368+0.j  0.90135582+0.j]]\n",
      "(2, 2)\n",
      "(0.0986441810345+0j)\n",
      "[[ 0.06922296+0.j -0.25383290+0.j]\n",
      " [-0.25383290+0.j  0.93077704+0.j]]\n",
      "(2, 2)\n",
      "(0.0692229593031+0j)\n",
      "[[ 0.06922296+0.j -0.25383290+0.j]\n",
      " [-0.25383290+0.j  0.93077704+0.j]]\n",
      "(2, 2)\n",
      "(0.0692229593031+0j)\n",
      "[[  3.74939946e-33+0.j  -6.12323400e-17+0.j]\n",
      " [ -6.12323400e-17+0.j   1.00000000e+00+0.j]]\n",
      "(2, 2)\n",
      "(3.74939945665e-33+0j)\n",
      "[[ 0.06922296+0.j -0.25383290+0.j]\n",
      " [-0.25383290+0.j  0.93077704+0.j]]\n",
      "(2, 2)\n",
      "(0.0692229593031+0j)\n"
     ]
    },
    {
     "data": {
      "text/plain": [
       "50.0"
      ]
     },
     "execution_count": 90,
     "metadata": {},
     "output_type": "execute_result"
    }
   ],
   "source": [
    "eval_cost_function(operator_list,data,rounding=1)"
   ]
  },
  {
   "cell_type": "code",
   "execution_count": 305,
   "metadata": {},
   "outputs": [
    {
     "name": "stderr",
     "output_type": "stream",
     "text": [
      "C:\\Users\\Abdulah\\Anaconda3\\lib\\site-packages\\ipykernel_launcher.py:228: ComplexWarning: Casting complex values to real discards the imaginary part\n"
     ]
    },
    {
     "ename": "TypeError",
     "evalue": "'numpy.float64' object is not callable",
     "output_type": "error",
     "traceback": [
      "\u001b[1;31m---------------------------------------------------------------------------\u001b[0m",
      "\u001b[1;31mTypeError\u001b[0m                                 Traceback (most recent call last)",
      "\u001b[1;32m<ipython-input-305-f6b5f1870e4d>\u001b[0m in \u001b[0;36m<module>\u001b[1;34m()\u001b[0m\n\u001b[1;32m----> 1\u001b[1;33m \u001b[0mscipy\u001b[0m\u001b[1;33m.\u001b[0m\u001b[0moptimize\u001b[0m\u001b[1;33m.\u001b[0m\u001b[0mminimize\u001b[0m\u001b[1;33m(\u001b[0m\u001b[0mevaluate_MPS\u001b[0m\u001b[1;33m(\u001b[0m\u001b[0mparams\u001b[0m\u001b[1;33m,\u001b[0m\u001b[0mtraining_data\u001b[0m\u001b[1;33m,\u001b[0m\u001b[0mancilla\u001b[0m\u001b[1;33m,\u001b[0m\u001b[0mrounding\u001b[0m\u001b[1;33m=\u001b[0m\u001b[1;36m0\u001b[0m\u001b[1;33m)\u001b[0m\u001b[1;33m,\u001b[0m\u001b[0mparams\u001b[0m\u001b[1;33m,\u001b[0m \u001b[0mmethod\u001b[0m\u001b[1;33m=\u001b[0m\u001b[1;34m'CG'\u001b[0m\u001b[1;33m)\u001b[0m\u001b[1;33m\u001b[0m\u001b[0m\n\u001b[0m",
      "\u001b[1;32m~\\Anaconda3\\lib\\site-packages\\scipy\\optimize\\_minimize.py\u001b[0m in \u001b[0;36mminimize\u001b[1;34m(fun, x0, args, method, jac, hess, hessp, bounds, constraints, tol, callback, options)\u001b[0m\n\u001b[0;32m    477\u001b[0m         \u001b[1;32mreturn\u001b[0m \u001b[0m_minimize_powell\u001b[0m\u001b[1;33m(\u001b[0m\u001b[0mfun\u001b[0m\u001b[1;33m,\u001b[0m \u001b[0mx0\u001b[0m\u001b[1;33m,\u001b[0m \u001b[0margs\u001b[0m\u001b[1;33m,\u001b[0m \u001b[0mcallback\u001b[0m\u001b[1;33m,\u001b[0m \u001b[1;33m**\u001b[0m\u001b[0moptions\u001b[0m\u001b[1;33m)\u001b[0m\u001b[1;33m\u001b[0m\u001b[0m\n\u001b[0;32m    478\u001b[0m     \u001b[1;32melif\u001b[0m \u001b[0mmeth\u001b[0m \u001b[1;33m==\u001b[0m \u001b[1;34m'cg'\u001b[0m\u001b[1;33m:\u001b[0m\u001b[1;33m\u001b[0m\u001b[0m\n\u001b[1;32m--> 479\u001b[1;33m         \u001b[1;32mreturn\u001b[0m \u001b[0m_minimize_cg\u001b[0m\u001b[1;33m(\u001b[0m\u001b[0mfun\u001b[0m\u001b[1;33m,\u001b[0m \u001b[0mx0\u001b[0m\u001b[1;33m,\u001b[0m \u001b[0margs\u001b[0m\u001b[1;33m,\u001b[0m \u001b[0mjac\u001b[0m\u001b[1;33m,\u001b[0m \u001b[0mcallback\u001b[0m\u001b[1;33m,\u001b[0m \u001b[1;33m**\u001b[0m\u001b[0moptions\u001b[0m\u001b[1;33m)\u001b[0m\u001b[1;33m\u001b[0m\u001b[0m\n\u001b[0m\u001b[0;32m    480\u001b[0m     \u001b[1;32melif\u001b[0m \u001b[0mmeth\u001b[0m \u001b[1;33m==\u001b[0m \u001b[1;34m'bfgs'\u001b[0m\u001b[1;33m:\u001b[0m\u001b[1;33m\u001b[0m\u001b[0m\n\u001b[0;32m    481\u001b[0m         \u001b[1;32mreturn\u001b[0m \u001b[0m_minimize_bfgs\u001b[0m\u001b[1;33m(\u001b[0m\u001b[0mfun\u001b[0m\u001b[1;33m,\u001b[0m \u001b[0mx0\u001b[0m\u001b[1;33m,\u001b[0m \u001b[0margs\u001b[0m\u001b[1;33m,\u001b[0m \u001b[0mjac\u001b[0m\u001b[1;33m,\u001b[0m \u001b[0mcallback\u001b[0m\u001b[1;33m,\u001b[0m \u001b[1;33m**\u001b[0m\u001b[0moptions\u001b[0m\u001b[1;33m)\u001b[0m\u001b[1;33m\u001b[0m\u001b[0m\n",
      "\u001b[1;32m~\\Anaconda3\\lib\\site-packages\\scipy\\optimize\\optimize.py\u001b[0m in \u001b[0;36m_minimize_cg\u001b[1;34m(fun, x0, args, jac, callback, gtol, norm, eps, maxiter, disp, return_all, **unknown_options)\u001b[0m\n\u001b[0;32m   1256\u001b[0m     \u001b[1;32melse\u001b[0m\u001b[1;33m:\u001b[0m\u001b[1;33m\u001b[0m\u001b[0m\n\u001b[0;32m   1257\u001b[0m         \u001b[0mgrad_calls\u001b[0m\u001b[1;33m,\u001b[0m \u001b[0mmyfprime\u001b[0m \u001b[1;33m=\u001b[0m \u001b[0mwrap_function\u001b[0m\u001b[1;33m(\u001b[0m\u001b[0mfprime\u001b[0m\u001b[1;33m,\u001b[0m \u001b[0margs\u001b[0m\u001b[1;33m)\u001b[0m\u001b[1;33m\u001b[0m\u001b[0m\n\u001b[1;32m-> 1258\u001b[1;33m     \u001b[0mgfk\u001b[0m \u001b[1;33m=\u001b[0m \u001b[0mmyfprime\u001b[0m\u001b[1;33m(\u001b[0m\u001b[0mx0\u001b[0m\u001b[1;33m)\u001b[0m\u001b[1;33m\u001b[0m\u001b[0m\n\u001b[0m\u001b[0;32m   1259\u001b[0m     \u001b[0mk\u001b[0m \u001b[1;33m=\u001b[0m \u001b[1;36m0\u001b[0m\u001b[1;33m\u001b[0m\u001b[0m\n\u001b[0;32m   1260\u001b[0m     \u001b[0mxk\u001b[0m \u001b[1;33m=\u001b[0m \u001b[0mx0\u001b[0m\u001b[1;33m\u001b[0m\u001b[0m\n",
      "\u001b[1;32m~\\Anaconda3\\lib\\site-packages\\scipy\\optimize\\optimize.py\u001b[0m in \u001b[0;36mfunction_wrapper\u001b[1;34m(*wrapper_args)\u001b[0m\n\u001b[0;32m    290\u001b[0m     \u001b[1;32mdef\u001b[0m \u001b[0mfunction_wrapper\u001b[0m\u001b[1;33m(\u001b[0m\u001b[1;33m*\u001b[0m\u001b[0mwrapper_args\u001b[0m\u001b[1;33m)\u001b[0m\u001b[1;33m:\u001b[0m\u001b[1;33m\u001b[0m\u001b[0m\n\u001b[0;32m    291\u001b[0m         \u001b[0mncalls\u001b[0m\u001b[1;33m[\u001b[0m\u001b[1;36m0\u001b[0m\u001b[1;33m]\u001b[0m \u001b[1;33m+=\u001b[0m \u001b[1;36m1\u001b[0m\u001b[1;33m\u001b[0m\u001b[0m\n\u001b[1;32m--> 292\u001b[1;33m         \u001b[1;32mreturn\u001b[0m \u001b[0mfunction\u001b[0m\u001b[1;33m(\u001b[0m\u001b[1;33m*\u001b[0m\u001b[1;33m(\u001b[0m\u001b[0mwrapper_args\u001b[0m \u001b[1;33m+\u001b[0m \u001b[0margs\u001b[0m\u001b[1;33m)\u001b[0m\u001b[1;33m)\u001b[0m\u001b[1;33m\u001b[0m\u001b[0m\n\u001b[0m\u001b[0;32m    293\u001b[0m \u001b[1;33m\u001b[0m\u001b[0m\n\u001b[0;32m    294\u001b[0m     \u001b[1;32mreturn\u001b[0m \u001b[0mncalls\u001b[0m\u001b[1;33m,\u001b[0m \u001b[0mfunction_wrapper\u001b[0m\u001b[1;33m\u001b[0m\u001b[0m\n",
      "\u001b[1;32m~\\Anaconda3\\lib\\site-packages\\scipy\\optimize\\optimize.py\u001b[0m in \u001b[0;36mapprox_fprime\u001b[1;34m(xk, f, epsilon, *args)\u001b[0m\n\u001b[0;32m    701\u001b[0m \u001b[1;33m\u001b[0m\u001b[0m\n\u001b[0;32m    702\u001b[0m     \"\"\"\n\u001b[1;32m--> 703\u001b[1;33m     \u001b[1;32mreturn\u001b[0m \u001b[0m_approx_fprime_helper\u001b[0m\u001b[1;33m(\u001b[0m\u001b[0mxk\u001b[0m\u001b[1;33m,\u001b[0m \u001b[0mf\u001b[0m\u001b[1;33m,\u001b[0m \u001b[0mepsilon\u001b[0m\u001b[1;33m,\u001b[0m \u001b[0margs\u001b[0m\u001b[1;33m=\u001b[0m\u001b[0margs\u001b[0m\u001b[1;33m)\u001b[0m\u001b[1;33m\u001b[0m\u001b[0m\n\u001b[0m\u001b[0;32m    704\u001b[0m \u001b[1;33m\u001b[0m\u001b[0m\n\u001b[0;32m    705\u001b[0m \u001b[1;33m\u001b[0m\u001b[0m\n",
      "\u001b[1;32m~\\Anaconda3\\lib\\site-packages\\scipy\\optimize\\optimize.py\u001b[0m in \u001b[0;36m_approx_fprime_helper\u001b[1;34m(xk, f, epsilon, args, f0)\u001b[0m\n\u001b[0;32m    635\u001b[0m     \"\"\"\n\u001b[0;32m    636\u001b[0m     \u001b[1;32mif\u001b[0m \u001b[0mf0\u001b[0m \u001b[1;32mis\u001b[0m \u001b[1;32mNone\u001b[0m\u001b[1;33m:\u001b[0m\u001b[1;33m\u001b[0m\u001b[0m\n\u001b[1;32m--> 637\u001b[1;33m         \u001b[0mf0\u001b[0m \u001b[1;33m=\u001b[0m \u001b[0mf\u001b[0m\u001b[1;33m(\u001b[0m\u001b[1;33m*\u001b[0m\u001b[1;33m(\u001b[0m\u001b[1;33m(\u001b[0m\u001b[0mxk\u001b[0m\u001b[1;33m,\u001b[0m\u001b[1;33m)\u001b[0m \u001b[1;33m+\u001b[0m \u001b[0margs\u001b[0m\u001b[1;33m)\u001b[0m\u001b[1;33m)\u001b[0m\u001b[1;33m\u001b[0m\u001b[0m\n\u001b[0m\u001b[0;32m    638\u001b[0m     \u001b[0mgrad\u001b[0m \u001b[1;33m=\u001b[0m \u001b[0mnumpy\u001b[0m\u001b[1;33m.\u001b[0m\u001b[0mzeros\u001b[0m\u001b[1;33m(\u001b[0m\u001b[1;33m(\u001b[0m\u001b[0mlen\u001b[0m\u001b[1;33m(\u001b[0m\u001b[0mxk\u001b[0m\u001b[1;33m)\u001b[0m\u001b[1;33m,\u001b[0m\u001b[1;33m)\u001b[0m\u001b[1;33m,\u001b[0m \u001b[0mfloat\u001b[0m\u001b[1;33m)\u001b[0m\u001b[1;33m\u001b[0m\u001b[0m\n\u001b[0;32m    639\u001b[0m     \u001b[0mei\u001b[0m \u001b[1;33m=\u001b[0m \u001b[0mnumpy\u001b[0m\u001b[1;33m.\u001b[0m\u001b[0mzeros\u001b[0m\u001b[1;33m(\u001b[0m\u001b[1;33m(\u001b[0m\u001b[0mlen\u001b[0m\u001b[1;33m(\u001b[0m\u001b[0mxk\u001b[0m\u001b[1;33m)\u001b[0m\u001b[1;33m,\u001b[0m\u001b[1;33m)\u001b[0m\u001b[1;33m,\u001b[0m \u001b[0mfloat\u001b[0m\u001b[1;33m)\u001b[0m\u001b[1;33m\u001b[0m\u001b[0m\n",
      "\u001b[1;32m~\\Anaconda3\\lib\\site-packages\\scipy\\optimize\\optimize.py\u001b[0m in \u001b[0;36mfunction_wrapper\u001b[1;34m(*wrapper_args)\u001b[0m\n\u001b[0;32m    290\u001b[0m     \u001b[1;32mdef\u001b[0m \u001b[0mfunction_wrapper\u001b[0m\u001b[1;33m(\u001b[0m\u001b[1;33m*\u001b[0m\u001b[0mwrapper_args\u001b[0m\u001b[1;33m)\u001b[0m\u001b[1;33m:\u001b[0m\u001b[1;33m\u001b[0m\u001b[0m\n\u001b[0;32m    291\u001b[0m         \u001b[0mncalls\u001b[0m\u001b[1;33m[\u001b[0m\u001b[1;36m0\u001b[0m\u001b[1;33m]\u001b[0m \u001b[1;33m+=\u001b[0m \u001b[1;36m1\u001b[0m\u001b[1;33m\u001b[0m\u001b[0m\n\u001b[1;32m--> 292\u001b[1;33m         \u001b[1;32mreturn\u001b[0m \u001b[0mfunction\u001b[0m\u001b[1;33m(\u001b[0m\u001b[1;33m*\u001b[0m\u001b[1;33m(\u001b[0m\u001b[0mwrapper_args\u001b[0m \u001b[1;33m+\u001b[0m \u001b[0margs\u001b[0m\u001b[1;33m)\u001b[0m\u001b[1;33m)\u001b[0m\u001b[1;33m\u001b[0m\u001b[0m\n\u001b[0m\u001b[0;32m    293\u001b[0m \u001b[1;33m\u001b[0m\u001b[0m\n\u001b[0;32m    294\u001b[0m     \u001b[1;32mreturn\u001b[0m \u001b[0mncalls\u001b[0m\u001b[1;33m,\u001b[0m \u001b[0mfunction_wrapper\u001b[0m\u001b[1;33m\u001b[0m\u001b[0m\n",
      "\u001b[1;31mTypeError\u001b[0m: 'numpy.float64' object is not callable"
     ]
    }
   ],
   "source": [
    "scipy.optimize.minimize(evaluate_MPS(params,training_data,ancilla,rounding=0),params, method='CG')"
   ]
  },
  {
   "cell_type": "code",
   "execution_count": 307,
   "metadata": {},
   "outputs": [
    {
     "ename": "AttributeError",
     "evalue": "'numpy.ndarray' object has no attribute 'type'",
     "output_type": "error",
     "traceback": [
      "\u001b[1;31m---------------------------------------------------------------------------\u001b[0m",
      "\u001b[1;31mAttributeError\u001b[0m                            Traceback (most recent call last)",
      "\u001b[1;32m<ipython-input-307-18cd978ea8bd>\u001b[0m in \u001b[0;36m<module>\u001b[1;34m()\u001b[0m\n\u001b[1;32m----> 1\u001b[1;33m \u001b[0mparams\u001b[0m\u001b[1;33m.\u001b[0m\u001b[0mtype\u001b[0m\u001b[1;33m\u001b[0m\u001b[0m\n\u001b[0m",
      "\u001b[1;31mAttributeError\u001b[0m: 'numpy.ndarray' object has no attribute 'type'"
     ]
    }
   ],
   "source": []
  },
  {
   "cell_type": "code",
   "execution_count": 300,
   "metadata": {},
   "outputs": [
    {
     "data": {
      "text/plain": [
       "array([-0.85032441, -4.92182849, -5.75958653, -4.92182849, -2.63893783,\n",
       "       -1.04300876, -1.50796447])"
      ]
     },
     "execution_count": 300,
     "metadata": {},
     "output_type": "execute_result"
    }
   ],
   "source": [
    "params"
   ]
  },
  {
   "cell_type": "code",
   "execution_count": 168,
   "metadata": {
    "collapsed": true
   },
   "outputs": [],
   "source": [
    "N=np.random.rand(4,4)\n",
    "def trace_last(dm,tracing_out):\n",
    "    for i in range(tracing_out):\n",
    "        L=int(dm.shape[0]*0.5)\n",
    "        a=np.trace(N[0:L,0:L])\n",
    "        b=np.trace(N[0:L,L:2*L])\n",
    "        c=np.trace(N[L:2*L,0:L])\n",
    "        d=np.trace(N[L:2*l,L:2*L])\n",
    "        l=[a,b,c,d]\n",
    "        l=np.asarray(l)\n",
    "        dm=np.reshape(l,(2,2))\n",
    "    return dm"
   ]
  },
  {
   "cell_type": "code",
   "execution_count": 171,
   "metadata": {},
   "outputs": [
    {
     "data": {
      "text/plain": [
       "array([[0.05770041, 0.53411366, 0.59571219, 0.55373552],\n",
       "       [0.4003518 , 0.62921149, 0.64260368, 0.9732211 ],\n",
       "       [0.23996156, 0.15307084, 0.32869864, 0.13941781],\n",
       "       [0.98162122, 0.28869923, 0.3299101 , 0.58022901]])"
      ]
     },
     "execution_count": 171,
     "metadata": {},
     "output_type": "execute_result"
    }
   ],
   "source": [
    "N"
   ]
  },
  {
   "cell_type": "code",
   "execution_count": 184,
   "metadata": {},
   "outputs": [
    {
     "name": "stdout",
     "output_type": "stream",
     "text": [
      "[0.6869119  1.56893328 0.52866079 0.90892765]\n"
     ]
    },
    {
     "data": {
      "text/plain": [
       "array([[0.6869119 , 1.56893328],\n",
       "       [0.52866079, 0.90892765]])"
      ]
     },
     "execution_count": 184,
     "metadata": {},
     "output_type": "execute_result"
    }
   ],
   "source": [
    "a=np.trace(N[0:2,0:2])\n",
    "b=np.trace(N[0:2,2:4])\n",
    "c=np.trace(N[2:4,0:2])\n",
    "d=np.trace(N[2:4,2:4])\n",
    "l=[a,b,c,d]\n",
    "l=np.asarray(l)\n",
    "print(l)\n",
    "np.reshape(l,(2,2))"
   ]
  },
  {
   "cell_type": "code",
   "execution_count": 43,
   "metadata": {},
   "outputs": [
    {
     "data": {
      "text/plain": [
       "array([[-2.502624656249496, -2.8797932657906435, 1],\n",
       "       [-2.6091193224728793, -2.356194490192345, 1],\n",
       "       [0.7987099966753711, 0.2617993877991492, 2],\n",
       "       [0.5857206642286054, 0.523598775598299, 2],\n",
       "       [1.0116993291221368, 0.523598775598299, 2],\n",
       "       [0.05324733311169127, 0.0, 2],\n",
       "       [0.6922153304519879, 0.523598775598299, 2],\n",
       "       [0.5857206642286054, 0.0, 2],\n",
       "       [0.7987099966753711, 0.7853981633974483, 2],\n",
       "       [-0.6922153304519886, -0.7853981633974483, 2],\n",
       "       [0.6922153304519879, 0.0, 2],\n",
       "       [-0.053247333111691615, 0.2617993877991492, 2],\n",
       "       [-0.4792259980052228, -0.7853981633974483, 2],\n",
       "       [0.26623666555845704, 0.523598775598299, 2],\n",
       "       [0.05324733311169127, -0.7853981633974483, 2]], dtype=object)"
      ]
     },
     "execution_count": 43,
     "metadata": {},
     "output_type": "execute_result"
    }
   ],
   "source": [
    "small_iris[30:45,:]"
   ]
  },
  {
   "cell_type": "code",
   "execution_count": 300,
   "metadata": {},
   "outputs": [
    {
     "data": {
      "text/plain": [
       "array([[ 0.52888268,  0.32374209,  0.16384487,  0.48450909,  0.67869732],\n",
       "       [ 0.32374209,  0.19817049,  0.10029347,  0.29657993,  0.41544731],\n",
       "       [ 0.16384487,  0.10029347,  0.05075822,  0.15009819,  0.2102566 ],\n",
       "       [ 0.48450909,  0.29657993,  0.15009819,  0.44385848,  0.62175419],\n",
       "       [ 0.67869732,  0.41544731,  0.2102566 ,  0.62175419,  0.87094939]])"
      ]
     },
     "execution_count": 300,
     "metadata": {},
     "output_type": "execute_result"
    }
   ],
   "source": [
    "# function(normalise) that normalises data appropriately XXX\n",
    "# function(create_dm) produces initial rho XXXXX\n",
    "# function(get rid of) ditches the first qubit XXXXX\n",
    "# function(measure) measures the last qubit (super easy) XXXX\n",
    "# function(elongate) that tensors a unitary with appropriate sized identity matrix XXXX\n",
    "# function(initialise) that initialises right number (and size) of unitaries XXXX\n",
    "# process (optimise) that optimises these unitaries according to a cost function\n",
    "# process (evaluate) that evaluates the circuit.\n",
    "z=np.random.rand(5,1)\n",
    "np.kron(np.transpose(z),z)"
   ]
  },
  {
   "cell_type": "code",
   "execution_count": 659,
   "metadata": {},
   "outputs": [
    {
     "name": "stdout",
     "output_type": "stream",
     "text": [
      "(10,)\n",
      "(26,)\n"
     ]
    }
   ],
   "source": [
    "print(small_iris[0:10,1].shape)\n",
    "print(test_iris1.shape)"
   ]
  },
  {
   "cell_type": "markdown",
   "metadata": {
    "collapsed": true
   },
   "source": [
    "# TO DO LIST:\n",
    "\n",
    "## - check the existing quantum architectures that we are using\n",
    "\n",
    "## - read on \"proper\" evolution with unitarity constraints\n",
    "\n",
    "## - code the circuit\n",
    "\n",
    "## - try a completely adaptive implementation\n",
    "\n",
    "## - consider a purely quantum optimisation"
   ]
  },
  {
   "cell_type": "code",
   "execution_count": 34,
   "metadata": {},
   "outputs": [
    {
     "data": {
      "text/plain": [
       "array([[ 0.67728728-0.04510286j, -0.03767357+0.59710738j,\n",
       "        -0.07876553+0.07457206j,  0.30078743-0.28116378j],\n",
       "       [-0.27143852+0.49191928j,  0.63722363+0.34506098j,\n",
       "         0.14640201+0.2680105j ,  0.2010418 +0.15979529j],\n",
       "       [-0.04464229-0.0941223j , -0.24845995+0.17756922j,\n",
       "         0.94572618-0.00818055j, -0.03536123+0.01302057j],\n",
       "       [-0.28207055-0.36492258j, -0.01999003-0.15251119j,\n",
       "         0.00643183-0.02157599j,  0.87342314-0.01528317j]])"
      ]
     },
     "execution_count": 34,
     "metadata": {},
     "output_type": "execute_result"
    }
   ],
   "source": [
    "A=qutip.rand_unitary(4).full()\n",
    "A"
   ]
  },
  {
   "cell_type": "code",
   "execution_count": 35,
   "metadata": {
    "collapsed": true
   },
   "outputs": [],
   "source": [
    "q,r=np.linalg.qr(A)"
   ]
  },
  {
   "cell_type": "code",
   "execution_count": 36,
   "metadata": {},
   "outputs": [
    {
     "data": {
      "text/plain": [
       "array([[-1.+0.j,  0.+0.j,  0.+0.j,  0.+0.j],\n",
       "       [ 0.+0.j, -1.+0.j,  0.+0.j,  0.+0.j],\n",
       "       [ 0.+0.j,  0.+0.j, -1.+0.j,  0.+0.j],\n",
       "       [ 0.+0.j,  0.+0.j,  0.+0.j, -1.+0.j]])"
      ]
     },
     "execution_count": 36,
     "metadata": {},
     "output_type": "execute_result"
    }
   ],
   "source": [
    "np.imag(r)[abs(np.imag(r))<0.000001]=0\n",
    "np.real(r)[abs(np.real(r))<0.000001]=0\n",
    "r"
   ]
  },
  {
   "cell_type": "code",
   "execution_count": 37,
   "metadata": {},
   "outputs": [
    {
     "data": {
      "text/plain": [
       "array([[-0.67728728+0.04510286j,  0.03767357-0.59710738j,\n",
       "         0.07876553-0.07457206j, -0.30078743+0.28116378j],\n",
       "       [ 0.27143852-0.49191928j, -0.63722363-0.34506098j,\n",
       "        -0.14640201-0.2680105j , -0.2010418 -0.15979529j],\n",
       "       [ 0.04464229+0.0941223j ,  0.24845995-0.17756922j,\n",
       "        -0.94572618+0.00818055j,  0.03536123-0.01302057j],\n",
       "       [ 0.28207055+0.36492258j,  0.01999003+0.15251119j,\n",
       "        -0.00643183+0.02157599j, -0.87342314+0.01528317j]])"
      ]
     },
     "execution_count": 37,
     "metadata": {},
     "output_type": "execute_result"
    }
   ],
   "source": [
    "q"
   ]
  },
  {
   "cell_type": "code",
   "execution_count": 56,
   "metadata": {
    "collapsed": true
   },
   "outputs": [],
   "source": [
    "for k in range(0):\n",
    "    print(k)"
   ]
  },
  {
   "cell_type": "code",
   "execution_count": null,
   "metadata": {
    "collapsed": true
   },
   "outputs": [],
   "source": []
  }
 ],
 "metadata": {
  "kernelspec": {
   "display_name": "Python 3",
   "language": "python",
   "name": "python3"
  },
  "language_info": {
   "codemirror_mode": {
    "name": "ipython",
    "version": 3
   },
   "file_extension": ".py",
   "mimetype": "text/x-python",
   "name": "python",
   "nbconvert_exporter": "python",
   "pygments_lexer": "ipython3",
   "version": "3.5.3"
  }
 },
 "nbformat": 4,
 "nbformat_minor": 2
}

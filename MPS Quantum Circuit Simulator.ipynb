{
 "cells": [
  {
   "cell_type": "markdown",
   "metadata": {},
   "source": [
    "# Start. Initialise modules and hyper parameters"
   ]
  },
  {
   "cell_type": "code",
   "execution_count": 2,
   "metadata": {
    "collapsed": true
   },
   "outputs": [],
   "source": [
    "import numpy as np\n",
    "from matplotlib import pyplot as plt\n",
    "import math\n",
    "import qutip\n",
    "import pandas as pd\n",
    "from qiskit.tools.qi.qi import partial_trace\n",
    "import scipy\n",
    "from random import shuffle\n",
    "import random"
   ]
  },
  {
   "cell_type": "markdown",
   "metadata": {
    "collapsed": true
   },
   "source": [
    "# Import Data & First Look"
   ]
  },
  {
   "cell_type": "code",
   "execution_count": 4,
   "metadata": {
    "collapsed": true
   },
   "outputs": [],
   "source": [
    "iris = pd.read_csv('Iris.csv', header=None)"
   ]
  },
  {
   "cell_type": "code",
   "execution_count": 5,
   "metadata": {
    "collapsed": true
   },
   "outputs": [],
   "source": [
    "iris=np.array(iris)"
   ]
  },
  {
   "cell_type": "code",
   "execution_count": 6,
   "metadata": {
    "collapsed": true
   },
   "outputs": [],
   "source": [
    "#numericalise the labels for graphing\n",
    "iris[:,4][iris[:,4] == 'setosa']=1\n",
    "iris[:,4][iris[:,4] == 'versicolor']=2\n",
    "iris[:,4][iris[:,4] == 'virginica']=3"
   ]
  },
  {
   "cell_type": "code",
   "execution_count": 7,
   "metadata": {},
   "outputs": [
    {
     "ename": "NameError",
     "evalue": "name 'small_iris_train' is not defined",
     "output_type": "error",
     "traceback": [
      "\u001b[1;31m---------------------------------------------------------------------------\u001b[0m",
      "\u001b[1;31mNameError\u001b[0m                                 Traceback (most recent call last)",
      "\u001b[1;32m<ipython-input-7-cb075bb139e4>\u001b[0m in \u001b[0;36m<module>\u001b[1;34m()\u001b[0m\n\u001b[1;32m----> 1\u001b[1;33m \u001b[0mplt\u001b[0m\u001b[1;33m.\u001b[0m\u001b[0mscatter\u001b[0m\u001b[1;33m(\u001b[0m\u001b[0msmall_iris_train\u001b[0m\u001b[1;33m[\u001b[0m\u001b[1;33m:\u001b[0m\u001b[1;33m,\u001b[0m\u001b[1;36m1\u001b[0m\u001b[1;33m]\u001b[0m\u001b[1;33m,\u001b[0m \u001b[0msmall_iris_train\u001b[0m\u001b[1;33m[\u001b[0m\u001b[1;33m:\u001b[0m\u001b[1;33m,\u001b[0m\u001b[1;36m0\u001b[0m\u001b[1;33m]\u001b[0m\u001b[1;33m,\u001b[0m \u001b[0mc\u001b[0m\u001b[1;33m=\u001b[0m\u001b[0msmall_iris_train\u001b[0m\u001b[1;33m[\u001b[0m\u001b[1;33m:\u001b[0m\u001b[1;33m,\u001b[0m\u001b[1;36m2\u001b[0m\u001b[1;33m]\u001b[0m\u001b[1;33m)\u001b[0m\u001b[1;33m\u001b[0m\u001b[0m\n\u001b[0m\u001b[0;32m      2\u001b[0m \u001b[0mplt\u001b[0m\u001b[1;33m.\u001b[0m\u001b[0mshow\u001b[0m\u001b[1;33m(\u001b[0m\u001b[1;33m)\u001b[0m\u001b[1;33m\u001b[0m\u001b[0m\n",
      "\u001b[1;31mNameError\u001b[0m: name 'small_iris_train' is not defined"
     ]
    }
   ],
   "source": [
    "plt.scatter(small_iris_train[:,1], small_iris_train[:,0], c=small_iris_train[:,2])\n",
    "plt.show()"
   ]
  },
  {
   "cell_type": "code",
   "execution_count": 15,
   "metadata": {
    "collapsed": true
   },
   "outputs": [],
   "source": [
    "small_iris=iris[:66,:]"
   ]
  },
  {
   "cell_type": "code",
   "execution_count": 12,
   "metadata": {},
   "outputs": [
    {
     "data": {
      "text/plain": [
       "array([1, 1, 1, 1, 1, 1, 1, 1, 1, 1, 1, 1, 1, 1, 1, 1, 1, 1, 1, 1, 1, 1, 1,\n",
       "       1, 1, 1, 1, 1, 1, 1, 1, 1, 2, 2, 2, 2, 2, 2, 2, 2, 2, 2, 2, 2, 2, 2,\n",
       "       2, 2, 2, 2, 2, 2, 2, 2, 2, 2, 2, 2, 2, 2, 2, 2, 2, 2, 2, 2], dtype=object)"
      ]
     },
     "execution_count": 12,
     "metadata": {},
     "output_type": "execute_result"
    }
   ],
   "source": [
    "small_iris[:,4]"
   ]
  },
  {
   "cell_type": "code",
   "execution_count": 8,
   "metadata": {},
   "outputs": [
    {
     "data": {
      "image/png": "[encoded data removed]",
      "text/plain": [
       "<matplotlib.figure.Figure at 0x204ba674eb8>"
      ]
     },
     "metadata": {},
     "output_type": "display_data"
    }
   ],
   "source": [
    "plt.scatter(iris[33:100,1], iris[33:100,0], c=iris[33:100,4])\n",
    "plt.show()"
   ]
  },
  {
   "cell_type": "code",
   "execution_count": 27,
   "metadata": {},
   "outputs": [
    {
     "data": {
      "text/plain": [
       "array([1, 1, 1, 1, 1, 1, 1, 1, 1, 1, 1, 1, 1, 1, 1, 1, 1, 1, 1, 1, 1, 1, 1,\n",
       "       1, 1, 1, 1, 1, 1, 1, 1, 1, 0, 0, 0, 0, 0, 0, 0, 0, 0, 0, 0, 0, 0, 0,\n",
       "       0, 0, 0, 0, 0, 0, 0, 0, 0, 0, 0, 0, 0, 0, 0, 0, 0, 0, 0, 0], dtype=object)"
      ]
     },
     "execution_count": 27,
     "metadata": {},
     "output_type": "execute_result"
    }
   ],
   "source": [
    "small_iris[:,4]"
   ]
  },
  {
   "cell_type": "code",
   "execution_count": 41,
   "metadata": {},
   "outputs": [
    {
     "ename": "ValueError",
     "evalue": "The truth value of an array with more than one element is ambiguous. Use a.any() or a.all()",
     "output_type": "error",
     "traceback": [
      "\u001b[1;31m---------------------------------------------------------------------------\u001b[0m",
      "\u001b[1;31mValueError\u001b[0m                                Traceback (most recent call last)",
      "\u001b[1;32m<ipython-input-41-543dbae85b72>\u001b[0m in \u001b[0;36m<module>\u001b[1;34m()\u001b[0m\n\u001b[1;32m----> 1\u001b[1;33m \u001b[0miris_hard\u001b[0m\u001b[1;33m=\u001b[0m\u001b[0miris\u001b[0m\u001b[1;33m[\u001b[0m\u001b[1;33m:\u001b[0m\u001b[1;33m,\u001b[0m\u001b[0miris\u001b[0m\u001b[1;33m[\u001b[0m\u001b[1;33m:\u001b[0m\u001b[1;33m,\u001b[0m\u001b[1;36m4\u001b[0m\u001b[1;33m]\u001b[0m\u001b[1;33m==\u001b[0m\u001b[1;36m1\u001b[0m \u001b[1;32mor\u001b[0m \u001b[0miris\u001b[0m\u001b[1;33m[\u001b[0m\u001b[1;33m:\u001b[0m\u001b[1;33m,\u001b[0m\u001b[1;36m4\u001b[0m\u001b[1;33m]\u001b[0m\u001b[1;33m==\u001b[0m\u001b[1;36m2\u001b[0m\u001b[1;33m]\u001b[0m\u001b[1;33m\u001b[0m\u001b[0m\n\u001b[0m",
      "\u001b[1;31mValueError\u001b[0m: The truth value of an array with more than one element is ambiguous. Use a.any() or a.all()"
     ]
    }
   ],
   "source": [
    "iris_hard=np.zeroes(66:)"
   ]
  },
  {
   "cell_type": "code",
   "execution_count": 22,
   "metadata": {},
   "outputs": [
    {
     "data": {
      "text/plain": [
       "array([0, 1, 1, 1, 0, 0, 0, 0, 1, 0, 0, 1, 1, 0, 1, 0, 0, 1, 0, 1, 1, 1, 1,\n",
       "       0, 1, 0, 0, 1, 1, 1], dtype=object)"
      ]
     },
     "execution_count": 22,
     "metadata": {},
     "output_type": "execute_result"
    }
   ],
   "source": [
    "small_iris_test[:,2]"
   ]
  },
  {
   "cell_type": "code",
   "execution_count": 9,
   "metadata": {},
   "outputs": [
    {
     "data": {
      "text/plain": [
       "(67, 5)"
      ]
     },
     "execution_count": 9,
     "metadata": {},
     "output_type": "execute_result"
    }
   ],
   "source": [
    "iris_hard=iris[33:103,:]\n",
    "iris_hard.shape"
   ]
  },
  {
   "cell_type": "code",
   "execution_count": 14,
   "metadata": {
    "collapsed": true
   },
   "outputs": [
    {
     "data": {
      "text/plain": [
       "array([[0.34906585039886573, 0.9817477042468101, 0.1064946662233828,\n",
       "        0.06544984694978737],\n",
       "       [0.26179938779914963, 0.6544984694978735, 0.1064946662233828,\n",
       "        0.06544984694978737],\n",
       "       [0.17453292519943306, 0.7853981633974483, 0.07987099966753712,\n",
       "        0.06544984694978737],\n",
       "       [0.13089969389957462, 0.7199483164476609, 0.13311833277922852,\n",
       "        0.06544984694978737],\n",
       "       [0.3054326190990077, 1.0471975511965976, 0.1064946662233828,\n",
       "        0.06544984694978737],\n",
       "       [0.47996554429844074, 1.2435470920459595, 0.1863656658909199,\n",
       "        0.19634954084936213],\n",
       "       [0.13089969389957462, 0.9162978572970228, 0.1064946662233828,\n",
       "        0.1308996938995747],\n",
       "       [0.3054326190990077, 0.9162978572970228, 0.13311833277922852,\n",
       "        0.06544984694978737],\n",
       "       [0.043633231299858466, 0.589048622548086, 0.1064946662233828,\n",
       "        0.06544984694978737],\n",
       "       [0.26179938779914963, 0.7199483164476609, 0.13311833277922852, 0.0],\n",
       "       [0.47996554429844074, 1.112647398146385, 0.13311833277922852,\n",
       "        0.06544984694978737],\n",
       "       [0.21816615649929116, 0.9162978572970228, 0.15974199933507424,\n",
       "        0.06544984694978737],\n",
       "       [0.21816615649929116, 0.6544984694978735, 0.1064946662233828, 0.0],\n",
       "       [0.0, 0.6544984694978735, 0.026623666555845728, 0.0],\n",
       "       [0.6544984694978735, 1.308996938995747, 0.0532473331116914,\n",
       "        0.06544984694978737],\n",
       "       [0.6108652381980154, 1.5707963267948966, 0.13311833277922852,\n",
       "        0.19634954084936213],\n",
       "       [0.47996554429844074, 1.2435470920459595, 0.07987099966753712,\n",
       "        0.19634954084936213],\n",
       "       [0.34906585039886573, 0.9817477042468101, 0.1064946662233828,\n",
       "        0.1308996938995747],\n",
       "       [0.6108652381980154, 1.178097245096172, 0.1863656658909199,\n",
       "        0.1308996938995747],\n",
       "       [0.34906585039886573, 1.178097245096172, 0.13311833277922852,\n",
       "        0.1308996938995747],\n",
       "       [0.47996554429844074, 0.9162978572970228, 0.1863656658909199,\n",
       "        0.06544984694978737],\n",
       "       [0.34906585039886573, 1.112647398146385, 0.13311833277922852,\n",
       "        0.19634954084936213],\n",
       "       [0.13089969389957462, 1.0471975511965976, 0.0, 0.06544984694978737],\n",
       "       [0.34906585039886573, 0.8508480103472355, 0.1863656658909199,\n",
       "        0.26179938779914946],\n",
       "       [0.21816615649929116, 0.9162978572970228, 0.23961299900261132,\n",
       "        0.06544984694978737],\n",
       "       [0.3054326190990077, 0.6544984694978735, 0.15974199933507424,\n",
       "        0.06544984694978737],\n",
       "       [0.3054326190990077, 0.9162978572970228, 0.15974199933507424,\n",
       "        0.19634954084936213],\n",
       "       [0.39269908169872425, 0.9817477042468101, 0.13311833277922852,\n",
       "        0.06544984694978737],\n",
       "       [0.39269908169872425, 0.9162978572970228, 0.1064946662233828,\n",
       "        0.06544984694978737],\n",
       "       [0.17453292519943306, 0.7853981633974483, 0.15974199933507424,\n",
       "        0.06544984694978737],\n",
       "       [0.21816615649929116, 0.7199483164476609, 0.15974199933507424,\n",
       "        0.06544984694978737],\n",
       "       [0.47996554429844074, 0.9162978572970228, 0.13311833277922852,\n",
       "        0.19634954084936213],\n",
       "       [1.1780972450961722, 0.7853981633974483, 0.9850756625662911,\n",
       "        0.8508480103472356],\n",
       "       [0.9162978572970231, 0.7853981633974483, 0.9318283294545996,\n",
       "        0.9162978572970231],\n",
       "       [1.1344640137963142, 0.7199483164476609, 1.0383229956779825,\n",
       "        0.9162978572970231],\n",
       "       [0.5235987755982988, 0.19634954084936193, 0.7987099966753711,\n",
       "        0.7853981633974483],\n",
       "       [0.9599310885968811, 0.5235987755982987, 0.9584519960104453,\n",
       "        0.9162978572970231],\n",
       "       [0.6108652381980154, 0.5235987755982987, 0.9318283294545996,\n",
       "        0.7853981633974483],\n",
       "       [0.8726646259971647, 0.8508480103472355, 0.9850756625662911,\n",
       "        0.9817477042468103],\n",
       "       [0.26179938779914963, 0.26179938779914935, 0.6123443307844512,\n",
       "        0.5890486225480862],\n",
       "       [1.0035643198967392, 0.589048622548086, 0.9584519960104453,\n",
       "        0.7853981633974483],\n",
       "       [0.39269908169872425, 0.45814892864851153, 0.7720863301195253,\n",
       "        0.8508480103472356],\n",
       "       [0.3054326190990077, 0.0, 0.6655916638961425, 0.5890486225480862],\n",
       "       [0.6981317007977319, 0.6544984694978735, 0.8519573297870625,\n",
       "        0.9162978572970231],\n",
       "       [0.74176493209759, 0.13089969389957481, 0.7987099966753711,\n",
       "        0.5890486225480862],\n",
       "       [0.7853981633974481, 0.589048622548086, 0.9850756625662911,\n",
       "        0.8508480103472356],\n",
       "       [0.5672320068981569, 0.589048622548086, 0.6922153304519884,\n",
       "        0.7853981633974483],\n",
       "       [1.0471975511965976, 0.7199483164476609, 0.905204662898754,\n",
       "        0.8508480103472356],\n",
       "       [0.5672320068981569, 0.6544984694978735, 0.9318283294545996,\n",
       "        0.9162978572970231],\n",
       "       [0.6544984694978735, 0.45814892864851153, 0.8253336632312167,\n",
       "        0.5890486225480862],\n",
       "       [0.8290313946973066, 0.13089969389957481, 0.9318283294545996,\n",
       "        0.9162978572970231],\n",
       "       [0.5672320068981569, 0.32724923474893675, 0.7720863301195253,\n",
       "        0.6544984694978736],\n",
       "       [0.6981317007977319, 0.7853981633974483, 1.0116993291221368,\n",
       "        1.1126473981463851],\n",
       "       [0.7853981633974481, 0.5235987755982987, 0.7987099966753711,\n",
       "        0.7853981633974483],\n",
       "       [0.8726646259971647, 0.32724923474893675, 1.0383229956779825,\n",
       "        0.9162978572970231],\n",
       "       [0.7853981633974481, 0.5235987755982987, 0.9850756625662911,\n",
       "        0.7199483164476609],\n",
       "       [0.9162978572970231, 0.589048622548086, 0.8785809963429082,\n",
       "        0.7853981633974483],\n",
       "       [1.0035643198967392, 0.6544984694978735, 0.905204662898754,\n",
       "        0.8508480103472356],\n",
       "       [1.0908307824964558, 0.5235987755982987, 1.0116993291221368,\n",
       "        0.8508480103472356],\n",
       "       [1.0471975511965976, 0.6544984694978735, 1.0649466622338282,\n",
       "        1.0471975511965976],\n",
       "       [0.74176493209759, 0.589048622548086, 0.9318283294545996,\n",
       "        0.9162978572970231],\n",
       "       [0.6108652381980154, 0.39269908169872414, 0.6655916638961425,\n",
       "        0.5890486225480862],\n",
       "       [0.5235987755982988, 0.26179938779914935, 0.7454626635636796,\n",
       "        0.6544984694978736],\n",
       "       [0.5235987755982988, 0.26179938779914935, 0.718838997007834,\n",
       "        0.5890486225480862],\n",
       "       [0.6544984694978735, 0.45814892864851153, 0.7720863301195253,\n",
       "        0.7199483164476609],\n",
       "       [0.74176493209759, 0.45814892864851153, 1.0915703287896739,\n",
       "        0.9817477042468103],\n",
       "       [0.8726646259971647, 0.8508480103472355, 1.331183327792285,\n",
       "        1.5707963267948966],\n",
       "       [0.6544984694978735, 0.45814892864851153, 1.0915703287896739,\n",
       "        1.1780972450961724],\n",
       "       [1.2217304763960304, 0.6544984694978735, 1.3045596612364396,\n",
       "        1.3089969389957472],\n",
       "       [0.8726646259971647, 0.589048622548086, 1.2246886615689023,\n",
       "        1.1126473981463851],\n",
       "       [0.9599310885968811, 0.6544984694978735, 1.2779359946805937,\n",
       "        1.3744467859455347],\n",
       "       [1.4398966328953215, 0.6544984694978735, 1.4909253271273593,\n",
       "        1.3089969389957472],\n",
       "       [0.26179938779914963, 0.32724923474893675, 0.9318283294545996,\n",
       "        1.0471975511965976],\n",
       "       [1.308996938995747, 0.589048622548086, 1.4110543274598222,\n",
       "        1.1126473981463851],\n",
       "       [1.0471975511965976, 0.32724923474893675, 1.2779359946805937,\n",
       "        1.1126473981463851],\n",
       "       [1.265363707695889, 1.0471975511965976, 1.3578069943481308,\n",
       "        1.5707963267948966],\n",
       "       [0.9599310885968811, 0.7853981633974483, 1.0915703287896739,\n",
       "        1.2435470920459597],\n",
       "       [0.9162978572970231, 0.45814892864851153, 1.1448176619013652,\n",
       "        1.1780972450961724],\n",
       "       [1.0908307824964558, 0.6544984694978735, 1.1980649950130566,\n",
       "        1.3089969389957472],\n",
       "       [0.6108652381980154, 0.32724923474893675, 1.0649466622338282,\n",
       "        1.2435470920459597],\n",
       "       [0.6544984694978735, 0.5235987755982987, 1.0915703287896739,\n",
       "        1.505346479845109],\n",
       "       [0.9162978572970231, 0.7853981633974483, 1.1448176619013652,\n",
       "        1.4398966328953218],\n",
       "       [0.9599310885968811, 0.6544984694978735, 1.1980649950130566,\n",
       "        1.1126473981463851],\n",
       "       [1.48352986419518, 1.178097245096172, 1.5175489936832052,\n",
       "        1.3744467859455347],\n",
       "       [1.48352986419518, 0.39269908169872414, 1.5707963267948966,\n",
       "        1.4398966328953218],\n",
       "       [0.74176493209759, 0.13089969389957481, 1.0649466622338282,\n",
       "        0.9162978572970231],\n",
       "       [1.1344640137963142, 0.7853981633974483, 1.251312328124748,\n",
       "        1.4398966328953218],\n",
       "       [0.5672320068981569, 0.5235987755982987, 1.0383229956779825,\n",
       "        1.2435470920459597],\n",
       "       [1.48352986419518, 0.5235987755982987, 1.5175489936832052,\n",
       "        1.2435470920459597],\n",
       "       [0.8726646259971647, 0.45814892864851153, 1.0383229956779825,\n",
       "        1.1126473981463851],\n",
       "       [1.0471975511965976, 0.8508480103472355, 1.251312328124748,\n",
       "        1.3089969389957472],\n",
       "       [1.265363707695889, 0.7853981633974483, 1.331183327792285,\n",
       "        1.1126473981463851],\n",
       "       [0.8290313946973066, 0.5235987755982987, 1.0116993291221368,\n",
       "        1.1126473981463851],\n",
       "       [0.7853981633974481, 0.6544984694978735, 1.0383229956779825,\n",
       "        1.1126473981463851],\n",
       "       [0.9162978572970231, 0.5235987755982987, 1.2246886615689023,\n",
       "        1.3089969389957472],\n",
       "       [1.265363707695889, 0.6544984694978735, 1.2779359946805937,\n",
       "        0.9817477042468103],\n",
       "       [1.3526301702956054, 0.5235987755982987, 1.3578069943481308,\n",
       "        1.1780972450961724],\n",
       "       [1.5707963267948966, 1.178097245096172, 1.437677994015668,\n",
       "        1.2435470920459597],\n",
       "       [0.9162978572970231, 0.5235987755982987, 1.2246886615689023,\n",
       "        1.3744467859455347],\n",
       "       [0.8726646259971647, 0.5235987755982987, 1.0915703287896739,\n",
       "        0.9162978572970231]], dtype=object)"
      ]
     },
     "execution_count": 14,
     "metadata": {},
     "output_type": "execute_result"
    }
   ],
   "source": [
    "min_max_norm(iris[:,:4], 0,0.5*math.pi)"
   ]
  },
  {
   "cell_type": "markdown",
   "metadata": {},
   "source": [
    "### Normalise the input values between -pi and pi"
   ]
  },
  {
   "cell_type": "code",
   "execution_count": 18,
   "metadata": {
    "collapsed": true
   },
   "outputs": [],
   "source": [
    "number_of_inputs = 4 #NOT INCLUDING LABELS\n",
    "\n",
    "for i in range(number_of_inputs): #normalises iris to values between -pi and pi\n",
    "    mn=np.min(iris[:,i])\n",
    "    iris[:,i]=iris[:,i]-mn #add the lowest value\n",
    "    mx=np.max(iris[:,i])\n",
    "    iris[:,i]=(iris[:,i]*2/mx) -1\n",
    "    iris[:,i]=iris[:,i]*math.pi"
   ]
  },
  {
   "cell_type": "code",
   "execution_count": 53,
   "metadata": {
    "collapsed": true
   },
   "outputs": [],
   "source": [
    "iris_hard_train,iris_hard_test=shuffle_data(iris_hard,20)"
   ]
  },
  {
   "cell_type": "code",
   "execution_count": 10,
   "metadata": {
    "collapsed": true
   },
   "outputs": [],
   "source": [
    "#for 2 inputs only\n",
    "small_iris=np.zeros((66,3))\n",
    "small_iris=iris[:66,2:5]\n",
    "small_iris[:,2]=small_iris[:,2]-1"
   ]
  },
  {
   "cell_type": "markdown",
   "metadata": {},
   "source": [
    "### Toolset Data"
   ]
  },
  {
   "cell_type": "code",
   "execution_count": 1,
   "metadata": {},
   "outputs": [
    {
     "ename": "NameError",
     "evalue": "name 'pd' is not defined",
     "output_type": "error",
     "traceback": [
      "\u001b[1;31m---------------------------------------------------------------------------\u001b[0m",
      "\u001b[1;31mNameError\u001b[0m                                 Traceback (most recent call last)",
      "\u001b[1;32m<ipython-input-1-a8034e4a595c>\u001b[0m in \u001b[0;36m<module>\u001b[1;34m()\u001b[0m\n\u001b[1;32m----> 1\u001b[1;33m \u001b[0mtools\u001b[0m \u001b[1;33m=\u001b[0m \u001b[0mpd\u001b[0m\u001b[1;33m.\u001b[0m\u001b[0mread_csv\u001b[0m\u001b[1;33m(\u001b[0m\u001b[1;34m'annotation.csv'\u001b[0m\u001b[1;33m,\u001b[0m \u001b[0mheader\u001b[0m\u001b[1;33m=\u001b[0m\u001b[1;32mNone\u001b[0m\u001b[1;33m)\u001b[0m\u001b[1;33m\u001b[0m\u001b[0m\n\u001b[0m",
      "\u001b[1;31mNameError\u001b[0m: name 'pd' is not defined"
     ]
    }
   ],
   "source": [
    "tools = pd.read_csv('annotation.csv', header=None)"
   ]
  },
  {
   "cell_type": "code",
   "execution_count": null,
   "metadata": {
    "collapsed": true
   },
   "outputs": [],
   "source": [
    "tools=np.array(tools)"
   ]
  },
  {
   "cell_type": "code",
   "execution_count": 10,
   "metadata": {
    "collapsed": true
   },
   "outputs": [],
   "source": [
    "tools=tools[1:,1:]"
   ]
  },
  {
   "cell_type": "code",
   "execution_count": 11,
   "metadata": {
    "collapsed": true
   },
   "outputs": [],
   "source": [
    "tools=np.array([[float(y) for y in x] for x in tools])"
   ]
  },
  {
   "cell_type": "code",
   "execution_count": 12,
   "metadata": {},
   "outputs": [
    {
     "data": {
      "text/plain": [
       "array([[224.14727301,  89.9888882 ,   0.        ],\n",
       "       [125.09996003,  68.0661443 ,   0.        ],\n",
       "       [286.70019184, 200.81085628,   0.        ],\n",
       "       [185.02432273, 149.1643389 ,   0.        ],\n",
       "       [275.68822971, 144.61673485,   0.        ],\n",
       "       [129.54149914,  54.40588203,   1.        ],\n",
       "       [ 52.63078947,  16.4924225 ,   1.        ],\n",
       "       [157.88920166,  47.92702787,   1.        ],\n",
       "       [138.05795884,  49.        ,   1.        ],\n",
       "       [104.69001863,  35.        ,   1.        ]])"
      ]
     },
     "execution_count": 12,
     "metadata": {},
     "output_type": "execute_result"
    }
   ],
   "source": [
    "tools[:,:]"
   ]
  },
  {
   "cell_type": "code",
   "execution_count": 1021,
   "metadata": {
    "collapsed": true
   },
   "outputs": [],
   "source": [
    "\n",
    "\n",
    "for i in range(2): #normalises iris to values between -pi and pi\n",
    "    mn=np.min(tools[:,i])\n",
    "    tools[:,i]=tools[:,i]-mn #add the lowest value\n",
    "    mx=np.max(tools[:,i])\n",
    "    tools[:,i]=(tools[:,i]*2/mx) -1\n",
    "    tools[:,i]=tools[:,i]*math.pi"
   ]
  },
  {
   "cell_type": "code",
   "execution_count": 57,
   "metadata": {},
   "outputs": [
    {
     "data": {
      "text/plain": [
       "array([[1.4, 0.2, 0],\n",
       "       [1.2, 0.2, 0],\n",
       "       [1.7, 0.4, 0],\n",
       "       [4.8, 1.8, 1],\n",
       "       [1.5, 0.4, 0],\n",
       "       [3.5, 1.0, 1],\n",
       "       [1.4, 0.1, 0],\n",
       "       [1.3, 0.2, 0],\n",
       "       [4.5, 1.5, 1],\n",
       "       [1.5, 0.4, 0],\n",
       "       [4.4, 1.4, 1],\n",
       "       [1.6, 0.4, 0],\n",
       "       [1.7, 0.5, 0],\n",
       "       [4.8, 1.4, 1],\n",
       "       [1.4, 0.3, 0],\n",
       "       [1.5, 0.3, 0],\n",
       "       [3.9, 1.1, 1],\n",
       "       [4.7, 1.6, 1],\n",
       "       [4.6, 1.3, 1],\n",
       "       [1.5, 0.1, 0],\n",
       "       [1.9, 0.2, 0],\n",
       "       [4.5, 1.5, 1],\n",
       "       [4.3, 1.3, 1],\n",
       "       [3.7, 1.0, 1],\n",
       "       [1.4, 0.2, 0],\n",
       "       [3.9, 1.2, 1],\n",
       "       [5.1, 1.6, 1],\n",
       "       [1.6, 0.2, 0],\n",
       "       [4.6, 1.5, 1],\n",
       "       [4.2, 1.5, 1],\n",
       "       [4.7, 1.4, 1],\n",
       "       [1.4, 0.2, 0],\n",
       "       [1.4, 0.2, 0],\n",
       "       [1.1, 0.1, 0],\n",
       "       [4.5, 1.3, 1],\n",
       "       [4.5, 1.5, 1]], dtype=object)"
      ]
     },
     "execution_count": 57,
     "metadata": {},
     "output_type": "execute_result"
    }
   ],
   "source": [
    "small_iris_train"
   ]
  },
  {
   "cell_type": "code",
   "execution_count": 1200,
   "metadata": {},
   "outputs": [
    {
     "data": {
      "image/png": "[encoded data removed]",
      "text/plain": [
       "<matplotlib.figure.Figure at 0x24bda5893c8>"
      ]
     },
     "metadata": {},
     "output_type": "display_data"
    }
   ],
   "source": [
    "plt.scatter(tools[:,1], tools[:,0], c=tools[:,2])\n",
    "plt.show()"
   ]
  },
  {
   "cell_type": "code",
   "execution_count": 13,
   "metadata": {
    "collapsed": true
   },
   "outputs": [],
   "source": [
    "def shuffle_data(data,test_size):\n",
    "    l=[x for x in range(data.shape[0])]\n",
    "    shuffle(l)\n",
    "    data_test=data[l[:test_size],:]\n",
    "    data_train=data[l[test_size:],:]\n",
    "    return data_train,data_test\n",
    "\n",
    "def normalise(data):\n",
    "    l=data.shape[1]\n",
    "    for i in range(l-1):\n",
    "        mn=np.min(data[:,i])\n",
    "        data[:,i]=data[:,i]-mn #add the lowest value\n",
    "        mx=np.max(data[:,i])\n",
    "        data[:,i]=(data[:,i]*2/mx) -1\n",
    "        data[:,i]=data[:,i]*math.pi\n",
    "    return data\n",
    "\n",
    "def min_max_norm(data,new_min=-1*math.pi,new_max=math.pi):\n",
    "    for i in range(data.shape[1]):\n",
    "        old_min=min(data[:,i])\n",
    "        old_max=max(data[:,i])\n",
    "        data[:,i]=((data[:,i]-old_min)/(old_max-old_min)) *(new_max-new_min)+new_min\n",
    "    return data"
   ]
  },
  {
   "cell_type": "code",
   "execution_count": 71,
   "metadata": {
    "collapsed": true
   },
   "outputs": [],
   "source": [
    "small_iris=min_max_norm(small_iris)\n",
    "iris_hard=normalise(iris_hard)"
   ]
  },
  {
   "cell_type": "code",
   "execution_count": 13,
   "metadata": {},
   "outputs": [
    {
     "ename": "NameError",
     "evalue": "name 'iris_hard' is not defined",
     "output_type": "error",
     "traceback": [
      "\u001b[1;31m---------------------------------------------------------------------------\u001b[0m",
      "\u001b[1;31mNameError\u001b[0m                                 Traceback (most recent call last)",
      "\u001b[1;32m<ipython-input-13-ffb3b2581631>\u001b[0m in \u001b[0;36m<module>\u001b[1;34m()\u001b[0m\n\u001b[1;32m----> 1\u001b[1;33m \u001b[0miris_hard_train\u001b[0m\u001b[1;33m,\u001b[0m \u001b[0miris_hard_test\u001b[0m\u001b[1;33m=\u001b[0m\u001b[0mshuffle_data\u001b[0m\u001b[1;33m(\u001b[0m\u001b[0miris_hard\u001b[0m\u001b[1;33m,\u001b[0m\u001b[1;36m8\u001b[0m\u001b[1;33m)\u001b[0m\u001b[1;33m\u001b[0m\u001b[0m\n\u001b[0m",
      "\u001b[1;31mNameError\u001b[0m: name 'iris_hard' is not defined"
     ]
    }
   ],
   "source": [
    "iris_hard_train, iris_hard_test=shuffle_data(iris_hard,8)"
   ]
  },
  {
   "cell_type": "code",
   "execution_count": 14,
   "metadata": {},
   "outputs": [
    {
     "data": {
      "text/plain": [
       "array([[0.5857206642286054, 0.523598775598299, 0],\n",
       "       [-2.715613988696262, -2.6179938779914944, -1],\n",
       "       [-2.3961299900261133, -2.356194490192345, -1],\n",
       "       [0.6922153304519879, 0.523598775598299, 0],\n",
       "       [0.5857206642286054, 0.523598775598299, 0],\n",
       "       [-2.6091193224728793, -2.6179938779914944, -1],\n",
       "       [0.26623666555845704, 0.523598775598299, 0],\n",
       "       [0.9052046628987537, 0.2617993877991492, 0],\n",
       "       [0.7987099966753711, 0.7853981633974483, 0],\n",
       "       [-0.3727313317818399, 0.0, 0],\n",
       "       [-2.502624656249496, -2.356194490192345, -1],\n",
       "       [-2.822108654919645, -2.356194490192345, -1],\n",
       "       [-2.3961299900261133, -2.8797932657906435, -1],\n",
       "       [1.2246886615689019, 0.7853981633974483, 0],\n",
       "       [0.5857206642286054, 0.523598775598299, 0],\n",
       "       [-2.822108654919645, -2.8797932657906435, -1],\n",
       "       [-0.4792259980052228, -0.7853981633974483, 0],\n",
       "       [0.7987099966753711, -0.2617993877991495, 0],\n",
       "       [-2.6091193224728793, -2.356194490192345, -1],\n",
       "       [-0.053247333111691615, -0.5235987755982987, 0],\n",
       "       [-2.502624656249496, -2.8797932657906435, -1],\n",
       "       [-2.502624656249496, -2.8797932657906435, -1],\n",
       "       [0.05324733311169127, 0.0, 0],\n",
       "       [0.1597419993350738, -0.7853981633974483, 0],\n",
       "       [1.0116993291221368, 0.523598775598299, 0],\n",
       "       [-2.9286033211430276, -2.8797932657906435, -1],\n",
       "       [1.0116993291221368, 0.523598775598299, 0],\n",
       "       [-2.6091193224728793, -2.356194490192345, -1],\n",
       "       [0.05324733311169127, 0.0, 0],\n",
       "       [-2.715613988696262, -2.8797932657906435, -1],\n",
       "       [-2.715613988696262, -2.8797932657906435, -1],\n",
       "       [-2.1831406575793477, -2.8797932657906435, -1],\n",
       "       [-2.715613988696262, -2.8797932657906435, -1],\n",
       "       [0.7987099966753711, 0.2617993877991492, 0],\n",
       "       [-3.0350979873664103, -3.141592653589793, -1],\n",
       "       [0.5857206642286054, 0.0, 0],\n",
       "       [-0.1597419993350745, -0.5235987755982987, 0],\n",
       "       [-2.715613988696262, -2.6179938779914944, -1],\n",
       "       [-2.6091193224728793, -2.356194490192345, -1],\n",
       "       [-2.715613988696262, -2.8797932657906435, -1],\n",
       "       [-0.4792259980052228, -0.7853981633974483, 0],\n",
       "       [-2.502624656249496, -2.8797932657906435, -1],\n",
       "       [-2.6091193224728793, -3.141592653589793, -1],\n",
       "       [-2.6091193224728793, -2.8797932657906435, -1],\n",
       "       [-3.141592653589793, -2.8797932657906435, -1],\n",
       "       [-2.6091193224728793, -2.8797932657906435, -1]], dtype=object)"
      ]
     },
     "execution_count": 14,
     "metadata": {},
     "output_type": "execute_result"
    }
   ],
   "source": [
    "small_iris_train"
   ]
  },
  {
   "cell_type": "code",
   "execution_count": 11,
   "metadata": {
    "collapsed": true
   },
   "outputs": [],
   "source": [
    "small_iris_train, small_iris_test=shuffle_data(small_iris,20)"
   ]
  },
  {
   "cell_type": "code",
   "execution_count": 1033,
   "metadata": {},
   "outputs": [
    {
     "data": {
      "image/png": "[encoded data removed]",
      "text/plain": [
       "<matplotlib.figure.Figure at 0x24bda489358>"
      ]
     },
     "metadata": {},
     "output_type": "display_data"
    }
   ],
   "source": [
    "plt.scatter(tools_train[:,1], tools_train[:,0], c=tools_train[:,2])\n",
    "plt.show()"
   ]
  },
  {
   "cell_type": "code",
   "execution_count": 1034,
   "metadata": {},
   "outputs": [
    {
     "data": {
      "text/plain": [
       "array([[ 2.84599572,  1.22600521,  0.        ],\n",
       "       [-3.14159265, -3.14159265,  1.        ],\n",
       "       [ 1.46246853, -0.63618989,  0.        ],\n",
       "       [ 0.41228109,  1.38102735,  0.        ],\n",
       "       [-1.19628403, -1.38350886,  0.        ],\n",
       "       [-1.74415335, -2.51069244,  1.        ],\n",
       "       [-0.31611396, -2.0700262 ,  1.        ]])"
      ]
     },
     "execution_count": 1034,
     "metadata": {},
     "output_type": "execute_result"
    }
   ],
   "source": [
    "tools_train"
   ]
  },
  {
   "cell_type": "markdown",
   "metadata": {},
   "source": [
    "# Create Quantum Circuit "
   ]
  },
  {
   "cell_type": "markdown",
   "metadata": {},
   "source": [
    "## First begin with Tensor Network tutorial with np.einsum"
   ]
  },
  {
   "cell_type": "markdown",
   "metadata": {},
   "source": [
    "### Creating Tensors"
   ]
  },
  {
   "cell_type": "code",
   "execution_count": 218,
   "metadata": {
    "collapsed": true
   },
   "outputs": [],
   "source": [
    "# rank = number of indexes specified in size\n",
    "# dimension of index = size of each dimension given \n",
    "\n",
    "b=np.random.rand(2,2,4,4) # rank 4 tensor with index dimensions 2,2,4,4\n",
    "\n",
    "c=np.random.rand(4,4,2,2,3) # rank 5 tensor with index dimensions 4,4,2,2,3"
   ]
  },
  {
   "cell_type": "markdown",
   "metadata": {},
   "source": [
    "### Contracting Tensors with einsum"
   ]
  },
  {
   "cell_type": "code",
   "execution_count": 219,
   "metadata": {
    "collapsed": true
   },
   "outputs": [
    {
     "data": {
      "text/plain": [
       "array([[[[[ 4.51297115,  4.22537147,  4.76600961],\n",
       "          [ 5.4385795 ,  5.8594833 ,  4.20420394]],\n",
       "\n",
       "         [[ 5.4981139 ,  4.61458175,  2.71946403],\n",
       "          [ 5.15827326,  5.61370457,  4.81097696]]],\n",
       "\n",
       "\n",
       "        [[[ 4.00264123,  3.62645039,  3.96459482],\n",
       "          [ 4.54313951,  5.19974657,  3.63547933]],\n",
       "\n",
       "         [[ 5.0378848 ,  4.37818158,  2.48091364],\n",
       "          [ 4.20177668,  4.992921  ,  4.26936581]]]],\n",
       "\n",
       "\n",
       "\n",
       "       [[[[ 3.75227464,  3.30442711,  3.76343652],\n",
       "          [ 3.8536084 ,  4.24091794,  4.29071058]],\n",
       "\n",
       "         [[ 4.11547261,  3.8910521 ,  2.47876985],\n",
       "          [ 3.90809195,  5.38862393,  3.44930915]]],\n",
       "\n",
       "\n",
       "        [[[ 4.62346468,  4.13241567,  4.18376489],\n",
       "          [ 4.94456333,  5.90699829,  5.67739428]],\n",
       "\n",
       "         [[ 5.18088325,  4.89473833,  3.4815267 ],\n",
       "          [ 4.76192781,  6.60356393,  4.97311175]]]]])"
      ]
     },
     "execution_count": 219,
     "metadata": {},
     "output_type": "execute_result"
    }
   ],
   "source": [
    "np.einsum('ijkl,klnmo->ijnmo',b,c) \n",
    "# specify precisely the summed indexes and the arrangement of the output indexes via einsum"
   ]
  },
  {
   "cell_type": "markdown",
   "metadata": {},
   "source": [
    "### Reshaping tensors "
   ]
  },
  {
   "cell_type": "code",
   "execution_count": 220,
   "metadata": {
    "collapsed": true
   },
   "outputs": [
    {
     "name": "stdout",
     "output_type": "stream",
     "text": [
      "[[[[[ 0.  0.  0.]\n",
      "    [ 0.  0.  0.]]\n",
      "\n",
      "   [[ 0.  0.  0.]\n",
      "    [ 0.  0.  0.]]]\n",
      "\n",
      "\n",
      "  [[[ 0.  0.  0.]\n",
      "    [ 0.  0.  0.]]\n",
      "\n",
      "   [[ 0.  0.  0.]\n",
      "    [ 0.  0.  0.]]]\n",
      "\n",
      "\n",
      "  [[[ 0.  0.  0.]\n",
      "    [ 0.  0.  0.]]\n",
      "\n",
      "   [[ 0.  0.  0.]\n",
      "    [ 0.  0.  0.]]]\n",
      "\n",
      "\n",
      "  [[[ 0.  0.  0.]\n",
      "    [ 0.  0.  0.]]\n",
      "\n",
      "   [[ 0.  0.  0.]\n",
      "    [ 0.  0.  0.]]]]\n",
      "\n",
      "\n",
      "\n",
      " [[[[ 0.  0.  0.]\n",
      "    [ 0.  0.  0.]]\n",
      "\n",
      "   [[ 0.  0.  0.]\n",
      "    [ 0.  0.  0.]]]\n",
      "\n",
      "\n",
      "  [[[ 0.  0.  0.]\n",
      "    [ 0.  0.  0.]]\n",
      "\n",
      "   [[ 0.  0.  0.]\n",
      "    [ 0.  0.  0.]]]\n",
      "\n",
      "\n",
      "  [[[ 0.  0.  0.]\n",
      "    [ 0.  0.  0.]]\n",
      "\n",
      "   [[ 0.  0.  0.]\n",
      "    [ 0.  0.  0.]]]\n",
      "\n",
      "\n",
      "  [[[ 0.  0.  0.]\n",
      "    [ 0.  0.  0.]]\n",
      "\n",
      "   [[ 0.  0.  0.]\n",
      "    [ 0.  0.  0.]]]]\n",
      "\n",
      "\n",
      "\n",
      " [[[[ 0.  0.  0.]\n",
      "    [ 0.  0.  0.]]\n",
      "\n",
      "   [[ 0.  0.  0.]\n",
      "    [ 0.  0.  0.]]]\n",
      "\n",
      "\n",
      "  [[[ 0.  0.  0.]\n",
      "    [ 0.  0.  0.]]\n",
      "\n",
      "   [[ 0.  0.  0.]\n",
      "    [ 0.  0.  0.]]]\n",
      "\n",
      "\n",
      "  [[[ 0.  0.  0.]\n",
      "    [ 0.  0.  0.]]\n",
      "\n",
      "   [[ 0.  0.  0.]\n",
      "    [ 0.  0.  0.]]]\n",
      "\n",
      "\n",
      "  [[[ 0.  0.  0.]\n",
      "    [ 0.  0.  0.]]\n",
      "\n",
      "   [[ 0.  0.  0.]\n",
      "    [ 0.  0.  0.]]]]\n",
      "\n",
      "\n",
      "\n",
      " [[[[ 0.  0.  0.]\n",
      "    [ 0.  0.  0.]]\n",
      "\n",
      "   [[ 0.  0.  0.]\n",
      "    [ 0.  0.  0.]]]\n",
      "\n",
      "\n",
      "  [[[ 0.  0.  0.]\n",
      "    [ 0.  0.  0.]]\n",
      "\n",
      "   [[ 0.  0.  0.]\n",
      "    [ 0.  0.  0.]]]\n",
      "\n",
      "\n",
      "  [[[ 0.  0.  0.]\n",
      "    [ 0.  0.  0.]]\n",
      "\n",
      "   [[ 0.  0.  0.]\n",
      "    [ 0.  0.  0.]]]\n",
      "\n",
      "\n",
      "  [[[ 0.  0.  0.]\n",
      "    [ 0.  0.  0.]]\n",
      "\n",
      "   [[ 0.  0.  0.]\n",
      "    [ 0.  0.  0.]]]]]\n"
     ]
    }
   ],
   "source": [
    "#can reshape tensor into matrix but must multiply index dimensions correctly to get correct matrix size\n",
    "c2=np.reshape(c, (16,12))\n",
    "#cruicially, can reshape back to original too\n",
    "c3=np.reshape(c, (4,4,2,2,3))\n",
    "print(c3-c)"
   ]
  },
  {
   "cell_type": "markdown",
   "metadata": {},
   "source": [
    "### Projecting a vector/input into a tensor (same as contracting except one is a tensor)"
   ]
  },
  {
   "cell_type": "code",
   "execution_count": 222,
   "metadata": {},
   "outputs": [
    {
     "name": "stdout",
     "output_type": "stream",
     "text": [
      "(2, 2, 4, 4)\n"
     ]
    },
    {
     "data": {
      "text/plain": [
       "(2, 4, 4)"
      ]
     },
     "execution_count": 222,
     "metadata": {},
     "output_type": "execute_result"
    }
   ],
   "source": [
    "d=np.random.rand(2)\n",
    "print(b.shape)\n",
    "np.einsum('ijkl,i->jkl',b,d).shape\n",
    "\n",
    "#NB Theres no need to change dimensionality of the vector (2,1) or (1,2) - it simply works either way\n",
    "# just specify the index needing to be summed"
   ]
  },
  {
   "cell_type": "markdown",
   "metadata": {},
   "source": [
    "## End of Tensor Network Tutorial -----"
   ]
  },
  {
   "cell_type": "markdown",
   "metadata": {},
   "source": [
    "# Coding MPS's"
   ]
  },
  {
   "cell_type": "markdown",
   "metadata": {},
   "source": [
    "# Useful Functions\n"
   ]
  },
  {
   "cell_type": "code",
   "execution_count": 28,
   "metadata": {
    "collapsed": true
   },
   "outputs": [],
   "source": [
    "def full_tensor(sequence):\n",
    "    \"\"\"tensor product of a sequence in the form of a list of arrays\"\"\" \n",
    "    for k in range(len(sequence)-1):\n",
    "        if k==0:\n",
    "            a=sequence[0]\n",
    "        a=np.array(np.kron(a,sequence[k+1]), dtype=complex)\n",
    "    return a\n",
    "\n",
    "def encode(input_set):\n",
    "    \"encodes (normalised between -1 and 1) input data into appropriate qubit vectors. \"\n",
    "    dm=np.zeros([input_set.shape[0],2**input_set.shape[1]], dtype=complex)\n",
    "    for i in range(input_set.shape[0]): # training set size\n",
    "        b=[]\n",
    "        for j in range(input_set.shape[1]): # size of input\n",
    "            b.append(np.array([math.cos(input_set[i,j]*0.5),math.sin(input_set[i,j]*0.5)]))\n",
    "        dm[i,:]=full_tensor(b)\n",
    "    dm=np.kron(np.transpose(dm),dm)\n",
    "    return dm\n",
    "\n",
    "def encode_list(input_set,ancilla):\n",
    "    \"\"\"encodes a list (already normalised between -pi and pi)\"\"\"\n",
    "    b=[]\n",
    "    for j in range(len(input_set)):\n",
    "        b.append(np.array([math.cos(input_set[j]*0.5),math.sin(input_set[j]*0.5)]))\n",
    "    for k in range(ancilla):\n",
    "        b.append(np.array([1,0]))\n",
    "    dm=full_tensor(b)\n",
    "    dm=np.reshape(np.kron(np.transpose(dm),dm),(2**(len(input_set)+ancilla),2**(len(input_set)+ancilla)))\n",
    "    return dm\n",
    "\n",
    "\n",
    "def blockshaped(arr, nrows, ncols):\n",
    "    #taken from online. this splits arrays into blocks of given size as described below. will need for partial tracing\n",
    "    \"\"\"\n",
    "    Return an array of shape (n, nrows, ncols) where\n",
    "    n * nrows * ncols = arr.size\n",
    "\n",
    "    If arr is a 2D array, the returned array should look like n subblocks with\n",
    "    each subblock preserving the \"physical\" layout of arr.\n",
    "    \"\"\"\n",
    "    h, w = arr.shape\n",
    "    return (arr.reshape(h//nrows, nrows, -1, ncols)\n",
    "               .swapaxes(1,2)\n",
    "               .reshape(-1, nrows, ncols))\n",
    "\n",
    "def remove_last(dm, env_size=1):\n",
    "    \"traces out the last qubit from a dm\"\n",
    "    if dm.shape[0]!= dm.shape[1]:\n",
    "        print('Error. Array must be a square matrix')\n",
    "    if dm.shape[0]==2**env_size:\n",
    "        print('Error. Environment size is the same size as the matrix you wanna trace')\n",
    "    if dm.shape[0]>2**env_size:\n",
    "        blocks=blockshaped(dm,2**env_size,2**env_size)\n",
    "        no_blocks=len(blocks)\n",
    "        new_dm=np.zeros(no_blocks, dtype=complex)\n",
    "        for j in range(no_blocks):\n",
    "            new_dm[j]=np.trace(blocks[j])\n",
    "        new_dm=np.reshape(new_dm,(int(math.sqrt(no_blocks)),int(math.sqrt(no_blocks))))\n",
    "    return new_dm\n",
    "\n",
    "def tracing_out(dm,tracing_out):\n",
    "    l=[]\n",
    "    for i in range(tracing_out):\n",
    "        l.append(i) #l contains list of indexes to trace out\n",
    "    new_dm=partial_trace(dm,l)\n",
    "    return new_dm\n",
    "\n",
    "def measure_zero(dm):\n",
    "    \"measures a qubit and outputs the probability of getting a zero\"\n",
    "    if dm.shape[0]!=2:\n",
    "        print(\"your density matrix isnt 2x2\")\n",
    "    a=np.array([[1,0],[0,0]])\n",
    "    prob=np.trace(np.matmul(dm,a))\n",
    "    return prob\n",
    "    \n",
    "def initialise(no_inputs, ancilla, bond_dimension,identity=0):\n",
    "    \"\"\"generates the right number of random unitaries of the right size\"\"\"\n",
    "    total=no_inputs+ancilla\n",
    "    operator_list=[]\n",
    "    temp_operator_list=[]\n",
    "    for i in range(no_inputs):\n",
    "        if identity==1:\n",
    "            operator_list.append(np.identity(bond_dimension).astype(complex))\n",
    "        elif identity==2:\n",
    "            tt=qutip.rand_unitary(bond_dimension).full()\n",
    "            operator_list.append(np.dot(tt,tt*1J))\n",
    "        else:\n",
    "            operator_list.append(qutip.rand_unitary(bond_dimension).full().astype(complex))\n",
    "    \n",
    "    return operator_list\n",
    "\n",
    "def evaluate_circuit(inputs,operator_list, trace):\n",
    "    for i in range(len(operator_list)):\n",
    "        diff=int(math.log2(inputs.shape[0])-math.log2(operator_list[i].shape[0]))\n",
    "        if diff>0:\n",
    "            inputs=np.matmul(np.kron(operator_list[i],np.identity(2**diff)), inputs)\n",
    "            inputs=np.matmul(inputs,np.matrix(np.kron(operator_list[i],np.identity(2**diff))).getH())\n",
    "        else:\n",
    "            inputs=np.matmul(operator_list[i], inputs)\n",
    "            inputs=np.matmul(inputs,np.matrix(operator_list[i]).getH())\n",
    "        if trace==1:\n",
    "            inputs=partial_trace(inputs,[0])\n",
    "    return inputs\n",
    "\n",
    "def extract_final(dm):\n",
    "    L=dm.shape[0]\n",
    "    if L>2:\n",
    "        dm=tracing_out(dm,int(math.log2(L)-1))\n",
    "    return dm\n",
    "\n",
    "def cost_calc(label,answer):\n",
    "    answer=(1-np.real(answer))\n",
    "    cost=abs(label-answer)\n",
    "    return cost\n",
    "def cost_calc2(label,answer):\n",
    "    answer=(1-np.real(answer))\n",
    "    cost=abs(label-np.round(answer))\n",
    "    return cost\n",
    "\n",
    "def eval_cost_function(operator_list,test_data,rounding):\n",
    "    cost=np.zeros(test_data.shape[0])\n",
    "    for k in range(len(test_data)):\n",
    "        input_values=encode_list([test_data[k,0],test_data[k,1]],ancilla)\n",
    "        label=test_data[k,2]\n",
    "        final_dm1=evaluate_circuit(input_values,operator_list, trace=1)\n",
    "        final_dm2=extract_final(final_dm1)\n",
    "        answer=measure_zero(final_dm2)\n",
    "        if answer>1 or answer<0:\n",
    "            print(\"error, weird probability\")\n",
    "            print(answer)\n",
    "            print(final_dm2)\n",
    "            print('dm2 trace is', np.trace(final_dm2))\n",
    "            print(final_dm1)\n",
    "            print('dm1 trace is', np.trace(final_dm2))\n",
    "        if rounding==0:\n",
    "            cost[k]=cost_calc(label,answer)\n",
    "        if rounding==1:\n",
    "            cost[k]=cost_calc2(label,answer)\n",
    "    \n",
    "    total_cost=sum(cost)\n",
    "    return total_cost\n",
    "\n",
    "\"\"\"def test(operator_list):\n",
    "    for k in range(len(test_label)):\n",
    "        input_values=encode_list([test_iris0[k],test_iris1[k]],ancilla)\n",
    "        label=test_label[k]\n",
    "        final_dm1=evaluate_circuit(input_values,operator_list, trace=1)\n",
    "        final_dm2=extract_final(final_dm1)\n",
    "        answer=ure_zero(final_dm2)\n",
    "\n",
    "        cost[k]=cost_calc(label,answer)\n",
    "    total_cost=sum(cost)\n",
    "    return total_cost\"\"\"\n",
    "def regularise(mat,power):\n",
    "    \"just zeros tiny numbers\"\n",
    "    np.imag(mat)[abs(np.imag(mat))<10**(-power)]=0\n",
    "    np.real(mat)[abs(np.real(mat))<10**(-power)]=0\n",
    "    return mat\n",
    "\n",
    "def ry(theta):\n",
    "    return np.array([math.cos(theta/2), -1*math.sin(theta/2)],[math.sin(theta/2),math.cos(theta/2)])\n",
    "\n",
    "def initialise_params(no_params):\n",
    "    params=np.zeros(no_params)\n",
    "    for i in range(no_params):\n",
    "        params[i]=(random.random())\n",
    "    params=(2*(params)-1)*math.pi\n",
    "    return params"
   ]
  },
  {
   "cell_type": "code",
   "execution_count": null,
   "metadata": {
    "collapsed": true
   },
   "outputs": [],
   "source": []
  },
  {
   "cell_type": "code",
   "execution_count": 112,
   "metadata": {},
   "outputs": [
    {
     "name": "stdout",
     "output_type": "stream",
     "text": [
      "50.3828601821\n",
      "error, weird probability\n",
      "(1.00115698323+0j)\n",
      "[[  1.00115698e+00+0.j  -2.66359159e-02+0.j]\n",
      " [ -2.66359159e-02+0.j   7.08652162e-04+0.j]]\n",
      "dm2 trace is (1.00186563539+0j)\n",
      "[[  9.34217156e-01+0.j  -2.50072660e-01+0.j  -2.48533111e-02+0.j\n",
      "    6.65942463e-03+0.j]\n",
      " [ -2.50072660e-01+0.j   6.69398274e-02+0.j   6.65277186e-03+0.j\n",
      "   -1.78260485e-03+0.j]\n",
      " [ -2.48533111e-02+0.j   6.65277186e-03+0.j   6.61181468e-04+0.j\n",
      "   -1.77163040e-04+0.j]\n",
      " [  6.65942463e-03+0.j  -1.78260485e-03+0.j  -1.77163040e-04+0.j\n",
      "    4.74706936e-05+0.j]]\n",
      "dm1 trace is (1.00186563539+0j)\n",
      "error, weird probability\n",
      "(1.00129092983+0j)\n",
      "[[  1.00129093e+00+0.j   2.66376985e-02+0.j]\n",
      " [  2.66376985e-02+0.j   7.08652162e-04+0.j]]\n",
      "dm2 trace is (1.00199958199+0j)\n",
      "[[  1.00129093e+00+0.j   0.00000000e+00+0.j   2.66376985e-02+0.j\n",
      "    0.00000000e+00+0.j]\n",
      " [  0.00000000e+00+0.j   0.00000000e+00+0.j   0.00000000e+00+0.j\n",
      "    0.00000000e+00+0.j]\n",
      " [  2.66376985e-02+0.j   0.00000000e+00+0.j   7.08652162e-04+0.j\n",
      "    0.00000000e+00+0.j]\n",
      " [  0.00000000e+00+0.j   0.00000000e+00+0.j   0.00000000e+00+0.j\n",
      "    0.00000000e+00+0.j]]\n",
      "dm1 trace is (1.00199958199+0j)\n",
      "error, weird probability\n",
      "(1.00129092983+0j)\n",
      "[[  1.00129093e+00+0.j   2.66376985e-02+0.j]\n",
      " [  2.66376985e-02+0.j   7.08652162e-04+0.j]]\n",
      "dm2 trace is (1.00199958199+0j)\n",
      "[[  1.00129093e+00+0.j   0.00000000e+00+0.j   2.66376985e-02+0.j\n",
      "    0.00000000e+00+0.j]\n",
      " [  0.00000000e+00+0.j   0.00000000e+00+0.j   0.00000000e+00+0.j\n",
      "    0.00000000e+00+0.j]\n",
      " [  2.66376985e-02+0.j   0.00000000e+00+0.j   7.08652162e-04+0.j\n",
      "    0.00000000e+00+0.j]\n",
      " [  0.00000000e+00+0.j   0.00000000e+00+0.j   0.00000000e+00+0.j\n",
      "    0.00000000e+00+0.j]]\n",
      "dm1 trace is (1.00199958199+0j)\n",
      "wtf\n",
      "is this unitary? Quantum object: dims = [[8], [8]], shape = (8, 8), type = oper, isherm = True\n",
      "Qobj data =\n",
      "[[  1.00000000e+00  -4.19790481e-21  -1.01628914e-20  -5.86550093e-21\n",
      "    4.20939615e-19   0.00000000e+00   1.78589121e-18   0.00000000e+00]\n",
      " [ -4.19790481e-21   1.00000000e+00  -2.04333873e-22  -4.03738981e-27\n",
      "    1.20332512e-23   0.00000000e+00   3.38813179e-21   0.00000000e+00]\n",
      " [ -1.01628914e-20  -2.04333873e-22   1.00000000e+00   3.11826830e-22\n",
      "   -3.19284171e-19   0.00000000e+00   1.76967382e-19   0.00000000e+00]\n",
      " [ -5.86550093e-21  -4.03738981e-27   3.11826830e-22   1.00000000e+00\n",
      "   -4.11483222e-22   0.00000000e+00  -3.38813179e-21   0.00000000e+00]\n",
      " [  4.20939615e-19   1.20332512e-23  -3.19284171e-19  -4.11483222e-22\n",
      "    1.00000000e+00   0.00000000e+00  -6.24093555e-21   0.00000000e+00]\n",
      " [  0.00000000e+00   0.00000000e+00   0.00000000e+00   0.00000000e+00\n",
      "    0.00000000e+00   1.00000000e+00   0.00000000e+00   0.00000000e+00]\n",
      " [  1.70010460e-18   2.70697462e-21   1.80198719e-19  -4.06928895e-21\n",
      "   -6.74830843e-21   0.00000000e+00   1.00000000e+00   0.00000000e+00]\n",
      " [  0.00000000e+00   0.00000000e+00   0.00000000e+00   0.00000000e+00\n",
      "    0.00000000e+00   0.00000000e+00   0.00000000e+00   1.00000000e+00]]\n",
      "error, weird probability\n",
      "(1.00100699539+0j)\n",
      "[[  1.00100700e+00+0.j  -2.87735687e-02+0.j]\n",
      " [ -2.87735687e-02+0.j   8.58230788e-04+0.j]]\n",
      "dm2 trace is (1.00186522617+0j)\n",
      "[[  9.34012239e-01+0.j  -2.50147800e-01+0.j  -2.82431539e-02+0.j\n",
      "    1.98048490e-03+0.j]\n",
      " [ -2.50147800e-01+0.j   6.69947561e-02+0.j   7.56410089e-03+0.j\n",
      "   -5.30414828e-04+0.j]\n",
      " [ -2.82431539e-02+0.j   7.56410089e-03+0.j   8.54031356e-04+0.j\n",
      "   -5.98869451e-05+0.j]\n",
      " [  1.98048490e-03+0.j  -5.30414828e-04+0.j  -5.98869451e-05+0.j\n",
      "    4.19943152e-06+0.j]]\n",
      "dm1 trace is (1.00186522617+0j)\n",
      "error, weird probability\n",
      "(1.00149914545+0j)\n",
      "[[  1.00149915e+00+0.j   2.21862927e-02+0.j]\n",
      " [  2.21862927e-02+0.j   5.00852323e-04+0.j]]\n",
      "dm2 trace is (1.00199999778+0j)\n",
      "[[  1.00149914e+00+0.j   9.59727629e-05+0.j   2.21865859e-02+0.j\n",
      "   -3.05917876e-03+0.j]\n",
      " [  9.59727629e-05+0.j   9.35269485e-09+0.j   2.12611715e-06+0.j\n",
      "   -2.93157878e-07+0.j]\n",
      " [  2.21865859e-02+0.j   2.12611715e-06+0.j   4.91507757e-04+0.j\n",
      "   -6.77711343e-05+0.j]\n",
      " [ -3.05917876e-03+0.j  -2.93157878e-07+0.j  -6.77711343e-05+0.j\n",
      "    9.34456593e-06+0.j]]\n",
      "dm1 trace is (1.00199999778+0j)\n",
      "error, weird probability\n",
      "(1.00149914545+0j)\n",
      "[[  1.00149915e+00+0.j   2.21862927e-02+0.j]\n",
      " [  2.21862927e-02+0.j   5.00852323e-04+0.j]]\n",
      "dm2 trace is (1.00199999778+0j)\n",
      "[[  1.00149914e+00+0.j   9.59727629e-05+0.j   2.21865859e-02+0.j\n",
      "   -3.05917876e-03+0.j]\n",
      " [  9.59727629e-05+0.j   9.35269485e-09+0.j   2.12611715e-06+0.j\n",
      "   -2.93157878e-07+0.j]\n",
      " [  2.21865859e-02+0.j   2.12611715e-06+0.j   4.91507757e-04+0.j\n",
      "   -6.77711343e-05+0.j]\n",
      " [ -3.05917876e-03+0.j  -2.93157878e-07+0.j  -6.77711343e-05+0.j\n",
      "    9.34456593e-06+0.j]]\n",
      "dm1 trace is (1.00199999778+0j)\n",
      "wtf\n",
      "is this unitary? Quantum object: dims = [[8], [8]], shape = (8, 8), type = oper, isherm = True\n",
      "Qobj data =\n",
      "[[  1.00000000e+00  -4.00877188e-21  -2.91501732e-21  -5.47207936e-21\n",
      "   -1.23975052e-18   0.00000000e+00  -1.24970395e-19   0.00000000e+00]\n",
      " [ -4.00877188e-21   1.00000000e+00  -4.28319651e-22  -1.76240667e-25\n",
      "   -1.65140667e-21   0.00000000e+00  -6.77626358e-21   0.00000000e+00]\n",
      " [ -2.91501732e-21  -4.28319651e-22   1.00000000e+00  -2.18604659e-22\n",
      "   -7.78057485e-20   0.00000000e+00   7.28811118e-19   0.00000000e+00]\n",
      " [ -5.47207936e-21  -1.76240667e-25  -2.18604659e-22   1.00000000e+00\n",
      "   -1.22791082e-21   0.00000000e+00  -1.01643954e-20   0.00000000e+00]\n",
      " [ -1.23975052e-18  -1.65140667e-21  -7.78057485e-20  -1.22791082e-21\n",
      "    1.00000000e+00   0.00000000e+00  -7.67809724e-21   0.00000000e+00]\n",
      " [  0.00000000e+00   0.00000000e+00   0.00000000e+00   0.00000000e+00\n",
      "    0.00000000e+00   1.00000000e+00   0.00000000e+00   0.00000000e+00]\n",
      " [ -2.21541830e-19  -5.83893229e-21   1.11380130e-18  -9.22684131e-21\n",
      "   -7.87070402e-21   0.00000000e+00   1.00000000e+00   0.00000000e+00]\n",
      " [  0.00000000e+00   0.00000000e+00   0.00000000e+00   0.00000000e+00\n",
      "    0.00000000e+00   0.00000000e+00   0.00000000e+00   1.00000000e+00]]\n",
      "Cost at iteration  0 is 50.115528875\n",
      "Final Cost with rounding is  50.0\n",
      "Test Result without rounding is  14.4118408112\n",
      "Test Result with rounding is  14.0\n"
     ]
    }
   ],
   "source": [
    "cost=[]\n",
    "printer=-5\n",
    "no_inputs=2\n",
    "BD=8 # BD IS SIMPLY THE BOND DIMENSION AS USUAL\n",
    "ancilla=int(math.log2(BD)-1)\n",
    "operator_list=initialise(no_inputs,ancilla,BD,identity=1)\n",
    "w=0.001\n",
    "mu=0.7\n",
    "data=small_iris_train\n",
    "test_data=small_iris_test\n",
    "total_cost=eval_cost_function(operator_list,data,rounding=0)\n",
    "print(total_cost)\n",
    "iterations=1\n",
    "for z in range(iterations):\n",
    "    for j in range(len(operator_list)):\n",
    "        grad=np.zeros(operator_list[j].size)\n",
    "        for i in range(operator_list[j].size):\n",
    "            W=np.zeros(operator_list[j].size,dtype=complex)\n",
    "            W[i]=w\n",
    "            W=np.reshape(W,operator_list[j].shape)\n",
    "            W=W+operator_list[j]\n",
    "            new_list=np.copy(operator_list)\n",
    "            new_list=new_list.astype(complex)\n",
    "            new_list[j]=W\n",
    "            new_cost=eval_cost_function(new_list,data,rounding=0)\n",
    "            grad[i]=(new_cost-total_cost)\n",
    "        grad=np.reshape(grad,operator_list[j].shape)\n",
    "        print('wtf')\n",
    "        G=np.matmul(grad,np.matrix.getH(operator_list[j]))-np.matmul(operator_list[j],np.matrix.getH(grad))      \n",
    "        print('is this unitary?', qutip.Qobj(np.matmul(scipy.linalg.expm(-1*mu*G),np.matrix.getH(scipy.linalg.expm(-1*mu*G)))))\n",
    "        operator_list[j]=np.matmul(scipy.linalg.expm(-1*mu*G),operator_list[j])\n",
    "        new_cost=eval_cost_function(operator_list,data,rounding=0)\n",
    "        \n",
    "        total_cost=new_cost\n",
    "        \"\"\"grad=np.zeros(operator_list[j].size)\n",
    "        grad=grad.astype(complex)\n",
    "        for i in range(operator_list[j].size):\n",
    "            W=np.zeros(operator_list[j].size,dtype=complex)\n",
    "            W[i]=1J*w\n",
    "            W=np.reshape(W,operator_list[j].shape)\n",
    "            W=W+operator_list[j]\n",
    "            new_list=np.copy(operator_list)\n",
    "            new_list=new_list.astype(complex)\n",
    "            new_list[j]=W\n",
    "            new_cost=eval_cost_function(new_list,data,rounding=0)\n",
    "            grad[i]=(new_cost-total_cost)*(1J)\n",
    "        grad=np.reshape(grad,operator_list[j].shape)\n",
    "        G=np.matmul(grad,np.matrix.getH(operator_list[j]))-np.matmul(operator_list[j],np.matrix.getH(grad))      \n",
    "        operator_list[j]=operator_list[np.matmul(scipy.linalg.expm(-1*mu*G),operator_list[j]) \n",
    "        new_cost=eval_cost_function(operator_list,data,rounding=0)\n",
    "        \n",
    "        \n",
    "        change=(total_cost-new_cost)/(total_cost)\n",
    "        total_cost=new_cost\"\"\"\n",
    "        #change=(total_cost-new_cost)\n",
    "    print(\"Cost at iteration \", z, \"is\", total_cost)\n",
    "print(\"Final Cost with rounding is \" ,eval_cost_function(operator_list,data,rounding=1))\n",
    "print(\"Test Result without rounding is \", eval_cost_function(operator_list,test_data,rounding=0))\n",
    "print(\"Test Result with rounding is \", eval_cost_function(operator_list,test_data,rounding=1))"
   ]
  },
  {
   "cell_type": "code",
   "execution_count": 84,
   "metadata": {},
   "outputs": [
    {
     "data": {
      "text/plain": [
       "(46, 3)"
      ]
     },
     "execution_count": 84,
     "metadata": {},
     "output_type": "execute_result"
    }
   ],
   "source": [
    "small_iris_train.shape"
   ]
  },
  {
   "cell_type": "code",
   "execution_count": 26,
   "metadata": {
    "collapsed": true
   },
   "outputs": [],
   "source": [
    "np.savez('2_8_operators_halfhalftraintest_iris.npz',operator_list)"
   ]
  },
  {
   "cell_type": "code",
   "execution_count": null,
   "metadata": {
    "collapsed": true
   },
   "outputs": [],
   "source": [
    "qutip.Qobj(encode_list(small_iris_train[:,1],2))"
   ]
  },
  {
   "cell_type": "code",
   "execution_count": 29,
   "metadata": {},
   "outputs": [
    {
     "data": {
      "text/latex": [
       "Quantum object: dims = [[8], [8]], shape = (8, 8), type = oper, isherm = False\\begin{equation*}\\left(\\begin{array}{*{11}c}(0.772+0.125j) & (0.024+0.076j) & (-0.133-0.338j) & (-0.024-0.066j) & (0.075-0.086j) & (0.028+0.346j) & (-0.136-0.030j) & (0.302+0.014j)\\\\(-0.085-0.024j) & (0.170+0.101j) & (-0.541-0.228j) & (0.453+0.427j) & (-0.017+0.040j) & (-0.220+0.027j) & (0.169+0.197j) & (-0.088+0.308j)\\\\(-0.063+0.241j) & (0.486-0.613j) & (-0.110-0.124j) & (-0.213+0.083j) & (-0.114-0.253j) & (0.372-0.021j) & (-4.915\\times10^{-04}-0.048j) & (-0.075+0.150j)\\\\(0.349+0.102j) & (-0.015+0.228j) & (0.049+0.042j) & (0.276-0.130j) & (0.213-0.111j) & (0.408-0.440j) & (0.209-0.139j) & (-0.471+0.124j)\\\\(0.019-0.145j) & (0.031-0.358j) & (0.032+0.017j) & (0.024+0.070j) & (0.868+0.155j) & (-0.144-0.067j) & (-0.177+0.091j) & (-0.003+0.001j)\\\\(-0.350+0.031j) & (-0.140+0.044j) & (-0.215-0.589j) & (0.091-0.322j) & (0.116+0.075j) & (0.230-0.276j) & (0.066-0.181j) & (0.372-0.161j)\\\\(0.153-0.058j) & (0.025-0.127j) & (0.018-0.072j) & (-0.316-0.025j) & (0.063+0.073j) & (-0.242-0.033j) & (0.873+0.044j) & (0.026-0.131j)\\\\(0.015+0.117j) & (0.223+0.268j) & (0.154+0.261j) & (-0.012+0.493j) & (0.124-0.171j) & (0.141-0.313j) & (0.072-0.053j) & (0.593-0.080j)\\\\\\end{array}\\right)\\end{equation*}"
      ],
      "text/plain": [
       "Quantum object: dims = [[8], [8]], shape = (8, 8), type = oper, isherm = False\n",
       "Qobj data =\n",
       "[[  7.72317552e-01+0.12454335j   2.38265971e-02+0.07587974j\n",
       "   -1.32811362e-01-0.33812393j  -2.43831934e-02-0.06647168j\n",
       "    7.49357276e-02-0.08637294j   2.81385648e-02+0.34644238j\n",
       "   -1.35727303e-01-0.02952267j   3.02226646e-01+0.01361093j]\n",
       " [ -8.49203349e-02-0.02352357j   1.70488710e-01+0.10132648j\n",
       "   -5.40565154e-01-0.22799548j   4.53336814e-01+0.42703022j\n",
       "   -1.73205422e-02+0.04038379j  -2.19678462e-01+0.02711673j\n",
       "    1.68859972e-01+0.19712452j  -8.78808448e-02+0.30792923j]\n",
       " [ -6.30270595e-02+0.24087556j   4.86260812e-01-0.61332902j\n",
       "   -1.10264219e-01-0.12371923j  -2.13003682e-01+0.08328247j\n",
       "   -1.13677738e-01-0.25252312j   3.71710054e-01-0.02065541j\n",
       "   -4.91513172e-04-0.04783751j  -7.48370839e-02+0.14979481j]\n",
       " [  3.48834323e-01+0.10237254j  -1.52006719e-02+0.22831624j\n",
       "    4.89111648e-02+0.04191805j   2.76366623e-01-0.12996386j\n",
       "    2.12673406e-01-0.11066391j   4.08207282e-01-0.43964997j\n",
       "    2.08696949e-01-0.13925487j  -4.71489658e-01+0.12412083j]\n",
       " [  1.94372445e-02-0.14541272j   3.09460270e-02-0.35817977j\n",
       "    3.17372059e-02+0.01705418j   2.38966530e-02+0.0696045j\n",
       "    8.68236855e-01+0.15463148j  -1.43559774e-01-0.06744093j\n",
       "   -1.76803537e-01+0.09131912j  -2.94763798e-03+0.00134857j]\n",
       " [ -3.50445985e-01+0.03122832j  -1.40425660e-01+0.0443313j\n",
       "   -2.14690190e-01-0.58923128j   9.12899945e-02-0.32200343j\n",
       "    1.16207039e-01+0.07524862j   2.29886809e-01-0.27552938j\n",
       "    6.56923832e-02-0.18081096j   3.71825498e-01-0.1613357j ]\n",
       " [  1.53018695e-01-0.05793512j   2.49977782e-02-0.12730066j\n",
       "    1.77612267e-02-0.07240053j  -3.16373021e-01-0.02527047j\n",
       "    6.27259046e-02+0.07316034j  -2.41736566e-01-0.03293782j\n",
       "    8.72636424e-01+0.04447955j   2.63123720e-02-0.13090886j]\n",
       " [  1.51811345e-02+0.11738328j   2.23152634e-01+0.26794999j\n",
       "    1.54059782e-01+0.26144113j  -1.15580650e-02+0.49319596j\n",
       "    1.23826322e-01-0.17115482j   1.41328419e-01-0.31345558j\n",
       "    7.20829499e-02-0.05314385j   5.93021378e-01-0.07990648j]]"
      ]
     },
     "execution_count": 29,
     "metadata": {},
     "output_type": "execute_result"
    }
   ],
   "source": [
    "qutip.Qobj(operator_list[0])"
   ]
  },
  {
   "cell_type": "code",
   "execution_count": 18,
   "metadata": {},
   "outputs": [
    {
     "name": "stdout",
     "output_type": "stream",
     "text": [
      "Final Cost with rounding is  29.0\n",
      "Test Result without rounding is  11.8525027397\n",
      "Test Result with rounding is  8.0\n"
     ]
    }
   ],
   "source": [
    "print(\"Final Cost with rounding is \" ,eval_cost_function(operator_list,data,rounding=1))\n",
    "print(\"Test Result without rounding is \", eval_cost_function(operator_list,test_data,rounding=0))\n",
    "print(\"Test Result with rounding is \", eval_cost_function(operator_list,test_data,rounding=1))"
   ]
  },
  {
   "cell_type": "code",
   "execution_count": 90,
   "metadata": {},
   "outputs": [
    {
     "name": "stdout",
     "output_type": "stream",
     "text": [
      "[[ 0.91665696+0.j  0.27640003+0.j]\n",
      " [ 0.27640003+0.j  0.08334304+0.j]]\n",
      "(2, 2)\n",
      "(0.916656959541+0j)\n",
      "[[ 0.04468261+0.j -0.20660609+0.j]\n",
      " [-0.20660609+0.j  0.95531739+0.j]]\n",
      "(2, 2)\n",
      "(0.0446826135725+0j)\n",
      "[[ 0.13261292+0.j -0.33915592+0.j]\n",
      " [-0.33915592+0.j  0.86738708+0.j]]\n",
      "(2, 2)\n",
      "(0.132612924568+0j)\n",
      "[[ 0.88491699+0.j  0.31912209+0.j]\n",
      " [ 0.31912209+0.j  0.11508301+0.j]]\n",
      "(2, 2)\n",
      "(0.884916991715+0j)\n",
      "[[ 0.91665696+0.j  0.27640003+0.j]\n",
      " [ 0.27640003+0.j  0.08334304+0.j]]\n",
      "(2, 2)\n",
      "(0.916656959541+0j)\n",
      "[[ 0.06922296+0.j -0.25383290+0.j]\n",
      " [-0.25383290+0.j  0.93077704+0.j]]\n",
      "(2, 2)\n",
      "(0.0692229593031+0j)\n",
      "[[ 0.98238393+0.j  0.13155128+0.j]\n",
      " [ 0.13155128+0.j  0.01761607+0.j]]\n",
      "(2, 2)\n",
      "(0.982383934407+0j)\n",
      "[[ 0.80876231+0.j  0.39327578+0.j]\n",
      " [ 0.39327578+0.j  0.19123769+0.j]]\n",
      "(2, 2)\n",
      "(0.808762307473+0j)\n",
      "[[ 0.84881576+0.j  0.35822837+0.j]\n",
      " [ 0.35822837+0.j  0.15118424+0.j]]\n",
      "(2, 2)\n",
      "(0.848815760567+0j)\n",
      "[[ 0.96566809+0.j -0.18208029+0.j]\n",
      " [-0.18208029+0.j  0.03433191+0.j]]\n",
      "(2, 2)\n",
      "(0.965668088726+0j)\n",
      "[[ 0.09864418+0.j -0.29818368+0.j]\n",
      " [-0.29818368+0.j  0.90135582+0.j]]\n",
      "(2, 2)\n",
      "(0.0986441810345+0j)\n",
      "[[ 0.02530120+0.j -0.15703836+0.j]\n",
      " [-0.15703836+0.j  0.97469880+0.j]]\n",
      "(2, 2)\n",
      "(0.0253011957658+0j)\n",
      "[[ 0.13261292+0.j -0.33915592+0.j]\n",
      " [-0.33915592+0.j  0.86738708+0.j]]\n",
      "(2, 2)\n",
      "(0.132612924568+0j)\n",
      "[[ 0.66961943+0.j  0.47035013+0.j]\n",
      " [ 0.47035013+0.j  0.33038057+0.j]]\n",
      "(2, 2)\n",
      "(0.669619433059+0j)\n",
      "[[ 0.91665696+0.j  0.27640003+0.j]\n",
      " [ 0.27640003+0.j  0.08334304+0.j]]\n",
      "(2, 2)\n",
      "(0.916656959541+0j)\n",
      "[[ 0.02530120+0.j -0.15703836+0.j]\n",
      " [-0.15703836+0.j  0.97469880+0.j]]\n",
      "(2, 2)\n",
      "(0.0253011957658+0j)\n",
      "[[ 0.94367604+0.j -0.23054625+0.j]\n",
      " [-0.23054625+0.j  0.05632396+0.j]]\n",
      "(2, 2)\n",
      "(0.943676037528+0j)\n",
      "[[ 0.84881576+0.j  0.35822837+0.j]\n",
      " [ 0.35822837+0.j  0.15118424+0.j]]\n",
      "(2, 2)\n",
      "(0.848815760567+0j)\n",
      "[[ 0.06922296+0.j -0.25383290+0.j]\n",
      " [-0.25383290+0.j  0.93077704+0.j]]\n",
      "(2, 2)\n",
      "(0.0692229593031+0j)\n",
      "[[  9.99291348e-01+0.j  -2.66110874e-02+0.j]\n",
      " [ -2.66110874e-02+0.j   7.08652162e-04+0.j]]\n",
      "(2, 2)\n",
      "(0.999291347838+0j)\n",
      "[[ 0.09864418+0.j -0.29818368+0.j]\n",
      " [-0.29818368+0.j  0.90135582+0.j]]\n",
      "(2, 2)\n",
      "(0.0986441810345+0j)\n",
      "[[ 0.09864418+0.j -0.29818368+0.j]\n",
      " [-0.29818368+0.j  0.90135582+0.j]]\n",
      "(2, 2)\n",
      "(0.0986441810345+0j)\n",
      "[[  9.99291348e-01+0.j   2.66110874e-02+0.j]\n",
      " [  2.66110874e-02+0.j   7.08652162e-04+0.j]]\n",
      "(2, 2)\n",
      "(0.999291347838+0j)\n",
      "[[ 0.99363418+0.j  0.07953175+0.j]\n",
      " [ 0.07953175+0.j  0.00636582+0.j]]\n",
      "(2, 2)\n",
      "(0.993634177361+0j)\n",
      "[[ 0.76521045+0.j  0.42386721+0.j]\n",
      " [ 0.42386721+0.j  0.23478955+0.j]]\n",
      "(2, 2)\n",
      "(0.76521045406+0j)\n",
      "[[ 0.01129831+0.j -0.10569131+0.j]\n",
      " [-0.10569131+0.j  0.98870169+0.j]]\n",
      "(2, 2)\n",
      "(0.0112983050911+0j)\n",
      "[[ 0.76521045+0.j  0.42386721+0.j]\n",
      " [ 0.42386721+0.j  0.23478955+0.j]]\n",
      "(2, 2)\n",
      "(0.76521045406+0j)\n",
      "[[ 0.06922296+0.j -0.25383290+0.j]\n",
      " [-0.25383290+0.j  0.93077704+0.j]]\n",
      "(2, 2)\n",
      "(0.0692229593031+0j)\n",
      "[[  9.99291348e-01+0.j   2.66110874e-02+0.j]\n",
      " [  2.66110874e-02+0.j   7.08652162e-04+0.j]]\n",
      "(2, 2)\n",
      "(0.999291347838+0j)\n",
      "[[ 0.04468261+0.j -0.20660609+0.j]\n",
      " [-0.20660609+0.j  0.95531739+0.j]]\n",
      "(2, 2)\n",
      "(0.0446826135725+0j)\n",
      "[[ 0.04468261+0.j -0.20660609+0.j]\n",
      " [-0.20660609+0.j  0.95531739+0.j]]\n",
      "(2, 2)\n",
      "(0.0446826135725+0j)\n",
      "[[ 0.21260629+0.j -0.40915139+0.j]\n",
      " [-0.40915139+0.j  0.78739371+0.j]]\n",
      "(2, 2)\n",
      "(0.212606294893+0j)\n",
      "[[ 0.04468261+0.j -0.20660609+0.j]\n",
      " [-0.20660609+0.j  0.95531739+0.j]]\n",
      "(2, 2)\n",
      "(0.0446826135725+0j)\n",
      "[[ 0.84881576+0.j  0.35822837+0.j]\n",
      " [ 0.35822837+0.j  0.15118424+0.j]]\n",
      "(2, 2)\n",
      "(0.848815760567+0j)\n",
      "[[ 0.00283260+0.j -0.05314674+0.j]\n",
      " [-0.05314674+0.j  0.99716740+0.j]]\n",
      "(2, 2)\n",
      "(0.00283259989493+0j)\n",
      "[[ 0.91665696+0.j  0.27640003+0.j]\n",
      " [ 0.27640003+0.j  0.08334304+0.j]]\n",
      "(2, 2)\n",
      "(0.916656959541+0j)\n",
      "[[ 0.99363418+0.j -0.07953175+0.j]\n",
      " [-0.07953175+0.j  0.00636582+0.j]]\n",
      "(2, 2)\n",
      "(0.993634177361+0j)\n",
      "[[ 0.04468261+0.j -0.20660609+0.j]\n",
      " [-0.20660609+0.j  0.95531739+0.j]]\n",
      "(2, 2)\n",
      "(0.0446826135725+0j)\n",
      "[[ 0.06922296+0.j -0.25383290+0.j]\n",
      " [-0.25383290+0.j  0.93077704+0.j]]\n",
      "(2, 2)\n",
      "(0.0692229593031+0j)\n",
      "[[ 0.04468261+0.j -0.20660609+0.j]\n",
      " [-0.20660609+0.j  0.95531739+0.j]]\n",
      "(2, 2)\n",
      "(0.0446826135725+0j)\n",
      "[[ 0.94367604+0.j -0.23054625+0.j]\n",
      " [-0.23054625+0.j  0.05632396+0.j]]\n",
      "(2, 2)\n",
      "(0.943676037528+0j)\n",
      "[[ 0.09864418+0.j -0.29818368+0.j]\n",
      " [-0.29818368+0.j  0.90135582+0.j]]\n",
      "(2, 2)\n",
      "(0.0986441810345+0j)\n",
      "[[ 0.06922296+0.j -0.25383290+0.j]\n",
      " [-0.25383290+0.j  0.93077704+0.j]]\n",
      "(2, 2)\n",
      "(0.0692229593031+0j)\n",
      "[[ 0.06922296+0.j -0.25383290+0.j]\n",
      " [-0.25383290+0.j  0.93077704+0.j]]\n",
      "(2, 2)\n",
      "(0.0692229593031+0j)\n",
      "[[  3.74939946e-33+0.j  -6.12323400e-17+0.j]\n",
      " [ -6.12323400e-17+0.j   1.00000000e+00+0.j]]\n",
      "(2, 2)\n",
      "(3.74939945665e-33+0j)\n",
      "[[ 0.06922296+0.j -0.25383290+0.j]\n",
      " [-0.25383290+0.j  0.93077704+0.j]]\n",
      "(2, 2)\n",
      "(0.0692229593031+0j)\n"
     ]
    },
    {
     "data": {
      "text/plain": [
       "50.0"
      ]
     },
     "execution_count": 90,
     "metadata": {},
     "output_type": "execute_result"
    }
   ],
   "source": [
    "eval_cost_function(operator_list,data,rounding=1)"
   ]
  },
  {
   "cell_type": "code",
   "execution_count": 1204,
   "metadata": {},
   "outputs": [
    {
     "name": "stdout",
     "output_type": "stream",
     "text": [
      "[[ 0.75058857+0.00437676j -0.32450309-0.09182634j -0.35139605+0.41486522j\n",
      "  -0.16169072+0.03357192j]\n",
      " [ 0.41840074-0.05824109j  0.90194796-0.00438675j  0.06267576+0.00706104j\n",
      "   0.02689684+0.05760113j]\n",
      " [ 0.36268541+0.32061084j -0.22003486-0.13261931j  0.63816121-0.16054107j\n",
      "   0.45937977+0.23582161j]\n",
      " [-0.15364117-0.01445039j  0.06972942+0.04325385j -0.3966367 +0.33179168j\n",
      "   0.83778808+0.01253918j]]\n",
      "[1. 1. 1. 1.]\n"
     ]
    }
   ],
   "source": [
    "tt=qutip.rand_unitary(4).full()\n",
    "print(tt)\n",
    "u,v,w=np.linalg.svd(tt)\n",
    "print(v)"
   ]
  },
  {
   "cell_type": "code",
   "execution_count": 1146,
   "metadata": {},
   "outputs": [
    {
     "name": "stdout",
     "output_type": "stream",
     "text": [
      "[[ 0.49105964-0.52549388j  0.        +0.j          0.64749262-0.25193235j\n",
      "   0.        +0.j        ]\n",
      " [ 0.        +0.j          0.4924356 +0.73080847j  0.        +0.j\n",
      "   0.46949877-0.05474552j]\n",
      " [-0.65212706+0.23968084j  0.        +0.j          0.71591378+0.06892642j\n",
      "   0.        +0.j        ]\n",
      " [ 0.        +0.j         -0.23495091-0.41015148j  0.        +0.j\n",
      "   0.88040644-0.03818804j]]\n",
      "[[0.        -0.52549388j 0.        +0.j         0.64749262-0.25193235j\n",
      "  0.        +0.j        ]\n",
      " [0.        +0.j         0.        +0.73080847j 0.        +0.j\n",
      "  0.        -0.05474552j]\n",
      " [0.        +0.23968084j 0.        +0.j         0.71591378+0.06892642j\n",
      "  0.        +0.j        ]\n",
      " [0.        +0.j         0.        -0.41015148j 0.        +0.j\n",
      "  0.88040644-0.03818804j]]\n"
     ]
    }
   ],
   "source": []
  },
  {
   "cell_type": "code",
   "execution_count": 168,
   "metadata": {
    "collapsed": true
   },
   "outputs": [],
   "source": [
    "N=np.random.rand(4,4)\n",
    "def trace_last(dm,tracing_out):\n",
    "    for i in range(tracing_out):\n",
    "        L=int(dm.shape[0]*0.5)\n",
    "        a=np.trace(N[0:L,0:L])\n",
    "        b=np.trace(N[0:L,L:2*L])\n",
    "        c=np.trace(N[L:2*L,0:L])\n",
    "        d=np.trace(N[L:2*l,L:2*L])\n",
    "        l=[a,b,c,d]\n",
    "        l=np.asarray(l)\n",
    "        dm=np.reshape(l,(2,2))\n",
    "    return dm"
   ]
  },
  {
   "cell_type": "code",
   "execution_count": 171,
   "metadata": {},
   "outputs": [
    {
     "data": {
      "text/plain": [
       "array([[0.05770041, 0.53411366, 0.59571219, 0.55373552],\n",
       "       [0.4003518 , 0.62921149, 0.64260368, 0.9732211 ],\n",
       "       [0.23996156, 0.15307084, 0.32869864, 0.13941781],\n",
       "       [0.98162122, 0.28869923, 0.3299101 , 0.58022901]])"
      ]
     },
     "execution_count": 171,
     "metadata": {},
     "output_type": "execute_result"
    }
   ],
   "source": [
    "N"
   ]
  },
  {
   "cell_type": "code",
   "execution_count": 184,
   "metadata": {},
   "outputs": [
    {
     "name": "stdout",
     "output_type": "stream",
     "text": [
      "[0.6869119  1.56893328 0.52866079 0.90892765]\n"
     ]
    },
    {
     "data": {
      "text/plain": [
       "array([[0.6869119 , 1.56893328],\n",
       "       [0.52866079, 0.90892765]])"
      ]
     },
     "execution_count": 184,
     "metadata": {},
     "output_type": "execute_result"
    }
   ],
   "source": [
    "a=np.trace(N[0:2,0:2])\n",
    "b=np.trace(N[0:2,2:4])\n",
    "c=np.trace(N[2:4,0:2])\n",
    "d=np.trace(N[2:4,2:4])\n",
    "l=[a,b,c,d]\n",
    "l=np.asarray(l)\n",
    "print(l)\n",
    "np.reshape(l,(2,2))"
   ]
  },
  {
   "cell_type": "code",
   "execution_count": 43,
   "metadata": {},
   "outputs": [
    {
     "data": {
      "text/plain": [
       "array([[-2.502624656249496, -2.8797932657906435, 1],\n",
       "       [-2.6091193224728793, -2.356194490192345, 1],\n",
       "       [0.7987099966753711, 0.2617993877991492, 2],\n",
       "       [0.5857206642286054, 0.523598775598299, 2],\n",
       "       [1.0116993291221368, 0.523598775598299, 2],\n",
       "       [0.05324733311169127, 0.0, 2],\n",
       "       [0.6922153304519879, 0.523598775598299, 2],\n",
       "       [0.5857206642286054, 0.0, 2],\n",
       "       [0.7987099966753711, 0.7853981633974483, 2],\n",
       "       [-0.6922153304519886, -0.7853981633974483, 2],\n",
       "       [0.6922153304519879, 0.0, 2],\n",
       "       [-0.053247333111691615, 0.2617993877991492, 2],\n",
       "       [-0.4792259980052228, -0.7853981633974483, 2],\n",
       "       [0.26623666555845704, 0.523598775598299, 2],\n",
       "       [0.05324733311169127, -0.7853981633974483, 2]], dtype=object)"
      ]
     },
     "execution_count": 43,
     "metadata": {},
     "output_type": "execute_result"
    }
   ],
   "source": [
    "small_iris[30:45,:]"
   ]
  },
  {
   "cell_type": "code",
   "execution_count": 300,
   "metadata": {},
   "outputs": [
    {
     "data": {
      "text/plain": [
       "array([[ 0.52888268,  0.32374209,  0.16384487,  0.48450909,  0.67869732],\n",
       "       [ 0.32374209,  0.19817049,  0.10029347,  0.29657993,  0.41544731],\n",
       "       [ 0.16384487,  0.10029347,  0.05075822,  0.15009819,  0.2102566 ],\n",
       "       [ 0.48450909,  0.29657993,  0.15009819,  0.44385848,  0.62175419],\n",
       "       [ 0.67869732,  0.41544731,  0.2102566 ,  0.62175419,  0.87094939]])"
      ]
     },
     "execution_count": 300,
     "metadata": {},
     "output_type": "execute_result"
    }
   ],
   "source": [
    "# function(normalise) that normalises data appropriately XXX\n",
    "# function(create_dm) produces initial rho XXXXX\n",
    "# function(get rid of) ditches the first qubit XXXXX\n",
    "# function(measure) measures the last qubit (super easy) XXXX\n",
    "# function(elongate) that tensors a unitary with appropriate sized identity matrix XXXX\n",
    "# function(initialise) that initialises right number (and size) of unitaries XXXX\n",
    "# process (optimise) that optimises these unitaries according to a cost function\n",
    "# process (evaluate) that evaluates the circuit.\n",
    "z=np.random.rand(5,1)\n",
    "np.kron(np.transpose(z),z)"
   ]
  },
  {
   "cell_type": "code",
   "execution_count": 659,
   "metadata": {},
   "outputs": [
    {
     "name": "stdout",
     "output_type": "stream",
     "text": [
      "(10,)\n",
      "(26,)\n"
     ]
    }
   ],
   "source": [
    "print(small_iris[0:10,1].shape)\n",
    "print(test_iris1.shape)"
   ]
  },
  {
   "cell_type": "markdown",
   "metadata": {
    "collapsed": true
   },
   "source": [
    "# TO DO LIST:\n",
    "\n",
    "## - check the existing quantum architectures that we are using\n",
    "\n",
    "## - read on \"proper\" evolution with unitarity constraints\n",
    "\n",
    "## - code the circuit\n",
    "\n",
    "## - try a completely adaptive implementation\n",
    "\n",
    "## - consider a purely quantum optimisation"
   ]
  },
  {
   "cell_type": "code",
   "execution_count": 34,
   "metadata": {},
   "outputs": [
    {
     "data": {
      "text/plain": [
       "array([[ 0.67728728-0.04510286j, -0.03767357+0.59710738j,\n",
       "        -0.07876553+0.07457206j,  0.30078743-0.28116378j],\n",
       "       [-0.27143852+0.49191928j,  0.63722363+0.34506098j,\n",
       "         0.14640201+0.2680105j ,  0.2010418 +0.15979529j],\n",
       "       [-0.04464229-0.0941223j , -0.24845995+0.17756922j,\n",
       "         0.94572618-0.00818055j, -0.03536123+0.01302057j],\n",
       "       [-0.28207055-0.36492258j, -0.01999003-0.15251119j,\n",
       "         0.00643183-0.02157599j,  0.87342314-0.01528317j]])"
      ]
     },
     "execution_count": 34,
     "metadata": {},
     "output_type": "execute_result"
    }
   ],
   "source": [
    "A=qutip.rand_unitary(4).full()\n",
    "A"
   ]
  },
  {
   "cell_type": "code",
   "execution_count": 35,
   "metadata": {
    "collapsed": true
   },
   "outputs": [],
   "source": [
    "q,r=np.linalg.qr(A)"
   ]
  },
  {
   "cell_type": "code",
   "execution_count": 36,
   "metadata": {},
   "outputs": [
    {
     "data": {
      "text/plain": [
       "array([[-1.+0.j,  0.+0.j,  0.+0.j,  0.+0.j],\n",
       "       [ 0.+0.j, -1.+0.j,  0.+0.j,  0.+0.j],\n",
       "       [ 0.+0.j,  0.+0.j, -1.+0.j,  0.+0.j],\n",
       "       [ 0.+0.j,  0.+0.j,  0.+0.j, -1.+0.j]])"
      ]
     },
     "execution_count": 36,
     "metadata": {},
     "output_type": "execute_result"
    }
   ],
   "source": [
    "np.imag(r)[abs(np.imag(r))<0.000001]=0\n",
    "np.real(r)[abs(np.real(r))<0.000001]=0\n",
    "r"
   ]
  },
  {
   "cell_type": "code",
   "execution_count": 37,
   "metadata": {},
   "outputs": [
    {
     "data": {
      "text/plain": [
       "array([[-0.67728728+0.04510286j,  0.03767357-0.59710738j,\n",
       "         0.07876553-0.07457206j, -0.30078743+0.28116378j],\n",
       "       [ 0.27143852-0.49191928j, -0.63722363-0.34506098j,\n",
       "        -0.14640201-0.2680105j , -0.2010418 -0.15979529j],\n",
       "       [ 0.04464229+0.0941223j ,  0.24845995-0.17756922j,\n",
       "        -0.94572618+0.00818055j,  0.03536123-0.01302057j],\n",
       "       [ 0.28207055+0.36492258j,  0.01999003+0.15251119j,\n",
       "        -0.00643183+0.02157599j, -0.87342314+0.01528317j]])"
      ]
     },
     "execution_count": 37,
     "metadata": {},
     "output_type": "execute_result"
    }
   ],
   "source": [
    "q"
   ]
  },
  {
   "cell_type": "code",
   "execution_count": null,
   "metadata": {
    "collapsed": true
   },
   "outputs": [],
   "source": []
  }
 ],
 "metadata": {
  "kernelspec": {
   "display_name": "Python 3",
   "language": "python",
   "name": "python3"
  },
  "language_info": {
   "codemirror_mode": {
    "name": "ipython",
    "version": 3
   },
   "file_extension": ".py",
   "mimetype": "text/x-python",
   "name": "python",
   "nbconvert_exporter": "python",
   "pygments_lexer": "ipython3",
   "version": "3.5.3"
  }
 },
 "nbformat": 4,
 "nbformat_minor": 2
}

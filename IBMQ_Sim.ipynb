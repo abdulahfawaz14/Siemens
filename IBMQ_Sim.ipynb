{
 "cells": [
  {
   "cell_type": "code",
   "execution_count": 1,
   "metadata": {
    "collapsed": true,
    "scrolled": true
   },
   "outputs": [],
   "source": [
    "import qiskit\n",
    "from qiskit import QuantumProgram\n",
    "import pandas as pd\n",
    "import numpy as np\n",
    "import math\n",
    "import random\n",
    "from random import shuffle\n",
    "import projectq\n",
    "import scipy\n",
    "from projectq import MainEngine  # import the main compiler engine\n",
    "from projectq.ops import H, Measure, Ry, CNOT"
   ]
  },
  {
   "cell_type": "markdown",
   "metadata": {},
   "source": [
    "## Normalise Data"
   ]
  },
  {
   "cell_type": "code",
   "execution_count": 89,
   "metadata": {
    "collapsed": true
   },
   "outputs": [],
   "source": [
    "params=np.load('NEW_MPS_easyiris_params2.npy')"
   ]
  },
  {
   "cell_type": "code",
   "execution_count": 90,
   "metadata": {},
   "outputs": [
    {
     "name": "stdout",
     "output_type": "stream",
     "text": [
      "[-2.57538476 -0.51658383 -2.15049129  0.09441932 -0.46322537 -1.21147349\n",
      " -0.33650512]\n"
     ]
    }
   ],
   "source": [
    "print(params)"
   ]
  },
  {
   "cell_type": "code",
   "execution_count": 48,
   "metadata": {
    "collapsed": true
   },
   "outputs": [],
   "source": [
    "iris = pd.read_csv('Iris.csv', header=None)\n",
    "iris=np.array(iris)\n",
    "#numericalise the labels for graphing\n",
    "iris[:,4][iris[:,4] == 'setosa']=1\n",
    "iris[:,4][iris[:,4] == 'versicolor']=2\n",
    "iris[:,4][iris[:,4] == 'virginica']=3\n",
    "\n",
    "def shuffle_data(data,test_size):\n",
    "    l=[x for x in range(data.shape[0])]\n",
    "    shuffle(l)\n",
    "    data_test=data[l[:test_size],:]\n",
    "    data_train=data[l[test_size:],:]\n",
    "    return data_train,data_test\n",
    "\n",
    "def normalise(data):\n",
    "    l=data.shape[1]\n",
    "    for i in range(l-1):\n",
    "        mn=np.min(data[:,i])\n",
    "        data[:,i]=data[:,i]-mn #add the lowest value\n",
    "        mx=np.max(data[:,i])\n",
    "        data[:,i]=(data[:,i]*2/mx) -1\n",
    "        data[:,i]=data[:,i]*math.pi\n",
    "    return data\n",
    "\n",
    "def min_max_norm(data,new_min=-1*math.pi,new_max=math.pi):\n",
    "    for i in range(data.shape[1]):\n",
    "        old_min=min(data[:,i])\n",
    "        old_max=max(data[:,i])\n",
    "        data[:,i]=((data[:,i]-old_min)/(old_max-old_min)) *(new_max-new_min)+new_min\n",
    "    return data\n",
    "\n",
    "\n",
    "iris[:,:4]=min_max_norm(iris[:,:4], 0,0.5*math.pi)\n",
    "easy_iris=iris[:66,:]\n",
    "easy_iris[32:,4]=0\n",
    "easy_iris_train, easy_iris_test=shuffle_data(easy_iris,8)"
   ]
  },
  {
   "cell_type": "code",
   "execution_count": 49,
   "metadata": {},
   "outputs": [
    {
     "data": {
      "text/plain": [
       "array([0, 0, 1, 0, 0, 0, 1, 1], dtype=object)"
      ]
     },
     "execution_count": 49,
     "metadata": {},
     "output_type": "execute_result"
    }
   ],
   "source": [
    "easy_iris_test[:,4]"
   ]
  },
  {
   "cell_type": "code",
   "execution_count": 100,
   "metadata": {},
   "outputs": [
    {
     "name": "stdout",
     "output_type": "stream",
     "text": [
      "[0 0 0 0 0 0 0 0 0 0 0 0 0 0 0 0 0 0 0 0 0 0 0 0 0 0 0 0 0 0 0 0 0 1 1 1 1\n",
      " 1 1 1 1 1 1 1 1 1 1 1 1 1 1 1 1 1 1 1 1 1 1 1 1 1 1 1 1 1 1]\n"
     ]
    }
   ],
   "source": [
    "iris_hard=iris[33:103,:]\n",
    "iris_hard.shape\n",
    "iris_hard[33:,4]=1\n",
    "iris_hard_train,iris_hard_test=shuffle_data(iris_hard,)\n",
    "print(iris_hard[:,4])\n",
    "data2=iris_hard_test\n"
   ]
  },
  {
   "cell_type": "code",
   "execution_count": 12,
   "metadata": {},
   "outputs": [
    {
     "data": {
      "text/plain": [
       "array([[ 1.49346755,  1.05665171,  0.50356301, ...,  0.50566479,\n",
       "         0.38320391,  0.        ],\n",
       "       [ 1.18826691,  1.10954606,  0.3972018 , ...,  0.43264078,\n",
       "         0.27619741,  0.        ],\n",
       "       [ 1.20230395,  0.82519895,  0.46973758, ...,  0.72555775,\n",
       "         0.65234554,  0.        ],\n",
       "       ..., \n",
       "       [ 0.93953442,  0.7719403 ,  0.7378104 , ...,  0.70331822,\n",
       "         1.19070074,  1.        ],\n",
       "       [ 0.86704012,  0.75275571,  0.12430166, ...,  0.90418496,\n",
       "         0.04004097,  1.        ],\n",
       "       [ 0.74848711,  0.45594107,  0.77517514, ...,  1.06366312,\n",
       "         1.06411379,  1.        ]])"
      ]
     },
     "execution_count": 12,
     "metadata": {},
     "output_type": "execute_result"
    }
   ],
   "source": [
    "d1=np.load('learning_zero_train.npy')\n",
    "d1"
   ]
  },
  {
   "cell_type": "code",
   "execution_count": 12,
   "metadata": {
    "collapsed": true
   },
   "outputs": [],
   "source": [
    "learning_zero=d1\n",
    "data1,data2=shuffle_data(learning_zero,50)"
   ]
  },
  {
   "cell_type": "code",
   "execution_count": 96,
   "metadata": {
    "collapsed": true
   },
   "outputs": [],
   "source": [
    "def MPS(params, data, shots,rounding):\n",
    "    answers=np.zeros(data.shape[0])\n",
    "    for i in range(data.shape[0]):\n",
    "        x=np.zeros(shots)\n",
    "        for k in range(shots):\n",
    "            eng = MainEngine()  # create a default compiler (the back-end is a simulator)\n",
    "\n",
    "            q1 = eng.allocate_qubit()  # allocate 1 qubit\n",
    "            q2 = eng.allocate_qubit()\n",
    "            q3 = eng.allocate_qubit()\n",
    "            q4 = eng.allocate_qubit()\n",
    "\n",
    "            Ry(data[i,0]*2) | q1  \n",
    "            Ry(data[i,1]*2) | q2  \n",
    "            Ry(data[i,2]*2) | q3  \n",
    "            Ry(data[i,3]*2) | q4\n",
    "\n",
    "            Ry(params[0]) | q1  \n",
    "            Ry(params[1]) | q2  \n",
    "            Ry(params[2]) | q3  \n",
    "            Ry(params[3]) | q4  \n",
    "            \n",
    "            CNOT | (q1,q2)\n",
    "            Ry(params[4]) | q2\n",
    "            \n",
    "            CNOT | (q2,q3)\n",
    "            Ry(params[5]) | q3\n",
    "            \n",
    "            CNOT | (q3,q4)\n",
    "            Ry(params[6]) | q4\n",
    "            \n",
    "            Measure | q4  # measure the qubit\n",
    "            Measure | q1\n",
    "            Measure | q2\n",
    "            Measure | q3\n",
    "            eng.flush()\n",
    "\n",
    "            x[k]=int(q4)\n",
    "            #print(x)\n",
    "        #print(x)\n",
    "        idx=x==0\n",
    "        num_zeros=shots-sum(x)\n",
    "        prop_zeros=num_zeros/shots\n",
    "        #print(prop_zeros)\n",
    "        if rounding==1:\n",
    "            answers[i]=1-round(prop_zeros)\n",
    "            answers[i]=abs(answers[i]-data[i,4])\n",
    "        if rounding ==0:\n",
    "            prop_ones=1-prop_zeros\n",
    "            answers[i]=abs(prop_ones-data[i,4])\n",
    "    print(np.sum(answers))\n",
    "    print(answers)\n",
    "    return(np.sum(answers))"
   ]
  },
  {
   "cell_type": "code",
   "execution_count": 57,
   "metadata": {
    "collapsed": true
   },
   "outputs": [],
   "source": [
    "def MPS_8(params, data, shots,rounding):\n",
    "    answers=np.zeros(data.shape[0])\n",
    "    for i in range(data.shape[0]):\n",
    "        x=np.zeros(shots)\n",
    "        for k in range(shots):\n",
    "            eng = MainEngine()  # create a default compiler (the back-end is a simulator)\n",
    "\n",
    "            q1 = eng.allocate_qubit()  # allocate 1 qubit\n",
    "            q2 = eng.allocate_qubit()\n",
    "            q3 = eng.allocate_qubit()\n",
    "            q4 = eng.allocate_qubit()\n",
    "            q5 = eng.allocate_qubit()  # allocate 1 qubit\n",
    "            q6 = eng.allocate_qubit()\n",
    "            q7 = eng.allocate_qubit()\n",
    "            q8 = eng.allocate_qubit()\n",
    "\n",
    "            Ry(data[i,0]*2) | q1  \n",
    "            Ry(data[i,1]*2) | q2  \n",
    "            Ry(data[i,2]*2) | q3  \n",
    "            Ry(data[i,3]*2) | q4\n",
    "            Ry(data[i,4]*2) | q5  \n",
    "            Ry(data[i,5]*2) | q6  \n",
    "            Ry(data[i,6]*2) | q7  \n",
    "            Ry(data[i,7]*2) | q8\n",
    "\n",
    "\n",
    "            Ry(params[0]) | q1  \n",
    "            Ry(params[1]) | q2  \n",
    "            Ry(params[2]) | q3  \n",
    "            Ry(params[3]) | q4 \n",
    "            Ry(params[4]) | q5  \n",
    "            Ry(params[5]) | q6  \n",
    "            Ry(params[6]) | q7  \n",
    "            Ry(params[7]) | q8 \n",
    "            \n",
    "            \n",
    "            CNOT | (q1,q2)\n",
    "            Ry(params[8]) | q2\n",
    "            CNOT | (q2,q3)\n",
    "            Ry(params[9]) | q3\n",
    "            CNOT | (q3,q4)\n",
    "            Ry(params[10]) | q4\n",
    "            CNOT | (q4,q5)\n",
    "            Ry(params[11]) | q5\n",
    "            CNOT | (q5,q6)\n",
    "            Ry(params[12]) | q6\n",
    "            CNOT | (q6,q7)\n",
    "            Ry(params[13]) | q7\n",
    "            CNOT | (q7,q8)\n",
    "            Ry(params[14]) | q8\n",
    "            \n",
    "            \n",
    "            Measure | q4  # measure the qubit\n",
    "            Measure | q1\n",
    "            Measure | q2\n",
    "            Measure | q3\n",
    "            Measure | q5\n",
    "            Measure | q6\n",
    "            Measure | q7\n",
    "            Measure | q8\n",
    "    \n",
    "            x[k]=int(q8)\n",
    "            eng.flush()\n",
    "        #print(x)\n",
    "        idx=x==0\n",
    "        \n",
    "        num_zeros=sum(idx)\n",
    "        #print(num_zeros)\n",
    "        prop_zeros=num_zeros/shots\n",
    "        if rounding==1:\n",
    "            answers[i]=1-round(prop_zeros)\n",
    "            answers[i]=abs(answers[i]-data[i,8])\n",
    "        if rounding ==0:\n",
    "            prop_ones=1-prop_zeros\n",
    "            answers[i]=abs(prop_ones-data[i,8])\n",
    "                \n",
    "    print(np.sum(answers)/data.shape[0])\n",
    "    return(np.sum(answers)/data.shape[0])"
   ]
  },
  {
   "cell_type": "code",
   "execution_count": 84,
   "metadata": {},
   "outputs": [
    {
     "name": "stdout",
     "output_type": "stream",
     "text": [
      "19.6650390625\n",
      "19.673828125\n"
     ]
    },
    {
     "name": "stderr",
     "output_type": "stream",
     "text": [
      "ERROR:root:Internal Python error in the inspect module.\n",
      "Below is the traceback from this internal error.\n",
      "\n",
      "\n",
      "KeyboardInterrupt\n",
      "\n"
     ]
    }
   ],
   "source": [
    "import projectq\n",
    "from projectq import MainEngine  # import the main compiler engine\n",
    "from projectq.ops import H, Measure, Ry, CNOT  # import the operations we want to perform (Hadamard and measurement)\n",
    "\n",
    "shots=1024    \n",
    "\n",
    "\n",
    " \n",
    "x=np.zeros(shots)\n",
    "\n",
    "function=MPS\n",
    "params=scipy.optimize.minimize(function,params,args=(easy_iris_train,1024,0), method='CG')['x']\n",
    "print(MPS(params,easy_iris_test,shots=1024,rounding=0))"
   ]
  },
  {
   "cell_type": "code",
   "execution_count": 110,
   "metadata": {
    "collapsed": true
   },
   "outputs": [],
   "source": [
    "params=np.load('NEW_MPS_hardiris_good.npy')\n"
   ]
  },
  {
   "cell_type": "code",
   "execution_count": 114,
   "metadata": {},
   "outputs": [
    {
     "data": {
      "text/plain": [
       "array([1, 0, 1, 0, 1, 0, 1, 0], dtype=object)"
      ]
     },
     "execution_count": 114,
     "metadata": {},
     "output_type": "execute_result"
    }
   ],
   "source": [
    "iris_hard_test[:,4]"
   ]
  },
  {
   "cell_type": "code",
   "execution_count": 108,
   "metadata": {},
   "outputs": [
    {
     "data": {
      "text/plain": [
       "array([-2.56814651,  0.20171063, -1.72638665,  0.34769518,  1.90915381,\n",
       "       -2.82703063,  0.87961758])"
      ]
     },
     "execution_count": 108,
     "metadata": {},
     "output_type": "execute_result"
    }
   ],
   "source": [
    "params"
   ]
  },
  {
   "cell_type": "code",
   "execution_count": 115,
   "metadata": {},
   "outputs": [
    {
     "name": "stdout",
     "output_type": "stream",
     "text": [
      "4.0\n",
      "[ 0.  0.  0.  0.  0.  0.  0.  0.  0.  0.  0.  0.  0.  0.  0.  0.  0.  0.\n",
      "  0.  0.  1.  0.  0.  0.  0.  0.  0.  1.  0.  0.  0.  0.  0.  0.  0.  0.\n",
      "  0.  0.  0.  0.  0.  0.  0.  0.  0.  0.  0.  0.  0.  0.  0.  0.  0.  0.\n",
      "  0.  0.  1.  0.  1.]\n",
      "4.0\n"
     ]
    }
   ],
   "source": [
    "print(MPS(params,iris_hard_train,shots=1024,rounding=1))"
   ]
  },
  {
   "cell_type": "code",
   "execution_count": 95,
   "metadata": {},
   "outputs": [
    {
     "data": {
      "text/plain": [
       "array([0, 0, 1, 0, 0, 0, 1, 1], dtype=object)"
      ]
     },
     "execution_count": 95,
     "metadata": {},
     "output_type": "execute_result"
    }
   ],
   "source": [
    "easy_iris_test[:,4]"
   ]
  },
  {
   "cell_type": "code",
   "execution_count": 44,
   "metadata": {},
   "outputs": [
    {
     "data": {
      "text/plain": [
       "array([1, 0, 1, 1, 0, 0, 0, 1], dtype=object)"
      ]
     },
     "execution_count": 44,
     "metadata": {},
     "output_type": "execute_result"
    }
   ],
   "source": [
    "easy_iris_test[:,4]"
   ]
  },
  {
   "cell_type": "code",
   "execution_count": 24,
   "metadata": {},
   "outputs": [
    {
     "ename": "KeyboardInterrupt",
     "evalue": "",
     "output_type": "error",
     "traceback": [
      "\u001b[1;31m---------------------------------------------------------------------------\u001b[0m",
      "\u001b[1;31mKeyboardInterrupt\u001b[0m                         Traceback (most recent call last)",
      "\u001b[1;32m<ipython-input-24-a48e9c0cd842>\u001b[0m in \u001b[0;36m<module>\u001b[1;34m()\u001b[0m\n\u001b[0;32m      2\u001b[0m \u001b[0mparams2\u001b[0m\u001b[1;33m=\u001b[0m\u001b[0mparams2\u001b[0m\u001b[1;33m[\u001b[0m\u001b[1;34m'arr_0'\u001b[0m\u001b[1;33m]\u001b[0m\u001b[1;33m\u001b[0m\u001b[0m\n\u001b[0;32m      3\u001b[0m \u001b[0mshots\u001b[0m\u001b[1;33m=\u001b[0m\u001b[1;36m1024\u001b[0m\u001b[1;33m\u001b[0m\u001b[0m\n\u001b[1;32m----> 4\u001b[1;33m \u001b[0mprint\u001b[0m\u001b[1;33m(\u001b[0m\u001b[0mMPS\u001b[0m\u001b[1;33m(\u001b[0m\u001b[0mparams2\u001b[0m\u001b[1;33m,\u001b[0m\u001b[0miris_hard_train\u001b[0m\u001b[1;33m,\u001b[0m\u001b[0mshots\u001b[0m\u001b[1;33m,\u001b[0m\u001b[0mrounding\u001b[0m\u001b[1;33m=\u001b[0m\u001b[1;36m1\u001b[0m\u001b[1;33m)\u001b[0m\u001b[1;33m)\u001b[0m\u001b[1;33m\u001b[0m\u001b[0m\n\u001b[0m",
      "\u001b[1;32m<ipython-input-19-55c0a4c65f59>\u001b[0m in \u001b[0;36mMPS\u001b[1;34m(params, data, shots, rounding)\u001b[0m\n\u001b[0;32m     27\u001b[0m             \u001b[0mCNOT\u001b[0m \u001b[1;33m|\u001b[0m \u001b[1;33m(\u001b[0m\u001b[0mq3\u001b[0m\u001b[1;33m,\u001b[0m\u001b[0mq4\u001b[0m\u001b[1;33m)\u001b[0m\u001b[1;33m\u001b[0m\u001b[0m\n\u001b[0;32m     28\u001b[0m             \u001b[0mRy\u001b[0m\u001b[1;33m(\u001b[0m\u001b[0mparams\u001b[0m\u001b[1;33m[\u001b[0m\u001b[1;36m6\u001b[0m\u001b[1;33m]\u001b[0m\u001b[1;33m)\u001b[0m \u001b[1;33m|\u001b[0m \u001b[0mq4\u001b[0m\u001b[1;33m\u001b[0m\u001b[0m\n\u001b[1;32m---> 29\u001b[1;33m             \u001b[0mMeasure\u001b[0m \u001b[1;33m|\u001b[0m \u001b[0mq4\u001b[0m  \u001b[1;31m# measure the qubit\u001b[0m\u001b[1;33m\u001b[0m\u001b[0m\n\u001b[0m\u001b[0;32m     30\u001b[0m             \u001b[0mMeasure\u001b[0m \u001b[1;33m|\u001b[0m \u001b[0mq1\u001b[0m\u001b[1;33m\u001b[0m\u001b[0m\n\u001b[0;32m     31\u001b[0m             \u001b[0mMeasure\u001b[0m \u001b[1;33m|\u001b[0m \u001b[0mq2\u001b[0m\u001b[1;33m\u001b[0m\u001b[0m\n",
      "\u001b[1;32m~\\AppData\\Roaming\\Python\\Python35\\site-packages\\projectq\\ops\\_basics.py\u001b[0m in \u001b[0;36m__or__\u001b[1;34m(self, qubits)\u001b[0m\n\u001b[0;32m    198\u001b[0m         \"\"\"\n\u001b[0;32m    199\u001b[0m         \u001b[0mcmd\u001b[0m \u001b[1;33m=\u001b[0m \u001b[0mself\u001b[0m\u001b[1;33m.\u001b[0m\u001b[0mgenerate_command\u001b[0m\u001b[1;33m(\u001b[0m\u001b[0mqubits\u001b[0m\u001b[1;33m)\u001b[0m\u001b[1;33m\u001b[0m\u001b[0m\n\u001b[1;32m--> 200\u001b[1;33m         \u001b[0mapply_command\u001b[0m\u001b[1;33m(\u001b[0m\u001b[0mcmd\u001b[0m\u001b[1;33m)\u001b[0m\u001b[1;33m\u001b[0m\u001b[0m\n\u001b[0m\u001b[0;32m    201\u001b[0m \u001b[1;33m\u001b[0m\u001b[0m\n\u001b[0;32m    202\u001b[0m     \u001b[1;32mdef\u001b[0m \u001b[0m__eq__\u001b[0m\u001b[1;33m(\u001b[0m\u001b[0mself\u001b[0m\u001b[1;33m,\u001b[0m \u001b[0mother\u001b[0m\u001b[1;33m)\u001b[0m\u001b[1;33m:\u001b[0m\u001b[1;33m\u001b[0m\u001b[0m\n",
      "\u001b[1;32m~\\AppData\\Roaming\\Python\\Python35\\site-packages\\projectq\\ops\\_command.py\u001b[0m in \u001b[0;36mapply_command\u001b[1;34m(cmd)\u001b[0m\n\u001b[0;32m     56\u001b[0m     \"\"\"\n\u001b[0;32m     57\u001b[0m     \u001b[0mengine\u001b[0m \u001b[1;33m=\u001b[0m \u001b[0mcmd\u001b[0m\u001b[1;33m.\u001b[0m\u001b[0mengine\u001b[0m\u001b[1;33m\u001b[0m\u001b[0m\n\u001b[1;32m---> 58\u001b[1;33m     \u001b[0mengine\u001b[0m\u001b[1;33m.\u001b[0m\u001b[0mreceive\u001b[0m\u001b[1;33m(\u001b[0m\u001b[1;33m[\u001b[0m\u001b[0mcmd\u001b[0m\u001b[1;33m]\u001b[0m\u001b[1;33m)\u001b[0m\u001b[1;33m\u001b[0m\u001b[0m\n\u001b[0m\u001b[0;32m     59\u001b[0m \u001b[1;33m\u001b[0m\u001b[0m\n\u001b[0;32m     60\u001b[0m \u001b[1;33m\u001b[0m\u001b[0m\n",
      "\u001b[1;32m~\\AppData\\Roaming\\Python\\Python35\\site-packages\\projectq\\cengines\\_main.py\u001b[0m in \u001b[0;36mreceive\u001b[1;34m(self, command_list)\u001b[0m\n\u001b[0;32m    224\u001b[0m                 then send on)\n\u001b[0;32m    225\u001b[0m         \"\"\"\n\u001b[1;32m--> 226\u001b[1;33m         \u001b[0mself\u001b[0m\u001b[1;33m.\u001b[0m\u001b[0msend\u001b[0m\u001b[1;33m(\u001b[0m\u001b[0mcommand_list\u001b[0m\u001b[1;33m)\u001b[0m\u001b[1;33m\u001b[0m\u001b[0m\n\u001b[0m\u001b[0;32m    227\u001b[0m \u001b[1;33m\u001b[0m\u001b[0m\n\u001b[0;32m    228\u001b[0m     \u001b[1;32mdef\u001b[0m \u001b[0mflush\u001b[0m\u001b[1;33m(\u001b[0m\u001b[0mself\u001b[0m\u001b[1;33m,\u001b[0m \u001b[0mdeallocate_qubits\u001b[0m\u001b[1;33m=\u001b[0m\u001b[1;32mFalse\u001b[0m\u001b[1;33m)\u001b[0m\u001b[1;33m:\u001b[0m\u001b[1;33m\u001b[0m\u001b[0m\n",
      "\u001b[1;32m~\\AppData\\Roaming\\Python\\Python35\\site-packages\\projectq\\cengines\\_basics.py\u001b[0m in \u001b[0;36msend\u001b[1;34m(self, command_list)\u001b[0m\n\u001b[0;32m    184\u001b[0m         \u001b[0mForward\u001b[0m \u001b[0mthe\u001b[0m \u001b[0mlist\u001b[0m \u001b[0mof\u001b[0m \u001b[0mcommands\u001b[0m \u001b[0mto\u001b[0m \u001b[0mthe\u001b[0m \u001b[0mnext\u001b[0m \u001b[0mengine\u001b[0m \u001b[1;32min\u001b[0m \u001b[0mthe\u001b[0m \u001b[0mpipeline\u001b[0m\u001b[1;33m.\u001b[0m\u001b[1;33m\u001b[0m\u001b[0m\n\u001b[0;32m    185\u001b[0m         \"\"\"\n\u001b[1;32m--> 186\u001b[1;33m         \u001b[0mself\u001b[0m\u001b[1;33m.\u001b[0m\u001b[0mnext_engine\u001b[0m\u001b[1;33m.\u001b[0m\u001b[0mreceive\u001b[0m\u001b[1;33m(\u001b[0m\u001b[0mcommand_list\u001b[0m\u001b[1;33m)\u001b[0m\u001b[1;33m\u001b[0m\u001b[0m\n\u001b[0m\u001b[0;32m    187\u001b[0m \u001b[1;33m\u001b[0m\u001b[0m\n\u001b[0;32m    188\u001b[0m \u001b[1;33m\u001b[0m\u001b[0m\n",
      "\u001b[1;32m~\\AppData\\Roaming\\Python\\Python35\\site-packages\\projectq\\cengines\\_tagremover.py\u001b[0m in \u001b[0;36mreceive\u001b[1;34m(self, command_list)\u001b[0m\n\u001b[0;32m     56\u001b[0m             \u001b[1;32mfor\u001b[0m \u001b[0mtag\u001b[0m \u001b[1;32min\u001b[0m \u001b[0mself\u001b[0m\u001b[1;33m.\u001b[0m\u001b[0m_tags\u001b[0m\u001b[1;33m:\u001b[0m\u001b[1;33m\u001b[0m\u001b[0m\n\u001b[0;32m     57\u001b[0m                 \u001b[0mcmd\u001b[0m\u001b[1;33m.\u001b[0m\u001b[0mtags\u001b[0m \u001b[1;33m=\u001b[0m \u001b[1;33m[\u001b[0m\u001b[0mt\u001b[0m \u001b[1;32mfor\u001b[0m \u001b[0mt\u001b[0m \u001b[1;32min\u001b[0m \u001b[0mcmd\u001b[0m\u001b[1;33m.\u001b[0m\u001b[0mtags\u001b[0m \u001b[1;32mif\u001b[0m \u001b[1;32mnot\u001b[0m \u001b[0misinstance\u001b[0m\u001b[1;33m(\u001b[0m\u001b[0mt\u001b[0m\u001b[1;33m,\u001b[0m \u001b[0mtag\u001b[0m\u001b[1;33m)\u001b[0m\u001b[1;33m]\u001b[0m\u001b[1;33m\u001b[0m\u001b[0m\n\u001b[1;32m---> 58\u001b[1;33m             \u001b[0mself\u001b[0m\u001b[1;33m.\u001b[0m\u001b[0msend\u001b[0m\u001b[1;33m(\u001b[0m\u001b[1;33m[\u001b[0m\u001b[0mcmd\u001b[0m\u001b[1;33m]\u001b[0m\u001b[1;33m)\u001b[0m\u001b[1;33m\u001b[0m\u001b[0m\n\u001b[0m",
      "\u001b[1;32m~\\AppData\\Roaming\\Python\\Python35\\site-packages\\projectq\\cengines\\_basics.py\u001b[0m in \u001b[0;36msend\u001b[1;34m(self, command_list)\u001b[0m\n\u001b[0;32m    184\u001b[0m         \u001b[0mForward\u001b[0m \u001b[0mthe\u001b[0m \u001b[0mlist\u001b[0m \u001b[0mof\u001b[0m \u001b[0mcommands\u001b[0m \u001b[0mto\u001b[0m \u001b[0mthe\u001b[0m \u001b[0mnext\u001b[0m \u001b[0mengine\u001b[0m \u001b[1;32min\u001b[0m \u001b[0mthe\u001b[0m \u001b[0mpipeline\u001b[0m\u001b[1;33m.\u001b[0m\u001b[1;33m\u001b[0m\u001b[0m\n\u001b[0;32m    185\u001b[0m         \"\"\"\n\u001b[1;32m--> 186\u001b[1;33m         \u001b[0mself\u001b[0m\u001b[1;33m.\u001b[0m\u001b[0mnext_engine\u001b[0m\u001b[1;33m.\u001b[0m\u001b[0mreceive\u001b[0m\u001b[1;33m(\u001b[0m\u001b[0mcommand_list\u001b[0m\u001b[1;33m)\u001b[0m\u001b[1;33m\u001b[0m\u001b[0m\n\u001b[0m\u001b[0;32m    187\u001b[0m \u001b[1;33m\u001b[0m\u001b[0m\n\u001b[0;32m    188\u001b[0m \u001b[1;33m\u001b[0m\u001b[0m\n",
      "\u001b[1;32m~\\AppData\\Roaming\\Python\\Python35\\site-packages\\projectq\\cengines\\_optimize.py\u001b[0m in \u001b[0;36mreceive\u001b[1;34m(self, command_list)\u001b[0m\n\u001b[0;32m    237\u001b[0m                 \u001b[0mself\u001b[0m\u001b[1;33m.\u001b[0m\u001b[0msend\u001b[0m\u001b[1;33m(\u001b[0m\u001b[1;33m[\u001b[0m\u001b[0mcmd\u001b[0m\u001b[1;33m]\u001b[0m\u001b[1;33m)\u001b[0m\u001b[1;33m\u001b[0m\u001b[0m\n\u001b[0;32m    238\u001b[0m             \u001b[1;32melse\u001b[0m\u001b[1;33m:\u001b[0m\u001b[1;33m\u001b[0m\u001b[0m\n\u001b[1;32m--> 239\u001b[1;33m                 \u001b[0mself\u001b[0m\u001b[1;33m.\u001b[0m\u001b[0m_cache_cmd\u001b[0m\u001b[1;33m(\u001b[0m\u001b[0mcmd\u001b[0m\u001b[1;33m)\u001b[0m\u001b[1;33m\u001b[0m\u001b[0m\n\u001b[0m",
      "\u001b[1;32m~\\AppData\\Roaming\\Python\\Python35\\site-packages\\projectq\\cengines\\_optimize.py\u001b[0m in \u001b[0;36m_cache_cmd\u001b[1;34m(self, cmd)\u001b[0m\n\u001b[0;32m    223\u001b[0m             \u001b[0mself\u001b[0m\u001b[1;33m.\u001b[0m\u001b[0m_l\u001b[0m\u001b[1;33m[\u001b[0m\u001b[0mID\u001b[0m\u001b[1;33m]\u001b[0m \u001b[1;33m+=\u001b[0m \u001b[1;33m[\u001b[0m\u001b[0mcmd\u001b[0m\u001b[1;33m]\u001b[0m\u001b[1;33m\u001b[0m\u001b[0m\n\u001b[0;32m    224\u001b[0m \u001b[1;33m\u001b[0m\u001b[0m\n\u001b[1;32m--> 225\u001b[1;33m         \u001b[0mself\u001b[0m\u001b[1;33m.\u001b[0m\u001b[0m_check_and_send\u001b[0m\u001b[1;33m(\u001b[0m\u001b[1;33m)\u001b[0m\u001b[1;33m\u001b[0m\u001b[0m\n\u001b[0m\u001b[0;32m    226\u001b[0m \u001b[1;33m\u001b[0m\u001b[0m\n\u001b[0;32m    227\u001b[0m     \u001b[1;32mdef\u001b[0m \u001b[0mreceive\u001b[0m\u001b[1;33m(\u001b[0m\u001b[0mself\u001b[0m\u001b[1;33m,\u001b[0m \u001b[0mcommand_list\u001b[0m\u001b[1;33m)\u001b[0m\u001b[1;33m:\u001b[0m\u001b[1;33m\u001b[0m\u001b[0m\n",
      "\u001b[1;32m~\\AppData\\Roaming\\Python\\Python35\\site-packages\\projectq\\cengines\\_optimize.py\u001b[0m in \u001b[0;36m_check_and_send\u001b[1;34m(self)\u001b[0m\n\u001b[0;32m    201\u001b[0m                 elif (len(self._l[i]) > 0 and\n\u001b[0;32m    202\u001b[0m                       isinstance(self._l[i][-1].gate, FastForwardingGate)):\n\u001b[1;32m--> 203\u001b[1;33m                     \u001b[0mself\u001b[0m\u001b[1;33m.\u001b[0m\u001b[0m_send_qubit_pipeline\u001b[0m\u001b[1;33m(\u001b[0m\u001b[0mi\u001b[0m\u001b[1;33m,\u001b[0m \u001b[0mlen\u001b[0m\u001b[1;33m(\u001b[0m\u001b[0mself\u001b[0m\u001b[1;33m.\u001b[0m\u001b[0m_l\u001b[0m\u001b[1;33m[\u001b[0m\u001b[0mi\u001b[0m\u001b[1;33m]\u001b[0m\u001b[1;33m)\u001b[0m\u001b[1;33m)\u001b[0m\u001b[1;33m\u001b[0m\u001b[0m\n\u001b[0m\u001b[0;32m    204\u001b[0m \u001b[1;33m\u001b[0m\u001b[0m\n\u001b[0;32m    205\u001b[0m     \u001b[1;32mdef\u001b[0m \u001b[0m_cache_cmd\u001b[0m\u001b[1;33m(\u001b[0m\u001b[0mself\u001b[0m\u001b[1;33m,\u001b[0m \u001b[0mcmd\u001b[0m\u001b[1;33m)\u001b[0m\u001b[1;33m:\u001b[0m\u001b[1;33m\u001b[0m\u001b[0m\n",
      "\u001b[1;32m~\\AppData\\Roaming\\Python\\Python35\\site-packages\\projectq\\cengines\\_optimize.py\u001b[0m in \u001b[0;36m_send_qubit_pipeline\u001b[1;34m(self, idx, n)\u001b[0m\n\u001b[0;32m     80\u001b[0m             \u001b[1;31m# all qubits that need to be flushed have been flushed\u001b[0m\u001b[1;33m\u001b[0m\u001b[1;33m\u001b[0m\u001b[0m\n\u001b[0;32m     81\u001b[0m             \u001b[1;31m# --> send on the n-qubit gate\u001b[0m\u001b[1;33m\u001b[0m\u001b[1;33m\u001b[0m\u001b[0m\n\u001b[1;32m---> 82\u001b[1;33m             \u001b[0mself\u001b[0m\u001b[1;33m.\u001b[0m\u001b[0msend\u001b[0m\u001b[1;33m(\u001b[0m\u001b[1;33m[\u001b[0m\u001b[0mil\u001b[0m\u001b[1;33m[\u001b[0m\u001b[0mi\u001b[0m\u001b[1;33m]\u001b[0m\u001b[1;33m]\u001b[0m\u001b[1;33m)\u001b[0m\u001b[1;33m\u001b[0m\u001b[0m\n\u001b[0m\u001b[0;32m     83\u001b[0m         \u001b[1;31m# n operations have been sent on --> resize our gate list\u001b[0m\u001b[1;33m\u001b[0m\u001b[1;33m\u001b[0m\u001b[0m\n\u001b[0;32m     84\u001b[0m         \u001b[0mself\u001b[0m\u001b[1;33m.\u001b[0m\u001b[0m_l\u001b[0m\u001b[1;33m[\u001b[0m\u001b[0midx\u001b[0m\u001b[1;33m]\u001b[0m \u001b[1;33m=\u001b[0m \u001b[0mself\u001b[0m\u001b[1;33m.\u001b[0m\u001b[0m_l\u001b[0m\u001b[1;33m[\u001b[0m\u001b[0midx\u001b[0m\u001b[1;33m]\u001b[0m\u001b[1;33m[\u001b[0m\u001b[0mn\u001b[0m\u001b[1;33m:\u001b[0m\u001b[1;33m]\u001b[0m\u001b[1;33m\u001b[0m\u001b[0m\n",
      "\u001b[1;32m~\\AppData\\Roaming\\Python\\Python35\\site-packages\\projectq\\cengines\\_basics.py\u001b[0m in \u001b[0;36msend\u001b[1;34m(self, command_list)\u001b[0m\n\u001b[0;32m    184\u001b[0m         \u001b[0mForward\u001b[0m \u001b[0mthe\u001b[0m \u001b[0mlist\u001b[0m \u001b[0mof\u001b[0m \u001b[0mcommands\u001b[0m \u001b[0mto\u001b[0m \u001b[0mthe\u001b[0m \u001b[0mnext\u001b[0m \u001b[0mengine\u001b[0m \u001b[1;32min\u001b[0m \u001b[0mthe\u001b[0m \u001b[0mpipeline\u001b[0m\u001b[1;33m.\u001b[0m\u001b[1;33m\u001b[0m\u001b[0m\n\u001b[0;32m    185\u001b[0m         \"\"\"\n\u001b[1;32m--> 186\u001b[1;33m         \u001b[0mself\u001b[0m\u001b[1;33m.\u001b[0m\u001b[0mnext_engine\u001b[0m\u001b[1;33m.\u001b[0m\u001b[0mreceive\u001b[0m\u001b[1;33m(\u001b[0m\u001b[0mcommand_list\u001b[0m\u001b[1;33m)\u001b[0m\u001b[1;33m\u001b[0m\u001b[0m\n\u001b[0m\u001b[0;32m    187\u001b[0m \u001b[1;33m\u001b[0m\u001b[0m\n\u001b[0;32m    188\u001b[0m \u001b[1;33m\u001b[0m\u001b[0m\n",
      "\u001b[1;32m~\\AppData\\Roaming\\Python\\Python35\\site-packages\\projectq\\cengines\\_replacer\\_replacer.py\u001b[0m in \u001b[0;36mreceive\u001b[1;34m(self, command_list)\u001b[0m\n\u001b[0;32m    212\u001b[0m         \u001b[1;32mfor\u001b[0m \u001b[0mcmd\u001b[0m \u001b[1;32min\u001b[0m \u001b[0mcommand_list\u001b[0m\u001b[1;33m:\u001b[0m\u001b[1;33m\u001b[0m\u001b[0m\n\u001b[0;32m    213\u001b[0m             \u001b[1;32mif\u001b[0m \u001b[1;32mnot\u001b[0m \u001b[0misinstance\u001b[0m\u001b[1;33m(\u001b[0m\u001b[0mcmd\u001b[0m\u001b[1;33m.\u001b[0m\u001b[0mgate\u001b[0m\u001b[1;33m,\u001b[0m \u001b[0mFlushGate\u001b[0m\u001b[1;33m)\u001b[0m\u001b[1;33m:\u001b[0m\u001b[1;33m\u001b[0m\u001b[0m\n\u001b[1;32m--> 214\u001b[1;33m                 \u001b[0mself\u001b[0m\u001b[1;33m.\u001b[0m\u001b[0m_process_command\u001b[0m\u001b[1;33m(\u001b[0m\u001b[0mcmd\u001b[0m\u001b[1;33m)\u001b[0m\u001b[1;33m\u001b[0m\u001b[0m\n\u001b[0m\u001b[0;32m    215\u001b[0m             \u001b[1;32melse\u001b[0m\u001b[1;33m:\u001b[0m\u001b[1;33m\u001b[0m\u001b[0m\n\u001b[0;32m    216\u001b[0m                 \u001b[0mself\u001b[0m\u001b[1;33m.\u001b[0m\u001b[0msend\u001b[0m\u001b[1;33m(\u001b[0m\u001b[1;33m[\u001b[0m\u001b[0mcmd\u001b[0m\u001b[1;33m]\u001b[0m\u001b[1;33m)\u001b[0m\u001b[1;33m\u001b[0m\u001b[0m\n",
      "\u001b[1;32m~\\AppData\\Roaming\\Python\\Python35\\site-packages\\projectq\\cengines\\_replacer\\_replacer.py\u001b[0m in \u001b[0;36m_process_command\u001b[1;34m(self, cmd)\u001b[0m\n\u001b[0;32m    124\u001b[0m         \"\"\"\n\u001b[0;32m    125\u001b[0m         \u001b[1;32mif\u001b[0m \u001b[0mself\u001b[0m\u001b[1;33m.\u001b[0m\u001b[0mis_available\u001b[0m\u001b[1;33m(\u001b[0m\u001b[0mcmd\u001b[0m\u001b[1;33m)\u001b[0m\u001b[1;33m:\u001b[0m\u001b[1;33m\u001b[0m\u001b[0m\n\u001b[1;32m--> 126\u001b[1;33m             \u001b[0mself\u001b[0m\u001b[1;33m.\u001b[0m\u001b[0msend\u001b[0m\u001b[1;33m(\u001b[0m\u001b[1;33m[\u001b[0m\u001b[0mcmd\u001b[0m\u001b[1;33m]\u001b[0m\u001b[1;33m)\u001b[0m\u001b[1;33m\u001b[0m\u001b[0m\n\u001b[0m\u001b[0;32m    127\u001b[0m         \u001b[1;32melse\u001b[0m\u001b[1;33m:\u001b[0m\u001b[1;33m\u001b[0m\u001b[0m\n\u001b[0;32m    128\u001b[0m             \u001b[1;31m# check for decomposition rules\u001b[0m\u001b[1;33m\u001b[0m\u001b[1;33m\u001b[0m\u001b[0m\n",
      "\u001b[1;32m~\\AppData\\Roaming\\Python\\Python35\\site-packages\\projectq\\cengines\\_basics.py\u001b[0m in \u001b[0;36msend\u001b[1;34m(self, command_list)\u001b[0m\n\u001b[0;32m    184\u001b[0m         \u001b[0mForward\u001b[0m \u001b[0mthe\u001b[0m \u001b[0mlist\u001b[0m \u001b[0mof\u001b[0m \u001b[0mcommands\u001b[0m \u001b[0mto\u001b[0m \u001b[0mthe\u001b[0m \u001b[0mnext\u001b[0m \u001b[0mengine\u001b[0m \u001b[1;32min\u001b[0m \u001b[0mthe\u001b[0m \u001b[0mpipeline\u001b[0m\u001b[1;33m.\u001b[0m\u001b[1;33m\u001b[0m\u001b[0m\n\u001b[0;32m    185\u001b[0m         \"\"\"\n\u001b[1;32m--> 186\u001b[1;33m         \u001b[0mself\u001b[0m\u001b[1;33m.\u001b[0m\u001b[0mnext_engine\u001b[0m\u001b[1;33m.\u001b[0m\u001b[0mreceive\u001b[0m\u001b[1;33m(\u001b[0m\u001b[0mcommand_list\u001b[0m\u001b[1;33m)\u001b[0m\u001b[1;33m\u001b[0m\u001b[0m\n\u001b[0m\u001b[0;32m    187\u001b[0m \u001b[1;33m\u001b[0m\u001b[0m\n\u001b[0;32m    188\u001b[0m \u001b[1;33m\u001b[0m\u001b[0m\n",
      "\u001b[1;32m~\\AppData\\Roaming\\Python\\Python35\\site-packages\\projectq\\cengines\\_tagremover.py\u001b[0m in \u001b[0;36mreceive\u001b[1;34m(self, command_list)\u001b[0m\n\u001b[0;32m     56\u001b[0m             \u001b[1;32mfor\u001b[0m \u001b[0mtag\u001b[0m \u001b[1;32min\u001b[0m \u001b[0mself\u001b[0m\u001b[1;33m.\u001b[0m\u001b[0m_tags\u001b[0m\u001b[1;33m:\u001b[0m\u001b[1;33m\u001b[0m\u001b[0m\n\u001b[0;32m     57\u001b[0m                 \u001b[0mcmd\u001b[0m\u001b[1;33m.\u001b[0m\u001b[0mtags\u001b[0m \u001b[1;33m=\u001b[0m \u001b[1;33m[\u001b[0m\u001b[0mt\u001b[0m \u001b[1;32mfor\u001b[0m \u001b[0mt\u001b[0m \u001b[1;32min\u001b[0m \u001b[0mcmd\u001b[0m\u001b[1;33m.\u001b[0m\u001b[0mtags\u001b[0m \u001b[1;32mif\u001b[0m \u001b[1;32mnot\u001b[0m \u001b[0misinstance\u001b[0m\u001b[1;33m(\u001b[0m\u001b[0mt\u001b[0m\u001b[1;33m,\u001b[0m \u001b[0mtag\u001b[0m\u001b[1;33m)\u001b[0m\u001b[1;33m]\u001b[0m\u001b[1;33m\u001b[0m\u001b[0m\n\u001b[1;32m---> 58\u001b[1;33m             \u001b[0mself\u001b[0m\u001b[1;33m.\u001b[0m\u001b[0msend\u001b[0m\u001b[1;33m(\u001b[0m\u001b[1;33m[\u001b[0m\u001b[0mcmd\u001b[0m\u001b[1;33m]\u001b[0m\u001b[1;33m)\u001b[0m\u001b[1;33m\u001b[0m\u001b[0m\n\u001b[0m",
      "\u001b[1;32m~\\AppData\\Roaming\\Python\\Python35\\site-packages\\projectq\\cengines\\_basics.py\u001b[0m in \u001b[0;36msend\u001b[1;34m(self, command_list)\u001b[0m\n\u001b[0;32m    184\u001b[0m         \u001b[0mForward\u001b[0m \u001b[0mthe\u001b[0m \u001b[0mlist\u001b[0m \u001b[0mof\u001b[0m \u001b[0mcommands\u001b[0m \u001b[0mto\u001b[0m \u001b[0mthe\u001b[0m \u001b[0mnext\u001b[0m \u001b[0mengine\u001b[0m \u001b[1;32min\u001b[0m \u001b[0mthe\u001b[0m \u001b[0mpipeline\u001b[0m\u001b[1;33m.\u001b[0m\u001b[1;33m\u001b[0m\u001b[0m\n\u001b[0;32m    185\u001b[0m         \"\"\"\n\u001b[1;32m--> 186\u001b[1;33m         \u001b[0mself\u001b[0m\u001b[1;33m.\u001b[0m\u001b[0mnext_engine\u001b[0m\u001b[1;33m.\u001b[0m\u001b[0mreceive\u001b[0m\u001b[1;33m(\u001b[0m\u001b[0mcommand_list\u001b[0m\u001b[1;33m)\u001b[0m\u001b[1;33m\u001b[0m\u001b[0m\n\u001b[0m\u001b[0;32m    187\u001b[0m \u001b[1;33m\u001b[0m\u001b[0m\n\u001b[0;32m    188\u001b[0m \u001b[1;33m\u001b[0m\u001b[0m\n",
      "\u001b[1;32m~\\AppData\\Roaming\\Python\\Python35\\site-packages\\projectq\\cengines\\_optimize.py\u001b[0m in \u001b[0;36mreceive\u001b[1;34m(self, command_list)\u001b[0m\n\u001b[0;32m    237\u001b[0m                 \u001b[0mself\u001b[0m\u001b[1;33m.\u001b[0m\u001b[0msend\u001b[0m\u001b[1;33m(\u001b[0m\u001b[1;33m[\u001b[0m\u001b[0mcmd\u001b[0m\u001b[1;33m]\u001b[0m\u001b[1;33m)\u001b[0m\u001b[1;33m\u001b[0m\u001b[0m\n\u001b[0;32m    238\u001b[0m             \u001b[1;32melse\u001b[0m\u001b[1;33m:\u001b[0m\u001b[1;33m\u001b[0m\u001b[0m\n\u001b[1;32m--> 239\u001b[1;33m                 \u001b[0mself\u001b[0m\u001b[1;33m.\u001b[0m\u001b[0m_cache_cmd\u001b[0m\u001b[1;33m(\u001b[0m\u001b[0mcmd\u001b[0m\u001b[1;33m)\u001b[0m\u001b[1;33m\u001b[0m\u001b[0m\n\u001b[0m",
      "\u001b[1;32m~\\AppData\\Roaming\\Python\\Python35\\site-packages\\projectq\\cengines\\_optimize.py\u001b[0m in \u001b[0;36m_cache_cmd\u001b[1;34m(self, cmd)\u001b[0m\n\u001b[0;32m    223\u001b[0m             \u001b[0mself\u001b[0m\u001b[1;33m.\u001b[0m\u001b[0m_l\u001b[0m\u001b[1;33m[\u001b[0m\u001b[0mID\u001b[0m\u001b[1;33m]\u001b[0m \u001b[1;33m+=\u001b[0m \u001b[1;33m[\u001b[0m\u001b[0mcmd\u001b[0m\u001b[1;33m]\u001b[0m\u001b[1;33m\u001b[0m\u001b[0m\n\u001b[0;32m    224\u001b[0m \u001b[1;33m\u001b[0m\u001b[0m\n\u001b[1;32m--> 225\u001b[1;33m         \u001b[0mself\u001b[0m\u001b[1;33m.\u001b[0m\u001b[0m_check_and_send\u001b[0m\u001b[1;33m(\u001b[0m\u001b[1;33m)\u001b[0m\u001b[1;33m\u001b[0m\u001b[0m\n\u001b[0m\u001b[0;32m    226\u001b[0m \u001b[1;33m\u001b[0m\u001b[0m\n\u001b[0;32m    227\u001b[0m     \u001b[1;32mdef\u001b[0m \u001b[0mreceive\u001b[0m\u001b[1;33m(\u001b[0m\u001b[0mself\u001b[0m\u001b[1;33m,\u001b[0m \u001b[0mcommand_list\u001b[0m\u001b[1;33m)\u001b[0m\u001b[1;33m:\u001b[0m\u001b[1;33m\u001b[0m\u001b[0m\n",
      "\u001b[1;32m~\\AppData\\Roaming\\Python\\Python35\\site-packages\\projectq\\cengines\\_optimize.py\u001b[0m in \u001b[0;36m_check_and_send\u001b[1;34m(self)\u001b[0m\n\u001b[0;32m    201\u001b[0m                 elif (len(self._l[i]) > 0 and\n\u001b[0;32m    202\u001b[0m                       isinstance(self._l[i][-1].gate, FastForwardingGate)):\n\u001b[1;32m--> 203\u001b[1;33m                     \u001b[0mself\u001b[0m\u001b[1;33m.\u001b[0m\u001b[0m_send_qubit_pipeline\u001b[0m\u001b[1;33m(\u001b[0m\u001b[0mi\u001b[0m\u001b[1;33m,\u001b[0m \u001b[0mlen\u001b[0m\u001b[1;33m(\u001b[0m\u001b[0mself\u001b[0m\u001b[1;33m.\u001b[0m\u001b[0m_l\u001b[0m\u001b[1;33m[\u001b[0m\u001b[0mi\u001b[0m\u001b[1;33m]\u001b[0m\u001b[1;33m)\u001b[0m\u001b[1;33m)\u001b[0m\u001b[1;33m\u001b[0m\u001b[0m\n\u001b[0m\u001b[0;32m    204\u001b[0m \u001b[1;33m\u001b[0m\u001b[0m\n\u001b[0;32m    205\u001b[0m     \u001b[1;32mdef\u001b[0m \u001b[0m_cache_cmd\u001b[0m\u001b[1;33m(\u001b[0m\u001b[0mself\u001b[0m\u001b[1;33m,\u001b[0m \u001b[0mcmd\u001b[0m\u001b[1;33m)\u001b[0m\u001b[1;33m:\u001b[0m\u001b[1;33m\u001b[0m\u001b[0m\n",
      "\u001b[1;32m~\\AppData\\Roaming\\Python\\Python35\\site-packages\\projectq\\cengines\\_optimize.py\u001b[0m in \u001b[0;36m_send_qubit_pipeline\u001b[1;34m(self, idx, n)\u001b[0m\n\u001b[0;32m     70\u001b[0m \u001b[1;33m\u001b[0m\u001b[0m\n\u001b[0;32m     71\u001b[0m                     \u001b[1;31m# flush the gates before the n-qubit gate\u001b[0m\u001b[1;33m\u001b[0m\u001b[1;33m\u001b[0m\u001b[0m\n\u001b[1;32m---> 72\u001b[1;33m                     \u001b[0mself\u001b[0m\u001b[1;33m.\u001b[0m\u001b[0m_send_qubit_pipeline\u001b[0m\u001b[1;33m(\u001b[0m\u001b[0mId\u001b[0m\u001b[1;33m,\u001b[0m \u001b[0mgateloc\u001b[0m\u001b[1;33m)\u001b[0m\u001b[1;33m\u001b[0m\u001b[0m\n\u001b[0m\u001b[0;32m     73\u001b[0m                     \u001b[1;31m# delete the n-qubit gate, we're taking care of it\u001b[0m\u001b[1;33m\u001b[0m\u001b[1;33m\u001b[0m\u001b[0m\n\u001b[0;32m     74\u001b[0m                     \u001b[1;31m# and don't want the other qubit to do so\u001b[0m\u001b[1;33m\u001b[0m\u001b[1;33m\u001b[0m\u001b[0m\n",
      "\u001b[1;32m~\\AppData\\Roaming\\Python\\Python35\\site-packages\\projectq\\cengines\\_optimize.py\u001b[0m in \u001b[0;36m_send_qubit_pipeline\u001b[1;34m(self, idx, n)\u001b[0m\n\u001b[0;32m     80\u001b[0m             \u001b[1;31m# all qubits that need to be flushed have been flushed\u001b[0m\u001b[1;33m\u001b[0m\u001b[1;33m\u001b[0m\u001b[0m\n\u001b[0;32m     81\u001b[0m             \u001b[1;31m# --> send on the n-qubit gate\u001b[0m\u001b[1;33m\u001b[0m\u001b[1;33m\u001b[0m\u001b[0m\n\u001b[1;32m---> 82\u001b[1;33m             \u001b[0mself\u001b[0m\u001b[1;33m.\u001b[0m\u001b[0msend\u001b[0m\u001b[1;33m(\u001b[0m\u001b[1;33m[\u001b[0m\u001b[0mil\u001b[0m\u001b[1;33m[\u001b[0m\u001b[0mi\u001b[0m\u001b[1;33m]\u001b[0m\u001b[1;33m]\u001b[0m\u001b[1;33m)\u001b[0m\u001b[1;33m\u001b[0m\u001b[0m\n\u001b[0m\u001b[0;32m     83\u001b[0m         \u001b[1;31m# n operations have been sent on --> resize our gate list\u001b[0m\u001b[1;33m\u001b[0m\u001b[1;33m\u001b[0m\u001b[0m\n\u001b[0;32m     84\u001b[0m         \u001b[0mself\u001b[0m\u001b[1;33m.\u001b[0m\u001b[0m_l\u001b[0m\u001b[1;33m[\u001b[0m\u001b[0midx\u001b[0m\u001b[1;33m]\u001b[0m \u001b[1;33m=\u001b[0m \u001b[0mself\u001b[0m\u001b[1;33m.\u001b[0m\u001b[0m_l\u001b[0m\u001b[1;33m[\u001b[0m\u001b[0midx\u001b[0m\u001b[1;33m]\u001b[0m\u001b[1;33m[\u001b[0m\u001b[0mn\u001b[0m\u001b[1;33m:\u001b[0m\u001b[1;33m]\u001b[0m\u001b[1;33m\u001b[0m\u001b[0m\n",
      "\u001b[1;32m~\\AppData\\Roaming\\Python\\Python35\\site-packages\\projectq\\cengines\\_basics.py\u001b[0m in \u001b[0;36msend\u001b[1;34m(self, command_list)\u001b[0m\n\u001b[0;32m    184\u001b[0m         \u001b[0mForward\u001b[0m \u001b[0mthe\u001b[0m \u001b[0mlist\u001b[0m \u001b[0mof\u001b[0m \u001b[0mcommands\u001b[0m \u001b[0mto\u001b[0m \u001b[0mthe\u001b[0m \u001b[0mnext\u001b[0m \u001b[0mengine\u001b[0m \u001b[1;32min\u001b[0m \u001b[0mthe\u001b[0m \u001b[0mpipeline\u001b[0m\u001b[1;33m.\u001b[0m\u001b[1;33m\u001b[0m\u001b[0m\n\u001b[0;32m    185\u001b[0m         \"\"\"\n\u001b[1;32m--> 186\u001b[1;33m         \u001b[0mself\u001b[0m\u001b[1;33m.\u001b[0m\u001b[0mnext_engine\u001b[0m\u001b[1;33m.\u001b[0m\u001b[0mreceive\u001b[0m\u001b[1;33m(\u001b[0m\u001b[0mcommand_list\u001b[0m\u001b[1;33m)\u001b[0m\u001b[1;33m\u001b[0m\u001b[0m\n\u001b[0m\u001b[0;32m    187\u001b[0m \u001b[1;33m\u001b[0m\u001b[0m\n\u001b[0;32m    188\u001b[0m \u001b[1;33m\u001b[0m\u001b[0m\n",
      "\u001b[1;32m~\\AppData\\Roaming\\Python\\Python35\\site-packages\\projectq\\backends\\_sim\\_simulator.py\u001b[0m in \u001b[0;36mreceive\u001b[1;34m(self, command_list)\u001b[0m\n\u001b[0;32m    359\u001b[0m         \u001b[1;32mfor\u001b[0m \u001b[0mcmd\u001b[0m \u001b[1;32min\u001b[0m \u001b[0mcommand_list\u001b[0m\u001b[1;33m:\u001b[0m\u001b[1;33m\u001b[0m\u001b[0m\n\u001b[0;32m    360\u001b[0m             \u001b[1;32mif\u001b[0m \u001b[1;32mnot\u001b[0m \u001b[0mcmd\u001b[0m\u001b[1;33m.\u001b[0m\u001b[0mgate\u001b[0m \u001b[1;33m==\u001b[0m \u001b[0mFlushGate\u001b[0m\u001b[1;33m(\u001b[0m\u001b[1;33m)\u001b[0m\u001b[1;33m:\u001b[0m\u001b[1;33m\u001b[0m\u001b[0m\n\u001b[1;32m--> 361\u001b[1;33m                 \u001b[0mself\u001b[0m\u001b[1;33m.\u001b[0m\u001b[0m_handle\u001b[0m\u001b[1;33m(\u001b[0m\u001b[0mcmd\u001b[0m\u001b[1;33m)\u001b[0m\u001b[1;33m\u001b[0m\u001b[0m\n\u001b[0m\u001b[0;32m    362\u001b[0m             \u001b[1;32melse\u001b[0m\u001b[1;33m:\u001b[0m\u001b[1;33m\u001b[0m\u001b[0m\n\u001b[0;32m    363\u001b[0m                 \u001b[0mself\u001b[0m\u001b[1;33m.\u001b[0m\u001b[0m_simulator\u001b[0m\u001b[1;33m.\u001b[0m\u001b[0mrun\u001b[0m\u001b[1;33m(\u001b[0m\u001b[1;33m)\u001b[0m  \u001b[1;31m# flush gate --> run all saved gates\u001b[0m\u001b[1;33m\u001b[0m\u001b[0m\n",
      "\u001b[1;32m~\\AppData\\Roaming\\Python\\Python35\\site-packages\\projectq\\backends\\_sim\\_simulator.py\u001b[0m in \u001b[0;36m_handle\u001b[1;34m(self, cmd)\u001b[0m\n\u001b[0;32m    305\u001b[0m                     \u001b[0mself\u001b[0m\u001b[1;33m.\u001b[0m\u001b[0mmain_engine\u001b[0m\u001b[1;33m.\u001b[0m\u001b[0mset_measurement_result\u001b[0m\u001b[1;33m(\u001b[0m\u001b[0mqb\u001b[0m\u001b[1;33m,\u001b[0m \u001b[0mout\u001b[0m\u001b[1;33m[\u001b[0m\u001b[0mi\u001b[0m\u001b[1;33m]\u001b[0m\u001b[1;33m)\u001b[0m\u001b[1;33m\u001b[0m\u001b[0m\n\u001b[0;32m    306\u001b[0m                     \u001b[0mi\u001b[0m \u001b[1;33m+=\u001b[0m \u001b[1;36m1\u001b[0m\u001b[1;33m\u001b[0m\u001b[0m\n\u001b[1;32m--> 307\u001b[1;33m         \u001b[1;32melif\u001b[0m \u001b[0mcmd\u001b[0m\u001b[1;33m.\u001b[0m\u001b[0mgate\u001b[0m \u001b[1;33m==\u001b[0m \u001b[0mAllocate\u001b[0m\u001b[1;33m:\u001b[0m\u001b[1;33m\u001b[0m\u001b[0m\n\u001b[0m\u001b[0;32m    308\u001b[0m             \u001b[0mID\u001b[0m \u001b[1;33m=\u001b[0m \u001b[0mcmd\u001b[0m\u001b[1;33m.\u001b[0m\u001b[0mqubits\u001b[0m\u001b[1;33m[\u001b[0m\u001b[1;36m0\u001b[0m\u001b[1;33m]\u001b[0m\u001b[1;33m[\u001b[0m\u001b[1;36m0\u001b[0m\u001b[1;33m]\u001b[0m\u001b[1;33m.\u001b[0m\u001b[0mid\u001b[0m\u001b[1;33m\u001b[0m\u001b[0m\n\u001b[0;32m    309\u001b[0m             \u001b[0mself\u001b[0m\u001b[1;33m.\u001b[0m\u001b[0m_simulator\u001b[0m\u001b[1;33m.\u001b[0m\u001b[0mallocate_qubit\u001b[0m\u001b[1;33m(\u001b[0m\u001b[0mID\u001b[0m\u001b[1;33m)\u001b[0m\u001b[1;33m\u001b[0m\u001b[0m\n",
      "\u001b[1;32m~\\AppData\\Roaming\\Python\\Python35\\site-packages\\projectq\\ops\\_basics.py\u001b[0m in \u001b[0;36m__eq__\u001b[1;34m(self, other)\u001b[0m\n\u001b[0;32m    202\u001b[0m     \u001b[1;32mdef\u001b[0m \u001b[0m__eq__\u001b[0m\u001b[1;33m(\u001b[0m\u001b[0mself\u001b[0m\u001b[1;33m,\u001b[0m \u001b[0mother\u001b[0m\u001b[1;33m)\u001b[0m\u001b[1;33m:\u001b[0m\u001b[1;33m\u001b[0m\u001b[0m\n\u001b[0;32m    203\u001b[0m         \u001b[1;34m\"\"\" Return True if equal (i.e., instance of same class). \"\"\"\u001b[0m\u001b[1;33m\u001b[0m\u001b[0m\n\u001b[1;32m--> 204\u001b[1;33m         \u001b[1;32mreturn\u001b[0m \u001b[0misinstance\u001b[0m\u001b[1;33m(\u001b[0m\u001b[0mother\u001b[0m\u001b[1;33m,\u001b[0m \u001b[0mself\u001b[0m\u001b[1;33m.\u001b[0m\u001b[0m__class__\u001b[0m\u001b[1;33m)\u001b[0m\u001b[1;33m\u001b[0m\u001b[0m\n\u001b[0m\u001b[0;32m    205\u001b[0m \u001b[1;33m\u001b[0m\u001b[0m\n\u001b[0;32m    206\u001b[0m     \u001b[1;32mdef\u001b[0m \u001b[0m__ne__\u001b[0m\u001b[1;33m(\u001b[0m\u001b[0mself\u001b[0m\u001b[1;33m,\u001b[0m \u001b[0mother\u001b[0m\u001b[1;33m)\u001b[0m\u001b[1;33m:\u001b[0m\u001b[1;33m\u001b[0m\u001b[0m\n",
      "\u001b[1;31mKeyboardInterrupt\u001b[0m: "
     ]
    }
   ],
   "source": [
    "params2=np.load('4MPS_hard_Yonly_good.npz')\n",
    "params2=params2['arr_0']\n",
    "shots=1024\n",
    "print(MPS(params2,iris_hard_train,shots,rounding=1))"
   ]
  },
  {
   "cell_type": "code",
   "execution_count": 69,
   "metadata": {},
   "outputs": [
    {
     "name": "stdout",
     "output_type": "stream",
     "text": [
      "\\documentclass{standalone}\n",
      "\\usepackage[margin=1in]{geometry}\n",
      "\\usepackage[hang,small,bf]{caption}\n",
      "\\usepackage{tikz}\n",
      "\\usepackage{braket}\n",
      "\\usetikzlibrary{backgrounds,shadows.blur,fit,decorations.pathreplacing,shapes}\n",
      "\n",
      "\\begin{document}\n",
      "\\begin{tikzpicture}[scale=0.8, transform shape]\n",
      "\n",
      "\\tikzstyle{basicshadow}=[blur shadow={shadow blur steps=8, shadow xshift=0.7pt, shadow yshift=-0.7pt, shadow scale=1.02}]\\tikzstyle{basic}=[draw,fill=white,basicshadow]\n",
      "\\tikzstyle{operator}=[basic,minimum size=1.5em]\n",
      "\\tikzstyle{phase}=[fill=black,shape=circle,minimum size=0.1cm,inner sep=0pt,outer sep=0pt,draw=black]\n",
      "\\tikzstyle{none}=[inner sep=0pt,outer sep=-.5pt,minimum height=0.5cm+1pt]\n",
      "\\tikzstyle{measure}=[operator,inner sep=0pt,minimum height=0.5cm, minimum width=0.75cm]\n",
      "\\tikzstyle{xstyle}=[circle,basic,minimum height=0.35cm,minimum width=0.35cm,inner sep=-1pt,very thin]\n",
      "\\tikzset{\n",
      "shadowed/.style={preaction={transform canvas={shift={(0.5pt,-0.5pt)}}, draw=gray, opacity=0.4}},\n",
      "}\n",
      "\\tikzstyle{swapstyle}=[inner sep=-1pt, outer sep=-1pt, minimum width=0pt]\n",
      "\\tikzstyle{edgestyle}=[very thin]\n",
      "\n",
      "\\node[none] (line0_gate0) at (0.1,-0) {$\\Ket{0}$};\n",
      "\\node[none] (line0_gate1) at (0.6000000000000001,-0) {};\n",
      "\\node[none,minimum height=0.8cm,outer sep=0] (line0_gate2) at (1.1,-0) {};\n",
      "\\node[none] (line0_gate3) at (1.6,-0) {};\n",
      "\\draw[operator,edgestyle,outer sep=1.0cm] ([yshift=0.4cm]line0_gate1) rectangle ([yshift=-0.4cm]line0_gate3) node[pos=.5] {Ry$_{3.0}$};\n",
      "\\draw (line0_gate0) edge[edgestyle] (line0_gate1);\n",
      "\\node[none] (line1_gate0) at (0.1,-1) {$\\Ket{0}$};\n",
      "\\node[none] (line1_gate1) at (0.6000000000000001,-1) {};\n",
      "\\node[none,minimum height=0.8cm,outer sep=0] (line1_gate2) at (1.1,-1) {};\n",
      "\\node[none] (line1_gate3) at (1.6,-1) {};\n",
      "\\draw[operator,edgestyle,outer sep=1.0cm] ([yshift=0.4cm]line1_gate1) rectangle ([yshift=-0.4cm]line1_gate3) node[pos=.5] {Ry$_{3.0}$};\n",
      "\\draw (line1_gate0) edge[edgestyle] (line1_gate1);\n",
      "\\node[xstyle] (line1_gate4) at (2.0,-1) {};\n",
      "\\draw[edgestyle] (line1_gate4.north)--(line1_gate4.south);\n",
      "\\draw[edgestyle] (line1_gate4.west)--(line1_gate4.east);\n",
      "\\node[phase] (line0_gate4) at (2.0,-0) {};\n",
      "\\draw (line0_gate4) edge[edgestyle] (line1_gate4);\n",
      "\\draw (line1_gate3) edge[edgestyle] (line1_gate4);\n",
      "\\draw (line0_gate3) edge[edgestyle] (line0_gate4);\n",
      "\\node[measure,edgestyle] (line0_gate5) at (2.6500000000000004,-0) {};\n",
      "\\draw[edgestyle] ([yshift=-0.18cm,xshift=0.07500000000000001cm]line0_gate5.west) to [out=60,in=180] ([yshift=0.035cm]line0_gate5.center) to [out=0, in=120] ([yshift=-0.18cm,xshift=-0.07500000000000001cm]line0_gate5.east);\n",
      "\\draw[edgestyle] ([yshift=-0.18cm]line0_gate5.center) to ([yshift=-0.07500000000000001cm,xshift=-0.18cm]line0_gate5.north east);\n",
      "\\draw (line0_gate4) edge[edgestyle] (line0_gate5);\n",
      "\\node[none] (line1_gate5) at (2.6500000000000004,-1) {};\n",
      "\\node[none,minimum height=0.8cm,outer sep=0] (line1_gate6) at (3.1500000000000004,-1) {};\n",
      "\\node[none] (line1_gate7) at (3.6500000000000004,-1) {};\n",
      "\\draw[operator,edgestyle,outer sep=1.0cm] ([yshift=0.4cm]line1_gate5) rectangle ([yshift=-0.4cm]line1_gate7) node[pos=.5] {Ry$_{1.909153805156}$};\n",
      "\\draw (line1_gate4) edge[edgestyle] (line1_gate5);\n",
      "\\node[none] (line2_gate0) at (0.1,-2) {$\\Ket{0}$};\n",
      "\\node[none] (line2_gate1) at (0.6000000000000001,-2) {};\n",
      "\\node[none,minimum height=0.8cm,outer sep=0] (line2_gate2) at (1.1,-2) {};\n",
      "\\node[none] (line2_gate3) at (1.6,-2) {};\n",
      "\\draw[operator,edgestyle,outer sep=1.0cm] ([yshift=0.4cm]line2_gate1) rectangle ([yshift=-0.4cm]line2_gate3) node[pos=.5] {Ry$_{3.0}$};\n",
      "\\draw (line2_gate0) edge[edgestyle] (line2_gate1);\n",
      "\\node[xstyle] (line2_gate4) at (4.05,-2) {};\n",
      "\\draw[edgestyle] (line2_gate4.north)--(line2_gate4.south);\n",
      "\\draw[edgestyle] (line2_gate4.west)--(line2_gate4.east);\n",
      "\\node[phase] (line1_gate8) at (4.05,-1) {};\n",
      "\\draw (line1_gate8) edge[edgestyle] (line2_gate4);\n",
      "\\draw (line2_gate3) edge[edgestyle] (line2_gate4);\n",
      "\\draw (line1_gate7) edge[edgestyle] (line1_gate8);\n",
      "\\node[measure,edgestyle] (line1_gate9) at (4.699999999999999,-1) {};\n",
      "\\draw[edgestyle] ([yshift=-0.18cm,xshift=0.07500000000000001cm]line1_gate9.west) to [out=60,in=180] ([yshift=0.035cm]line1_gate9.center) to [out=0, in=120] ([yshift=-0.18cm,xshift=-0.07500000000000001cm]line1_gate9.east);\n",
      "\\draw[edgestyle] ([yshift=-0.18cm]line1_gate9.center) to ([yshift=-0.07500000000000001cm,xshift=-0.18cm]line1_gate9.north east);\n",
      "\\draw (line1_gate8) edge[edgestyle] (line1_gate9);\n",
      "\\node[none] (line2_gate5) at (4.699999999999999,-2) {};\n",
      "\\node[none,minimum height=0.8cm,outer sep=0] (line2_gate6) at (5.199999999999999,-2) {};\n",
      "\\node[none] (line2_gate7) at (5.699999999999999,-2) {};\n",
      "\\draw[operator,edgestyle,outer sep=1.0cm] ([yshift=0.4cm]line2_gate5) rectangle ([yshift=-0.4cm]line2_gate7) node[pos=.5] {Ry$_{9.739339984495}$};\n",
      "\\draw (line2_gate4) edge[edgestyle] (line2_gate5);\n",
      "\\node[none] (line3_gate0) at (0.1,-3) {$\\Ket{0}$};\n",
      "\\node[none] (line3_gate1) at (0.6000000000000001,-3) {};\n",
      "\\node[none,minimum height=0.8cm,outer sep=0] (line3_gate2) at (1.1,-3) {};\n",
      "\\node[none] (line3_gate3) at (1.6,-3) {};\n",
      "\\draw[operator,edgestyle,outer sep=1.0cm] ([yshift=0.4cm]line3_gate1) rectangle ([yshift=-0.4cm]line3_gate3) node[pos=.5] {Ry$_{3.0}$};\n",
      "\\draw (line3_gate0) edge[edgestyle] (line3_gate1);\n",
      "\\node[xstyle] (line3_gate4) at (6.099999999999999,-3) {};\n",
      "\\draw[edgestyle] (line3_gate4.north)--(line3_gate4.south);\n",
      "\\draw[edgestyle] (line3_gate4.west)--(line3_gate4.east);\n",
      "\\node[phase] (line2_gate8) at (6.099999999999999,-2) {};\n",
      "\\draw (line2_gate8) edge[edgestyle] (line3_gate4);\n",
      "\\draw (line3_gate3) edge[edgestyle] (line3_gate4);\n",
      "\\draw (line2_gate7) edge[edgestyle] (line2_gate8);\n",
      "\\node[measure,edgestyle] (line2_gate9) at (6.749999999999998,-2) {};\n",
      "\\draw[edgestyle] ([yshift=-0.18cm,xshift=0.07500000000000001cm]line2_gate9.west) to [out=60,in=180] ([yshift=0.035cm]line2_gate9.center) to [out=0, in=120] ([yshift=-0.18cm,xshift=-0.07500000000000001cm]line2_gate9.east);\n",
      "\\draw[edgestyle] ([yshift=-0.18cm]line2_gate9.center) to ([yshift=-0.07500000000000001cm,xshift=-0.18cm]line2_gate9.north east);\n",
      "\\draw (line2_gate8) edge[edgestyle] (line2_gate9);\n",
      "\\node[none] (line3_gate5) at (6.749999999999998,-3) {};\n",
      "\\node[none,minimum height=0.8cm,outer sep=0] (line3_gate6) at (7.249999999999998,-3) {};\n",
      "\\node[none] (line3_gate7) at (7.749999999999998,-3) {};\n",
      "\\draw[operator,edgestyle,outer sep=1.0cm] ([yshift=0.4cm]line3_gate5) rectangle ([yshift=-0.4cm]line3_gate7) node[pos=.5] {Ry$_{0.87961758202}$};\n",
      "\\draw (line3_gate4) edge[edgestyle] (line3_gate5);\n",
      "\\node[measure,edgestyle] (line3_gate8) at (8.249999999999996,-3) {};\n",
      "\\draw[edgestyle] ([yshift=-0.18cm,xshift=0.07500000000000001cm]line3_gate8.west) to [out=60,in=180] ([yshift=0.035cm]line3_gate8.center) to [out=0, in=120] ([yshift=-0.18cm,xshift=-0.07500000000000001cm]line3_gate8.east);\n",
      "\\draw[edgestyle] ([yshift=-0.18cm]line3_gate8.center) to ([yshift=-0.07500000000000001cm,xshift=-0.18cm]line3_gate8.north east);\n",
      "\\draw (line3_gate7) edge[edgestyle] (line3_gate8);\n",
      "\n",
      "\\end{tikzpicture}\n",
      "\\end{document}\n"
     ]
    }
   ],
   "source": [
    "from projectq.backends import CircuitDrawer\n",
    "drawing_engine = CircuitDrawer()\n",
    "eng = MainEngine(drawing_engine)  # create a default compiler (the back-end is a simulator)\n",
    "\n",
    "q1 = eng.allocate_qubit()  # allocate 1 qubit\n",
    "q2 = eng.allocate_qubit()\n",
    "q3 = eng.allocate_qubit()\n",
    "q4 = eng.allocate_qubit()\n",
    "\n",
    "Ry(2) | q1  \n",
    "Ry(2) | q2  \n",
    "Ry(2) | q3  \n",
    "Ry(2) | q4\n",
    "\n",
    "Ry(1) | q1  \n",
    "Ry(1) | q2  \n",
    "Ry(1) | q3  \n",
    "Ry(1) | q4  \n",
    "\n",
    "CNOT | (q1,q2)\n",
    "Ry(params[4]) | q2\n",
    "\n",
    "CNOT | (q2,q3)\n",
    "Ry(params[5]) | q3\n",
    "\n",
    "CNOT | (q3,q4)\n",
    "Ry(params[6]) | q4\n",
    "\n",
    "Measure | q4  # measure the qubit\n",
    "Measure | q1\n",
    "Measure | q2\n",
    "Measure | q3\n",
    "eng.flush()\n",
    "\n",
    "print(drawing_engine.get_latex())"
   ]
  },
  {
   "cell_type": "code",
   "execution_count": 35,
   "metadata": {},
   "outputs": [
    {
     "name": "stdout",
     "output_type": "stream",
     "text": [
      "[[1]\n",
      " [0]\n",
      " [1]\n",
      " [0]\n",
      " [0]\n",
      " [1]\n",
      " [0]\n",
      " [0]\n",
      " [1]\n",
      " [0]]\n",
      "[[False]\n",
      " [ True]\n",
      " [False]\n",
      " [ True]\n",
      " [ True]\n",
      " [False]\n",
      " [ True]\n",
      " [ True]\n",
      " [False]\n",
      " [ True]]\n",
      "[ 0.6]\n"
     ]
    }
   ],
   "source": [
    "x=np.random.randint(0,2,size=(10,1))\n",
    "print(x)\n",
    "idx=x==0\n",
    "print(idx)\n",
    "print(sum(idx)/len(x))"
   ]
  },
  {
   "cell_type": "code",
   "execution_count": 79,
   "metadata": {},
   "outputs": [
    {
     "name": "stdout",
     "output_type": "stream",
     "text": [
      "Measured 1\n",
      "Measured 0\n",
      "Measured 0\n",
      "Measured 0\n",
      "Measured 1\n",
      "Measured 0\n",
      "Measured 0\n",
      "Measured 0\n",
      "Measured 1\n",
      "Measured 1\n"
     ]
    }
   ],
   "source": [
    "from projectq import MainEngine  # import the main compiler engine\n",
    "from projectq.ops import H, Measure  # import the operations we want to perform (Hadamard and measurement)\n",
    "for k in range(10):\n",
    "    eng = MainEngine()  # create a default compiler (the back-end is a simulator)\n",
    "\n",
    "    qubit = eng.allocate_qubit()  # allocate 1 qubit\n",
    "    H | qubit  # apply a Hadamard gate\n",
    "    Measure | qubit  # measure the qubit  # flush all gates (and execute measurements)\n",
    "    print(\"Measured {}\".format(int(qubit)))  # output measurement result"
   ]
  },
  {
   "cell_type": "code",
   "execution_count": 3,
   "metadata": {
    "collapsed": true
   },
   "outputs": [],
   "source": [
    "def min_max_norm(data,new_min=-1*math.pi,new_max=math.pi):\n",
    "    for i in range(data.shape[1]):\n",
    "        old_min=min(data[:,i])\n",
    "        old_max=max(data[:,i])\n",
    "        data[:,i]=((data[:,i]-old_min)/(old_max-old_min)) *(new_max-new_min)+new_min\n",
    "    return data"
   ]
  },
  {
   "cell_type": "markdown",
   "metadata": {},
   "source": [
    "## Import Data"
   ]
  },
  {
   "cell_type": "code",
   "execution_count": 4,
   "metadata": {
    "collapsed": true
   },
   "outputs": [],
   "source": [
    "#import iris\n",
    "iris = pd.read_csv('Iris.csv', header=None)\n",
    "iris=np.array(iris)\n",
    "\n",
    "#numericalize \n",
    "iris[:,4][iris[:,4] == 'setosa']=1\n",
    "iris[:,4][iris[:,4] == 'versicolor']=2\n",
    "iris[:,4][iris[:,4] == 'virginica']=3"
   ]
  },
  {
   "cell_type": "code",
   "execution_count": 5,
   "metadata": {},
   "outputs": [
    {
     "data": {
      "text/plain": [
       "array([[0.34906585039886573, 0.9817477042468101, 0.1064946662233828,\n",
       "        0.06544984694978737],\n",
       "       [0.26179938779914963, 0.6544984694978735, 0.1064946662233828,\n",
       "        0.06544984694978737],\n",
       "       [0.17453292519943306, 0.7853981633974483, 0.07987099966753712,\n",
       "        0.06544984694978737],\n",
       "       [0.13089969389957462, 0.7199483164476609, 0.13311833277922852,\n",
       "        0.06544984694978737],\n",
       "       [0.3054326190990077, 1.0471975511965976, 0.1064946662233828,\n",
       "        0.06544984694978737],\n",
       "       [0.47996554429844074, 1.2435470920459595, 0.1863656658909199,\n",
       "        0.19634954084936213],\n",
       "       [0.13089969389957462, 0.9162978572970228, 0.1064946662233828,\n",
       "        0.1308996938995747],\n",
       "       [0.3054326190990077, 0.9162978572970228, 0.13311833277922852,\n",
       "        0.06544984694978737],\n",
       "       [0.043633231299858466, 0.589048622548086, 0.1064946662233828,\n",
       "        0.06544984694978737],\n",
       "       [0.26179938779914963, 0.7199483164476609, 0.13311833277922852, 0.0],\n",
       "       [0.47996554429844074, 1.112647398146385, 0.13311833277922852,\n",
       "        0.06544984694978737],\n",
       "       [0.21816615649929116, 0.9162978572970228, 0.15974199933507424,\n",
       "        0.06544984694978737],\n",
       "       [0.21816615649929116, 0.6544984694978735, 0.1064946662233828, 0.0],\n",
       "       [0.0, 0.6544984694978735, 0.026623666555845728, 0.0],\n",
       "       [0.6544984694978735, 1.308996938995747, 0.0532473331116914,\n",
       "        0.06544984694978737],\n",
       "       [0.6108652381980154, 1.5707963267948966, 0.13311833277922852,\n",
       "        0.19634954084936213],\n",
       "       [0.47996554429844074, 1.2435470920459595, 0.07987099966753712,\n",
       "        0.19634954084936213],\n",
       "       [0.34906585039886573, 0.9817477042468101, 0.1064946662233828,\n",
       "        0.1308996938995747],\n",
       "       [0.6108652381980154, 1.178097245096172, 0.1863656658909199,\n",
       "        0.1308996938995747],\n",
       "       [0.34906585039886573, 1.178097245096172, 0.13311833277922852,\n",
       "        0.1308996938995747],\n",
       "       [0.47996554429844074, 0.9162978572970228, 0.1863656658909199,\n",
       "        0.06544984694978737],\n",
       "       [0.34906585039886573, 1.112647398146385, 0.13311833277922852,\n",
       "        0.19634954084936213],\n",
       "       [0.13089969389957462, 1.0471975511965976, 0.0, 0.06544984694978737],\n",
       "       [0.34906585039886573, 0.8508480103472355, 0.1863656658909199,\n",
       "        0.26179938779914946],\n",
       "       [0.21816615649929116, 0.9162978572970228, 0.23961299900261132,\n",
       "        0.06544984694978737],\n",
       "       [0.3054326190990077, 0.6544984694978735, 0.15974199933507424,\n",
       "        0.06544984694978737],\n",
       "       [0.3054326190990077, 0.9162978572970228, 0.15974199933507424,\n",
       "        0.19634954084936213],\n",
       "       [0.39269908169872425, 0.9817477042468101, 0.13311833277922852,\n",
       "        0.06544984694978737],\n",
       "       [0.39269908169872425, 0.9162978572970228, 0.1064946662233828,\n",
       "        0.06544984694978737],\n",
       "       [0.17453292519943306, 0.7853981633974483, 0.15974199933507424,\n",
       "        0.06544984694978737],\n",
       "       [0.21816615649929116, 0.7199483164476609, 0.15974199933507424,\n",
       "        0.06544984694978737],\n",
       "       [0.47996554429844074, 0.9162978572970228, 0.13311833277922852,\n",
       "        0.19634954084936213],\n",
       "       [1.1780972450961722, 0.7853981633974483, 0.9850756625662911,\n",
       "        0.8508480103472356],\n",
       "       [0.9162978572970231, 0.7853981633974483, 0.9318283294545996,\n",
       "        0.9162978572970231],\n",
       "       [1.1344640137963142, 0.7199483164476609, 1.0383229956779825,\n",
       "        0.9162978572970231],\n",
       "       [0.5235987755982988, 0.19634954084936193, 0.7987099966753711,\n",
       "        0.7853981633974483],\n",
       "       [0.9599310885968811, 0.5235987755982987, 0.9584519960104453,\n",
       "        0.9162978572970231],\n",
       "       [0.6108652381980154, 0.5235987755982987, 0.9318283294545996,\n",
       "        0.7853981633974483],\n",
       "       [0.8726646259971647, 0.8508480103472355, 0.9850756625662911,\n",
       "        0.9817477042468103],\n",
       "       [0.26179938779914963, 0.26179938779914935, 0.6123443307844512,\n",
       "        0.5890486225480862],\n",
       "       [1.0035643198967392, 0.589048622548086, 0.9584519960104453,\n",
       "        0.7853981633974483],\n",
       "       [0.39269908169872425, 0.45814892864851153, 0.7720863301195253,\n",
       "        0.8508480103472356],\n",
       "       [0.3054326190990077, 0.0, 0.6655916638961425, 0.5890486225480862],\n",
       "       [0.6981317007977319, 0.6544984694978735, 0.8519573297870625,\n",
       "        0.9162978572970231],\n",
       "       [0.74176493209759, 0.13089969389957481, 0.7987099966753711,\n",
       "        0.5890486225480862],\n",
       "       [0.7853981633974481, 0.589048622548086, 0.9850756625662911,\n",
       "        0.8508480103472356],\n",
       "       [0.5672320068981569, 0.589048622548086, 0.6922153304519884,\n",
       "        0.7853981633974483],\n",
       "       [1.0471975511965976, 0.7199483164476609, 0.905204662898754,\n",
       "        0.8508480103472356],\n",
       "       [0.5672320068981569, 0.6544984694978735, 0.9318283294545996,\n",
       "        0.9162978572970231],\n",
       "       [0.6544984694978735, 0.45814892864851153, 0.8253336632312167,\n",
       "        0.5890486225480862],\n",
       "       [0.8290313946973066, 0.13089969389957481, 0.9318283294545996,\n",
       "        0.9162978572970231],\n",
       "       [0.5672320068981569, 0.32724923474893675, 0.7720863301195253,\n",
       "        0.6544984694978736],\n",
       "       [0.6981317007977319, 0.7853981633974483, 1.0116993291221368,\n",
       "        1.1126473981463851],\n",
       "       [0.7853981633974481, 0.5235987755982987, 0.7987099966753711,\n",
       "        0.7853981633974483],\n",
       "       [0.8726646259971647, 0.32724923474893675, 1.0383229956779825,\n",
       "        0.9162978572970231],\n",
       "       [0.7853981633974481, 0.5235987755982987, 0.9850756625662911,\n",
       "        0.7199483164476609],\n",
       "       [0.9162978572970231, 0.589048622548086, 0.8785809963429082,\n",
       "        0.7853981633974483],\n",
       "       [1.0035643198967392, 0.6544984694978735, 0.905204662898754,\n",
       "        0.8508480103472356],\n",
       "       [1.0908307824964558, 0.5235987755982987, 1.0116993291221368,\n",
       "        0.8508480103472356],\n",
       "       [1.0471975511965976, 0.6544984694978735, 1.0649466622338282,\n",
       "        1.0471975511965976],\n",
       "       [0.74176493209759, 0.589048622548086, 0.9318283294545996,\n",
       "        0.9162978572970231],\n",
       "       [0.6108652381980154, 0.39269908169872414, 0.6655916638961425,\n",
       "        0.5890486225480862],\n",
       "       [0.5235987755982988, 0.26179938779914935, 0.7454626635636796,\n",
       "        0.6544984694978736],\n",
       "       [0.5235987755982988, 0.26179938779914935, 0.718838997007834,\n",
       "        0.5890486225480862],\n",
       "       [0.6544984694978735, 0.45814892864851153, 0.7720863301195253,\n",
       "        0.7199483164476609],\n",
       "       [0.74176493209759, 0.45814892864851153, 1.0915703287896739,\n",
       "        0.9817477042468103],\n",
       "       [0.8726646259971647, 0.8508480103472355, 1.331183327792285,\n",
       "        1.5707963267948966],\n",
       "       [0.6544984694978735, 0.45814892864851153, 1.0915703287896739,\n",
       "        1.1780972450961724],\n",
       "       [1.2217304763960304, 0.6544984694978735, 1.3045596612364396,\n",
       "        1.3089969389957472],\n",
       "       [0.8726646259971647, 0.589048622548086, 1.2246886615689023,\n",
       "        1.1126473981463851],\n",
       "       [0.9599310885968811, 0.6544984694978735, 1.2779359946805937,\n",
       "        1.3744467859455347],\n",
       "       [1.4398966328953215, 0.6544984694978735, 1.4909253271273593,\n",
       "        1.3089969389957472],\n",
       "       [0.26179938779914963, 0.32724923474893675, 0.9318283294545996,\n",
       "        1.0471975511965976],\n",
       "       [1.308996938995747, 0.589048622548086, 1.4110543274598222,\n",
       "        1.1126473981463851],\n",
       "       [1.0471975511965976, 0.32724923474893675, 1.2779359946805937,\n",
       "        1.1126473981463851],\n",
       "       [1.265363707695889, 1.0471975511965976, 1.3578069943481308,\n",
       "        1.5707963267948966],\n",
       "       [0.9599310885968811, 0.7853981633974483, 1.0915703287896739,\n",
       "        1.2435470920459597],\n",
       "       [0.9162978572970231, 0.45814892864851153, 1.1448176619013652,\n",
       "        1.1780972450961724],\n",
       "       [1.0908307824964558, 0.6544984694978735, 1.1980649950130566,\n",
       "        1.3089969389957472],\n",
       "       [0.6108652381980154, 0.32724923474893675, 1.0649466622338282,\n",
       "        1.2435470920459597],\n",
       "       [0.6544984694978735, 0.5235987755982987, 1.0915703287896739,\n",
       "        1.505346479845109],\n",
       "       [0.9162978572970231, 0.7853981633974483, 1.1448176619013652,\n",
       "        1.4398966328953218],\n",
       "       [0.9599310885968811, 0.6544984694978735, 1.1980649950130566,\n",
       "        1.1126473981463851],\n",
       "       [1.48352986419518, 1.178097245096172, 1.5175489936832052,\n",
       "        1.3744467859455347],\n",
       "       [1.48352986419518, 0.39269908169872414, 1.5707963267948966,\n",
       "        1.4398966328953218],\n",
       "       [0.74176493209759, 0.13089969389957481, 1.0649466622338282,\n",
       "        0.9162978572970231],\n",
       "       [1.1344640137963142, 0.7853981633974483, 1.251312328124748,\n",
       "        1.4398966328953218],\n",
       "       [0.5672320068981569, 0.5235987755982987, 1.0383229956779825,\n",
       "        1.2435470920459597],\n",
       "       [1.48352986419518, 0.5235987755982987, 1.5175489936832052,\n",
       "        1.2435470920459597],\n",
       "       [0.8726646259971647, 0.45814892864851153, 1.0383229956779825,\n",
       "        1.1126473981463851],\n",
       "       [1.0471975511965976, 0.8508480103472355, 1.251312328124748,\n",
       "        1.3089969389957472],\n",
       "       [1.265363707695889, 0.7853981633974483, 1.331183327792285,\n",
       "        1.1126473981463851],\n",
       "       [0.8290313946973066, 0.5235987755982987, 1.0116993291221368,\n",
       "        1.1126473981463851],\n",
       "       [0.7853981633974481, 0.6544984694978735, 1.0383229956779825,\n",
       "        1.1126473981463851],\n",
       "       [0.9162978572970231, 0.5235987755982987, 1.2246886615689023,\n",
       "        1.3089969389957472],\n",
       "       [1.265363707695889, 0.6544984694978735, 1.2779359946805937,\n",
       "        0.9817477042468103],\n",
       "       [1.3526301702956054, 0.5235987755982987, 1.3578069943481308,\n",
       "        1.1780972450961724],\n",
       "       [1.5707963267948966, 1.178097245096172, 1.437677994015668,\n",
       "        1.2435470920459597],\n",
       "       [0.9162978572970231, 0.5235987755982987, 1.2246886615689023,\n",
       "        1.3744467859455347],\n",
       "       [0.8726646259971647, 0.5235987755982987, 1.0915703287896739,\n",
       "        0.9162978572970231]], dtype=object)"
      ]
     },
     "execution_count": 5,
     "metadata": {},
     "output_type": "execute_result"
    }
   ],
   "source": [
    "#normalise the non-label bit between -2 and 2\n",
    "min_max_norm(iris[:,:4], 0,0.5*math.pi)\n",
    "#print(iris)"
   ]
  },
  {
   "cell_type": "code",
   "execution_count": 7,
   "metadata": {},
   "outputs": [
    {
     "data": {
      "text/plain": [
       "array([1, 1, 1, 1, 1, 1, 1, 1, 1, 1, 1, 1, 1, 1, 1, 1, 1, 1, 1, 1, 1, 1, 1,\n",
       "       1, 1, 1, 1, 1, 1, 1, 1, 1, 2, 2, 2, 2, 2, 2, 2, 2, 2, 2, 2, 2, 2, 2,\n",
       "       2, 2, 2, 2, 2, 2, 2, 2, 2, 2, 2, 2, 2, 2, 2, 2, 2, 2], dtype=object)"
      ]
     },
     "execution_count": 7,
     "metadata": {},
     "output_type": "execute_result"
    }
   ],
   "source": [
    "iris[:64,4]"
   ]
  },
  {
   "cell_type": "markdown",
   "metadata": {},
   "source": [
    "## Create template"
   ]
  },
  {
   "cell_type": "markdown",
   "metadata": {},
   "source": [
    "### first see if i can repeat what they did"
   ]
  },
  {
   "cell_type": "markdown",
   "metadata": {},
   "source": [
    "### Break the data down into encodings"
   ]
  },
  {
   "cell_type": "code",
   "execution_count": 6,
   "metadata": {
    "collapsed": true
   },
   "outputs": [],
   "source": [
    "def initialise_params(no_params):\n",
    "    params=np.zeros(no_params)\n",
    "    for i in range(no_params):\n",
    "        params[i]=(random.random())\n",
    "    params=(2*(params)-1)*math.pi\n",
    "    return params\n",
    "\n",
    "def shuffle_data(data,test_size):\n",
    "    l=[x for x in range(data.shape[0])]\n",
    "    shuffle(l)\n",
    "    data_test=data[l[:test_size],:]\n",
    "    data_train=data[l[test_size:],:]\n",
    "    return data_train,data_test"
   ]
  },
  {
   "cell_type": "code",
   "execution_count": 80,
   "metadata": {},
   "outputs": [
    {
     "data": {
      "text/plain": [
       "array([-1.81093162,  0.36741304, -0.38267027,  1.63891574,  2.31483562,\n",
       "       -0.71406618,  1.79484635,  1.91367474, -1.09125195, -1.08123367])"
      ]
     },
     "execution_count": 80,
     "metadata": {},
     "output_type": "execute_result"
    }
   ],
   "source": [
    "initialise_params(10)"
   ]
  },
  {
   "cell_type": "code",
   "execution_count": 8,
   "metadata": {},
   "outputs": [
    {
     "name": "stdout",
     "output_type": "stream",
     "text": [
      "begin\n",
      "33.6181640625\n",
      "33.6181640625\n",
      "[1, 1.5, 2, 2.5, 3, 3.5, 4]\n"
     ]
    }
   ],
   "source": [
    "data_values=iris[:66,:4]\n",
    "labels=iris[:66,4]-1\n",
    "\n",
    "qp=QuantumProgram()\n",
    "no_qubits=4\n",
    "qr=qp.create_quantum_register('qr',no_qubits)\n",
    "cr = qp.create_classical_register('cr', 1)\n",
    "qc = qp.create_circuit('test', [qr], [cr])\n",
    "params=initialise_params(7)\n",
    "params=[1,1.5,2,2.5,3,3.5,4]\n",
    "single_cost=np.zeros(len(labels))\n",
    "#for k in range(len(labels)):\n",
    "def evaluate_cost(data_values, labels, params):\n",
    "    for k in range(len(labels)):\n",
    "        for j in range(data_values.shape[1]):\n",
    "            qc.ry((2*data_values[k,j]),qr[j])\n",
    "\n",
    "        for j in range(no_qubits):\n",
    "            qc.ry(params[j],qr[j])\n",
    "\n",
    "        qc.cx(qr[0],qr[1])\n",
    "        qc.cx(qr[3],qr[2])\n",
    "        qc.ry(params[no_qubits],qr[1])\n",
    "        qc.ry(params[no_qubits+1],qr[2])\n",
    "        qc.cx(qr[1],qr[2])\n",
    "        qc.ry(params[no_qubits+2],qr[2])\n",
    "        qc.measure(qr[2],cr[0])\n",
    "        result=qp.execute('test')\n",
    "    #    print(result.get_counts('test'))\n",
    "        prob_zero=result[0]['data']['counts']['0']/(result[0]['data']['counts']['1']+result[0]['data']['counts']['0'])\n",
    "\n",
    "        single_cost[k]=abs((1-prob_zero)-labels[k])\n",
    "        if single_cost[k]<0:\n",
    "            print('oops')\n",
    "            print(prob_zero)\n",
    "            print(labels[k])\n",
    "        #print(single_cost[k])\n",
    "    total_cost=np.sum(single_cost)\n",
    "    print(total_cost)\n",
    "    return total_cost\n",
    "print('begin')\n",
    "total_cost=evaluate_cost(data_values, labels, params)\n",
    "\"\"\"repetitions=10\n",
    "while total_cost>0.005:\n",
    "    for l in range(len(params)):\n",
    "        new_params=np.copy(params)\n",
    "        new_params[l]=new_params[l]+0.01\n",
    "        diff=(evaluate_cost(data_values,labels,new_params)-total_cost)/total_cost\n",
    "        params[l]=params[l]+(diff*params[l])\n",
    "        total_cost=evaluate_cost(data_values, labels,params)\n",
    "    print(total_cost)\"\"\"\n",
    "print(total_cost)\n",
    "print(params)"
   ]
  },
  {
   "cell_type": "code",
   "execution_count": 10,
   "metadata": {},
   "outputs": [
    {
     "data": {
      "text/plain": [
       "array([0, 0, 0, 0, 0, 0, 0, 0, 0, 0, 0, 0, 0, 0, 0, 0, 0, 0, 0, 0, 0, 0, 0,\n",
       "       0, 0, 0, 0, 0, 0, 0, 0, 0, 1, 1, 1, 1, 1, 1, 1, 1, 1, 1, 1, 1, 1, 1,\n",
       "       1, 1, 1, 1, 1, 1, 1, 1, 1, 1, 1, 1, 1, 1, 1, 1, 1, 1, 1, 1], dtype=object)"
      ]
     },
     "execution_count": 10,
     "metadata": {},
     "output_type": "execute_result"
    }
   ],
   "source": [
    "from projectq.backends import CircuitDrawer\n"
   ]
  },
  {
   "cell_type": "code",
   "execution_count": null,
   "metadata": {
    "collapsed": true
   },
   "outputs": [],
   "source": [
    "def evaluate_cost(data_values, labels, params):\n",
    "    for k in range(len(labels)):\n",
    "        for j in range(data_values.shape[1]):\n",
    "            qc.ry((2*data_values[k,j]),qr[j])\n",
    "\n",
    "        for j in range(no_qubits):\n",
    "            qc.ry(params[j],qr[j])\n",
    "\n",
    "        qc.cx(qr[0],qr[1])\n",
    "        qc.cx(qr[3],qr[2])\n",
    "        qc.ry(params[no_qubits],qr[1])\n",
    "        qc.ry(params[no_qubits+1],qr[2])\n",
    "        qc.cx(qr[1],qr[2])\n",
    "        qc.ry(params[no_qubits+2],qr[2])\n",
    "        qc.measure(qr[2],cr[0])\n",
    "        result=qp.execute('test')\n",
    "    #    print(result.get_counts('test'))\n",
    "        prob_zero=result[0]['data']['counts']['0']/(result[0]['data']['counts']['1']+result[0]['data']['counts']['0'])\n",
    "\n",
    "        single_cost[k]=(labels[k]*prob_zero)+((1-labels[k])*(1-prob_zero))\n",
    "        if single_cost[k]<0:\n",
    "            print('oops')\n",
    "            print(prob_zero)\n",
    "            print(labels[k])\n",
    "        #print(single_cost[k])\n",
    "    total_cost=np.sum(single_cost)/len(single_cost)\n",
    "    print(total_cost)\n",
    "    return total_cost"
   ]
  },
  {
   "cell_type": "code",
   "execution_count": 104,
   "metadata": {},
   "outputs": [
    {
     "data": {
      "text/plain": [
       "0.45042492917847027"
      ]
     },
     "execution_count": 104,
     "metadata": {},
     "output_type": "execute_result"
    }
   ],
   "source": [
    "result[0]['data']['counts']['0']/result[0]['data']['counts']['1']"
   ]
  },
  {
   "cell_type": "code",
   "execution_count": 120,
   "metadata": {},
   "outputs": [
    {
     "data": {
      "text/plain": [
       "array([-0.11414853, -2.35688228, -1.53606521,  1.56475188, -0.83561083,\n",
       "        0.41547528,  2.76313167])"
      ]
     },
     "execution_count": 120,
     "metadata": {},
     "output_type": "execute_result"
    }
   ],
   "source": [
    "params"
   ]
  },
  {
   "cell_type": "code",
   "execution_count": 122,
   "metadata": {},
   "outputs": [
    {
     "name": "stdout",
     "output_type": "stream",
     "text": [
      "[-0.11414853 -2.35688228 -1.53606521  1.56475188 -0.83561083  0.41547528\n",
      "  2.76313167]\n",
      "[ 1.         -2.35688228 -1.53606521  1.56475188 -0.83561083  0.41547528\n",
      "  2.76313167]\n",
      "[-0.11414853 -2.35688228 -1.53606521  1.56475188 -0.83561083  0.41547528\n",
      "  2.76313167]\n"
     ]
    }
   ],
   "source": [
    "new_params=np.copy(params)\n",
    "print(new_params)\n",
    "new_params[0]=1\n",
    "print(new_params)\n",
    "print(params)"
   ]
  },
  {
   "cell_type": "code",
   "execution_count": 5,
   "metadata": {},
   "outputs": [
    {
     "name": "stdout",
     "output_type": "stream",
     "text": [
      "{'11': 522, '00': 502}\n"
     ]
    }
   ],
   "source": [
    "qp = QuantumProgram()\n",
    "\n",
    "qr = qp.create_quantum_register('qr', 2)\n",
    "cr = qp.create_classical_register('cr', 2)\n",
    "qc = qp.create_circuit('Bell', [qr], [cr])\n",
    "\n",
    "coupling_map = {1:[0,2], 2:[3], 3:[4, 14], 5:[4], 6:[5,7,11], 7:[10], 8:[7],9:[8, 10], 11:[10], 12:[5, 11, 13], 13:[4, 14], 15:[0, 2, 14]}\n",
    "\n",
    "qc.h(qr.ry[0])\n",
    "qc.h(qr[0])\n",
    "qc.cx(qr[0], qr[1])\n",
    "qc.measure(qr[0], cr[0])\n",
    "qc.measure(qr[1], cr[1])\n",
    "\n",
    "#result = qp.execute('Bell')\n",
    "#print(result.get_counts('Bell'))"
   ]
  },
  {
   "cell_type": "code",
   "execution_count": 10,
   "metadata": {
    "scrolled": true
   },
   "outputs": [
    {
     "data": {
      "text/plain": [
       "4"
      ]
     },
     "execution_count": 10,
     "metadata": {},
     "output_type": "execute_result"
    }
   ],
   "source": [
    "coupling_map = {1:[0,2], 2:[3], 3:[4, 14], 5:[4], 6:[5,7,11], 7:[10], 8:[7],9:[8, 10], 11:[10], 12:[5, 11, 13], 13:[4, 14], 15:[0, 2, 14]}\n",
    "coupling_map[3]"
   ]
  },
  {
   "cell_type": "code",
   "execution_count": null,
   "metadata": {
    "collapsed": true
   },
   "outputs": [],
   "source": [
    "# Import the QISKit SDK\n",
    "\n",
    "\n",
    "# Create a Quantum Register with 2 qubits\n",
    "q = QuantumRegister(2)\n",
    "# Create a Classical Register with 2 bits.\n",
    "c = ClassicalRegister(2)\n",
    "# Create a Quantum Circuit\n",
    "qc = QuantumCircuit(q, c)\n",
    "\n",
    "# Add a H gate on qubit 0, putting this qubit in superposition.\n",
    "qc.h(q[0])\n",
    "# Add a CX (CNOT) gate on control qubit 0 and target qubit 1, putting\n",
    "# the qubits in a Bell state.\n",
    "qc.cx(q[0], q[1])\n",
    "# Add a Measure gate to see the state.\n",
    "qc.measure(q, c)\n",
    "print(\"Local backends: \", available_backends({'local': True}))\n",
    "\n",
    "# Compile and run the Quantum circuit on a simulator backend\n",
    "sim_result = execute(qc, 'local_qasm_simulator')\n",
    "print(\"simulation: \", sim_result)\n",
    "print(sim_result.get_counts(qc))"
   ]
  },
  {
   "cell_type": "code",
   "execution_count": 5,
   "metadata": {},
   "outputs": [
    {
     "ename": "ImportError",
     "evalue": "No module named 'cuncsd_sq'",
     "output_type": "error",
     "traceback": [
      "\u001b[1;31m---------------------------------------------------------------------------\u001b[0m",
      "\u001b[1;31mImportError\u001b[0m                               Traceback (most recent call last)",
      "\u001b[1;32m<ipython-input-5-52fcf098250b>\u001b[0m in \u001b[0;36m<module>\u001b[1;34m()\u001b[0m\n\u001b[1;32m----> 1\u001b[1;33m \u001b[1;32mimport\u001b[0m \u001b[0mcuncsd_sq\u001b[0m \u001b[1;32mas\u001b[0m \u001b[0mcsd\u001b[0m\u001b[1;33m\u001b[0m\u001b[0m\n\u001b[0m",
      "\u001b[1;31mImportError\u001b[0m: No module named 'cuncsd_sq'"
     ]
    }
   ],
   "source": [
    "import cuncsd_sq as csd"
   ]
  },
  {
   "cell_type": "code",
   "execution_count": null,
   "metadata": {
    "collapsed": true
   },
   "outputs": [],
   "source": []
  }
 ],
 "metadata": {
  "kernelspec": {
   "display_name": "Python 3",
   "language": "python",
   "name": "python3"
  },
  "language_info": {
   "codemirror_mode": {
    "name": "ipython",
    "version": 3
   },
   "file_extension": ".py",
   "mimetype": "text/x-python",
   "name": "python",
   "nbconvert_exporter": "python",
   "pygments_lexer": "ipython3",
   "version": "3.5.3"
  }
 },
 "nbformat": 4,
 "nbformat_minor": 2
}
